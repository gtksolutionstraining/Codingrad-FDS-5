{
 "cells": [
  {
   "cell_type": "code",
   "execution_count": 10,
   "id": "74d9744d-b674-4665-9b3c-7fe9e4a43b73",
   "metadata": {},
   "outputs": [],
   "source": [
    "def add(*args):\n",
    "    print(args)\n",
    "    return sum(args)"
   ]
  },
  {
   "cell_type": "code",
   "execution_count": 5,
   "id": "8216faed-4b71-4159-9743-1ed57a3598ca",
   "metadata": {},
   "outputs": [
    {
     "data": {
      "text/plain": [
       "1"
      ]
     },
     "execution_count": 5,
     "metadata": {},
     "output_type": "execute_result"
    }
   ],
   "source": [
    "add(1)"
   ]
  },
  {
   "cell_type": "code",
   "execution_count": 6,
   "id": "d3c5e451-78b1-4d67-be77-a027dbf29314",
   "metadata": {},
   "outputs": [
    {
     "data": {
      "text/plain": [
       "3"
      ]
     },
     "execution_count": 6,
     "metadata": {},
     "output_type": "execute_result"
    }
   ],
   "source": [
    "add(1,2)"
   ]
  },
  {
   "cell_type": "code",
   "execution_count": 32,
   "id": "157d3cd5-246c-4f7c-b53c-45d7794de4b9",
   "metadata": {},
   "outputs": [],
   "source": [
    "def stayInTirupati(a,b,c,*args,d): ## BY default all arguments after *args are keyword only arguments\n",
    "    print(a,b,c,args,d)"
   ]
  },
  {
   "cell_type": "code",
   "execution_count": 35,
   "id": "92c5e651-dc97-4b99-8a72-2c3d4a3aba80",
   "metadata": {},
   "outputs": [
    {
     "ename": "TypeError",
     "evalue": "stayInTirupati() missing 1 required keyword-only argument: 'd'",
     "output_type": "error",
     "traceback": [
      "\u001b[0;31m---------------------------------------------------------------------------\u001b[0m",
      "\u001b[0;31mTypeError\u001b[0m                                 Traceback (most recent call last)",
      "Cell \u001b[0;32mIn[35], line 1\u001b[0m\n\u001b[0;32m----> 1\u001b[0m \u001b[43mstayInTirupati\u001b[49m\u001b[43m(\u001b[49m\u001b[38;5;241;43m1\u001b[39;49m\u001b[43m,\u001b[49m\u001b[38;5;241;43m2\u001b[39;49m\u001b[43m,\u001b[49m\u001b[38;5;241;43m3\u001b[39;49m\u001b[43m,\u001b[49m\u001b[38;5;241;43m4\u001b[39;49m\u001b[43m,\u001b[49m\u001b[38;5;241;43m6\u001b[39;49m\u001b[43m,\u001b[49m\u001b[38;5;241;43m7\u001b[39;49m\u001b[43m)\u001b[49m\n",
      "\u001b[0;31mTypeError\u001b[0m: stayInTirupati() missing 1 required keyword-only argument: 'd'"
     ]
    }
   ],
   "source": [
    "stayInTirupati(1,2,3,4,6,7)"
   ]
  },
  {
   "cell_type": "code",
   "execution_count": 22,
   "id": "9bcb8057-8613-41aa-a1e1-1606e1ac3fe9",
   "metadata": {},
   "outputs": [
    {
     "ename": "TypeError",
     "evalue": "add() got an unexpected keyword argument 'a'",
     "output_type": "error",
     "traceback": [
      "\u001b[0;31m---------------------------------------------------------------------------\u001b[0m",
      "\u001b[0;31mTypeError\u001b[0m                                 Traceback (most recent call last)",
      "Cell \u001b[0;32mIn[22], line 1\u001b[0m\n\u001b[0;32m----> 1\u001b[0m \u001b[43madd\u001b[49m\u001b[43m(\u001b[49m\u001b[38;5;241;43m2\u001b[39;49m\u001b[43m,\u001b[49m\u001b[43ma\u001b[49m\u001b[38;5;241;43m=\u001b[39;49m\u001b[38;5;241;43m2\u001b[39;49m\u001b[43m)\u001b[49m\n",
      "\u001b[0;31mTypeError\u001b[0m: add() got an unexpected keyword argument 'a'"
     ]
    }
   ],
   "source": [
    "add(2,a=2)"
   ]
  },
  {
   "cell_type": "code",
   "execution_count": 7,
   "id": "b2d5435d-f6ad-4b37-bd74-bc3e9fb3ad2f",
   "metadata": {},
   "outputs": [
    {
     "data": {
      "text/plain": [
       "37"
      ]
     },
     "execution_count": 7,
     "metadata": {},
     "output_type": "execute_result"
    }
   ],
   "source": [
    "add(1,2,34)"
   ]
  },
  {
   "cell_type": "code",
   "execution_count": 16,
   "id": "9b44ac51-479e-4286-8421-d51b3a8554e6",
   "metadata": {},
   "outputs": [
    {
     "name": "stdout",
     "output_type": "stream",
     "text": [
      "(1, 2)\n"
     ]
    },
    {
     "data": {
      "text/plain": [
       "3"
      ]
     },
     "execution_count": 16,
     "metadata": {},
     "output_type": "execute_result"
    }
   ],
   "source": [
    "add(1,2)"
   ]
  },
  {
   "cell_type": "code",
   "execution_count": null,
   "id": "c8b4df35-2d36-4b9a-848c-ff220ec88a8e",
   "metadata": {},
   "outputs": [],
   "source": [
    "add((1,2))"
   ]
  },
  {
   "cell_type": "code",
   "execution_count": 14,
   "id": "90440f4a-1d61-4b7f-b3d4-51dc8db329ca",
   "metadata": {},
   "outputs": [
    {
     "ename": "TypeError",
     "evalue": "unsupported operand type(s) for +: 'int' and 'tuple'",
     "output_type": "error",
     "traceback": [
      "\u001b[0;31m---------------------------------------------------------------------------\u001b[0m",
      "\u001b[0;31mTypeError\u001b[0m                                 Traceback (most recent call last)",
      "Cell \u001b[0;32mIn[14], line 1\u001b[0m\n\u001b[0;32m----> 1\u001b[0m \u001b[38;5;28;43msum\u001b[39;49m\u001b[43m(\u001b[49m\u001b[43m(\u001b[49m\u001b[43m(\u001b[49m\u001b[38;5;241;43m1\u001b[39;49m\u001b[43m,\u001b[49m\u001b[43m \u001b[49m\u001b[38;5;241;43m2\u001b[39;49m\u001b[43m)\u001b[49m\u001b[43m,\u001b[49m\u001b[43m)\u001b[49m\u001b[43m)\u001b[49m\n",
      "\u001b[0;31mTypeError\u001b[0m: unsupported operand type(s) for +: 'int' and 'tuple'"
     ]
    }
   ],
   "source": [
    "sum(((1, 2),))"
   ]
  },
  {
   "cell_type": "code",
   "execution_count": 48,
   "id": "4c72325a-be77-4bb8-88db-88f9b5914704",
   "metadata": {},
   "outputs": [
    {
     "ename": "SyntaxError",
     "evalue": "arguments cannot follow var-keyword argument (2229702856.py, line 1)",
     "output_type": "error",
     "traceback": [
      "\u001b[0;36m  Cell \u001b[0;32mIn[48], line 1\u001b[0;36m\u001b[0m\n\u001b[0;31m    def display(a,b,**kwargs,c): ## You have pass arguments as keyword only\u001b[0m\n\u001b[0m                             ^\u001b[0m\n\u001b[0;31mSyntaxError\u001b[0m\u001b[0;31m:\u001b[0m arguments cannot follow var-keyword argument\n"
     ]
    }
   ],
   "source": [
    "def display(a,b,**kwargs,c): ## You have pass arguments as keyword only\n",
    "    print(kwargs)"
   ]
  },
  {
   "cell_type": "code",
   "execution_count": 47,
   "id": "952d74b1-57ca-4e69-827a-46526dbf9bb6",
   "metadata": {},
   "outputs": [
    {
     "name": "stdout",
     "output_type": "stream",
     "text": [
      "{'c': 3}\n"
     ]
    }
   ],
   "source": [
    "display(1,2,c=3)"
   ]
  },
  {
   "cell_type": "code",
   "execution_count": 19,
   "id": "4902350c-7cd2-4abb-af37-bb6d61219864",
   "metadata": {},
   "outputs": [
    {
     "name": "stdout",
     "output_type": "stream",
     "text": [
      "{'tharun': 0, 'b': 1, 'c': 0}\n"
     ]
    }
   ],
   "source": [
    "display(tharun=0,b=1,c=0)"
   ]
  },
  {
   "cell_type": "markdown",
   "id": "c728901c-73c8-4c5a-a59d-aca51cb8d00e",
   "metadata": {},
   "source": [
    "# Complex Functions\n",
    "- Generator\n",
    "- Decorator"
   ]
  },
  {
   "cell_type": "code",
   "execution_count": 49,
   "id": "41cddf71-a9b8-4d36-a416-a2f680e166b3",
   "metadata": {},
   "outputs": [],
   "source": [
    "data = [\"batch\"]*8"
   ]
  },
  {
   "cell_type": "code",
   "execution_count": 68,
   "id": "933b6799-1e8e-45d6-a454-317ba8dae761",
   "metadata": {},
   "outputs": [
    {
     "data": {
      "text/plain": [
       "['batch', 'batch', 'batch', 'batch', 'batch', 'batch', 'batch', 'batch']"
      ]
     },
     "execution_count": 68,
     "metadata": {},
     "output_type": "execute_result"
    }
   ],
   "source": [
    "data"
   ]
  },
  {
   "cell_type": "code",
   "execution_count": 52,
   "id": "3d471a52-61c1-4682-8395-78c4a6ed38ef",
   "metadata": {},
   "outputs": [
    {
     "name": "stdout",
     "output_type": "stream",
     "text": [
      "batch\n",
      "batch\n",
      "batch\n",
      "batch\n",
      "batch\n",
      "batch\n",
      "batch\n",
      "batch\n"
     ]
    }
   ],
   "source": [
    "for batch in data:\n",
    "    print(batch)"
   ]
  },
  {
   "cell_type": "code",
   "execution_count": 64,
   "id": "6d877e4d-324d-49a7-8d86-4f85b9025b16",
   "metadata": {},
   "outputs": [],
   "source": [
    "def get_batch(data):\n",
    "    return data"
   ]
  },
  {
   "cell_type": "code",
   "execution_count": 65,
   "id": "e4b20cde-d620-4ba5-889e-c62e52750456",
   "metadata": {},
   "outputs": [
    {
     "data": {
      "text/plain": [
       "['batch', 'batch', 'batch', 'batch', 'batch', 'batch', 'batch', 'batch']"
      ]
     },
     "execution_count": 65,
     "metadata": {},
     "output_type": "execute_result"
    }
   ],
   "source": [
    "get_batch(data)"
   ]
  },
  {
   "cell_type": "code",
   "execution_count": 69,
   "id": "4cad0747-c1e8-41c8-8e9d-b98b862d1026",
   "metadata": {},
   "outputs": [],
   "source": [
    "def get_batch(data):\n",
    "    for batch in data:\n",
    "        yield batch"
   ]
  },
  {
   "cell_type": "code",
   "execution_count": 70,
   "id": "880c4df5-df93-462a-9b1e-16d97b751996",
   "metadata": {},
   "outputs": [],
   "source": [
    "gen = get_batch(data) ## generator object has been created (Is an iterable object)"
   ]
  },
  {
   "cell_type": "code",
   "execution_count": 89,
   "id": "7705a751-ad36-4fb6-a6ce-f30038122d10",
   "metadata": {},
   "outputs": [],
   "source": [
    "## All database retrieval objects are iterable objects\n",
    "## mysql, postgresql, mongodb\n",
    "## zip, and enumerate are also iterable objects"
   ]
  },
  {
   "cell_type": "code",
   "execution_count": 71,
   "id": "79f081d8-0d36-4bda-a832-fba3025fe32d",
   "metadata": {},
   "outputs": [
    {
     "data": {
      "text/plain": [
       "'batch'"
      ]
     },
     "execution_count": 71,
     "metadata": {},
     "output_type": "execute_result"
    }
   ],
   "source": [
    "next(gen)"
   ]
  },
  {
   "cell_type": "code",
   "execution_count": 56,
   "id": "5613fd2c-0f80-4a14-8e8b-251514a3b367",
   "metadata": {},
   "outputs": [
    {
     "data": {
      "text/plain": [
       "'batch'"
      ]
     },
     "execution_count": 56,
     "metadata": {},
     "output_type": "execute_result"
    }
   ],
   "source": [
    "next(gen)"
   ]
  },
  {
   "cell_type": "code",
   "execution_count": 57,
   "id": "5e9a3da4-fb3e-4aca-a762-efe3507af3af",
   "metadata": {},
   "outputs": [
    {
     "data": {
      "text/plain": [
       "'batch'"
      ]
     },
     "execution_count": 57,
     "metadata": {},
     "output_type": "execute_result"
    }
   ],
   "source": [
    "next(gen)"
   ]
  },
  {
   "cell_type": "code",
   "execution_count": 58,
   "id": "737df44d-eeaa-4a1f-b3a4-907c60108985",
   "metadata": {},
   "outputs": [
    {
     "data": {
      "text/plain": [
       "'batch'"
      ]
     },
     "execution_count": 58,
     "metadata": {},
     "output_type": "execute_result"
    }
   ],
   "source": [
    "next(gen)"
   ]
  },
  {
   "cell_type": "code",
   "execution_count": 59,
   "id": "19a3a733-ef8a-4e32-8076-c88b6115f8b0",
   "metadata": {},
   "outputs": [
    {
     "data": {
      "text/plain": [
       "'batch'"
      ]
     },
     "execution_count": 59,
     "metadata": {},
     "output_type": "execute_result"
    }
   ],
   "source": [
    "next(gen)"
   ]
  },
  {
   "cell_type": "code",
   "execution_count": 60,
   "id": "489bbc69-deb0-4874-abe2-346d102ce168",
   "metadata": {},
   "outputs": [
    {
     "data": {
      "text/plain": [
       "'batch'"
      ]
     },
     "execution_count": 60,
     "metadata": {},
     "output_type": "execute_result"
    }
   ],
   "source": [
    "next(gen)"
   ]
  },
  {
   "cell_type": "code",
   "execution_count": 61,
   "id": "f8f01236-7e78-4246-befb-f4a923cf25ea",
   "metadata": {},
   "outputs": [
    {
     "data": {
      "text/plain": [
       "'batch'"
      ]
     },
     "execution_count": 61,
     "metadata": {},
     "output_type": "execute_result"
    }
   ],
   "source": [
    "next(gen)"
   ]
  },
  {
   "cell_type": "code",
   "execution_count": 62,
   "id": "ed4b224c-a7d6-4663-98db-ebe24afb9b53",
   "metadata": {},
   "outputs": [
    {
     "data": {
      "text/plain": [
       "'batch'"
      ]
     },
     "execution_count": 62,
     "metadata": {},
     "output_type": "execute_result"
    }
   ],
   "source": [
    "next(gen)"
   ]
  },
  {
   "cell_type": "code",
   "execution_count": 63,
   "id": "c24648e7-ba20-469e-8b65-af1b2648ee07",
   "metadata": {},
   "outputs": [
    {
     "ename": "StopIteration",
     "evalue": "",
     "output_type": "error",
     "traceback": [
      "\u001b[0;31m---------------------------------------------------------------------------\u001b[0m",
      "\u001b[0;31mStopIteration\u001b[0m                             Traceback (most recent call last)",
      "Cell \u001b[0;32mIn[63], line 1\u001b[0m\n\u001b[0;32m----> 1\u001b[0m \u001b[38;5;28;43mnext\u001b[39;49m\u001b[43m(\u001b[49m\u001b[43mgen\u001b[49m\u001b[43m)\u001b[49m\n",
      "\u001b[0;31mStopIteration\u001b[0m: "
     ]
    }
   ],
   "source": [
    "next(gen)"
   ]
  },
  {
   "cell_type": "code",
   "execution_count": 75,
   "id": "e6fb99ed-2a38-4b5b-909d-46b38f42c47b",
   "metadata": {},
   "outputs": [],
   "source": [
    "lis = list(range(0,10))"
   ]
  },
  {
   "cell_type": "code",
   "execution_count": 76,
   "id": "b246d1c1-d69f-4260-b214-494a08a31b18",
   "metadata": {},
   "outputs": [
    {
     "data": {
      "text/plain": [
       "[0, 1, 2, 3, 4, 5, 6, 7, 8, 9]"
      ]
     },
     "execution_count": 76,
     "metadata": {},
     "output_type": "execute_result"
    }
   ],
   "source": [
    "lis"
   ]
  },
  {
   "cell_type": "code",
   "execution_count": 77,
   "id": "2a2d3384-f61a-44dc-ab49-6d664ea61395",
   "metadata": {},
   "outputs": [
    {
     "ename": "TypeError",
     "evalue": "'list' object is not an iterator",
     "output_type": "error",
     "traceback": [
      "\u001b[0;31m---------------------------------------------------------------------------\u001b[0m",
      "\u001b[0;31mTypeError\u001b[0m                                 Traceback (most recent call last)",
      "Cell \u001b[0;32mIn[77], line 1\u001b[0m\n\u001b[0;32m----> 1\u001b[0m \u001b[38;5;28;43mnext\u001b[39;49m\u001b[43m(\u001b[49m\u001b[43mlis\u001b[49m\u001b[43m)\u001b[49m\n",
      "\u001b[0;31mTypeError\u001b[0m: 'list' object is not an iterator"
     ]
    }
   ],
   "source": [
    "next(lis)"
   ]
  },
  {
   "cell_type": "code",
   "execution_count": 79,
   "id": "b59f8dbe-5c3f-4737-8dde-f4d2e9d25e86",
   "metadata": {},
   "outputs": [],
   "source": [
    "d = zip(lis)"
   ]
  },
  {
   "cell_type": "code",
   "execution_count": 84,
   "id": "7f76d03e-79c3-4d00-b5d8-dcc2c04095ab",
   "metadata": {},
   "outputs": [],
   "source": [
    "d = enumerate(lis)"
   ]
  },
  {
   "cell_type": "code",
   "execution_count": 85,
   "id": "c5c9ab9e-5c67-4f51-8a9b-18d11d375734",
   "metadata": {},
   "outputs": [
    {
     "data": {
      "text/plain": [
       "(0, 0)"
      ]
     },
     "execution_count": 85,
     "metadata": {},
     "output_type": "execute_result"
    }
   ],
   "source": [
    "next(d)"
   ]
  },
  {
   "cell_type": "code",
   "execution_count": 86,
   "id": "fd82cd8a-fa3f-4e2c-be9a-510684c4923f",
   "metadata": {},
   "outputs": [
    {
     "data": {
      "text/plain": [
       "(1, 1)"
      ]
     },
     "execution_count": 86,
     "metadata": {},
     "output_type": "execute_result"
    }
   ],
   "source": [
    "next(d)"
   ]
  },
  {
   "cell_type": "code",
   "execution_count": 87,
   "id": "863ae6e7-09f4-4868-aa9a-5837630a5604",
   "metadata": {},
   "outputs": [
    {
     "data": {
      "text/plain": [
       "(2, 2)"
      ]
     },
     "execution_count": 87,
     "metadata": {},
     "output_type": "execute_result"
    }
   ],
   "source": [
    "next(d)"
   ]
  },
  {
   "cell_type": "code",
   "execution_count": 90,
   "id": "5f621b89-c603-4ab0-a89d-bca68eb78073",
   "metadata": {},
   "outputs": [],
   "source": [
    "#Time Complexity"
   ]
  },
  {
   "cell_type": "code",
   "execution_count": null,
   "id": "7701aac6-c772-4e68-90ff-90e5f709c7e7",
   "metadata": {},
   "outputs": [],
   "source": []
  },
  {
   "cell_type": "code",
   "execution_count": 110,
   "id": "bff948b1-d1d0-4361-9529-3bac7d8f6fc8",
   "metadata": {},
   "outputs": [],
   "source": [
    "def timeit(func):\n",
    "    def call(*args,**kwargs):\n",
    "        print(\"Inside the decorator\")\n",
    "        first = time.time()\n",
    "        print(f\"Before calling actual function time is {first}\")\n",
    "        func(*args)\n",
    "        second = time.time()\n",
    "        print(f\"After calling actual function time is {second}\")\n",
    "        print(f\"Time took for the function is {second-first}\")\n",
    "        return\n",
    "    return call"
   ]
  },
  {
   "cell_type": "code",
   "execution_count": 118,
   "id": "16bd4fbf-dee5-4cef-baa5-3e5b85dea7bb",
   "metadata": {},
   "outputs": [],
   "source": [
    "@timeit\n",
    "def add1(a,b):\n",
    "    print(f\"Sum of {a},{b} is: {sum((a,b))}\")"
   ]
  },
  {
   "cell_type": "code",
   "execution_count": 115,
   "id": "2f4fd551-a594-4127-bac2-2bf783596872",
   "metadata": {},
   "outputs": [],
   "source": [
    "@timeit\n",
    "def add(a,b,c):\n",
    "    print(f\"Sum of {a},{b},{c} is: {sum((a,b,c))}\")"
   ]
  },
  {
   "cell_type": "code",
   "execution_count": 116,
   "id": "59c66200-b674-407c-8168-96d5d8124446",
   "metadata": {},
   "outputs": [
    {
     "name": "stdout",
     "output_type": "stream",
     "text": [
      "Inside the decorator\n",
      "Before calling actual function time is 1699886067.822124\n",
      "Sum of 1,2,3 is: 6\n",
      "After calling actual function time is 1699886067.822156\n",
      "Time took for the function is 3.1948089599609375e-05\n"
     ]
    }
   ],
   "source": [
    "add(1,2,3)"
   ]
  },
  {
   "cell_type": "code",
   "execution_count": 119,
   "id": "e4562210-c30d-43ab-aca7-6fcfe01b4823",
   "metadata": {},
   "outputs": [
    {
     "name": "stdout",
     "output_type": "stream",
     "text": [
      "Inside the decorator\n",
      "Before calling actual function time is 1699886073.992649\n",
      "Sum of 1,2 is: 3\n",
      "After calling actual function time is 1699886073.992681\n",
      "Time took for the function is 3.1948089599609375e-05\n"
     ]
    }
   ],
   "source": [
    "add1(1,2)"
   ]
  },
  {
   "cell_type": "code",
   "execution_count": 92,
   "id": "4210acb2-8a5e-4ce4-91be-044634653540",
   "metadata": {},
   "outputs": [],
   "source": [
    "import time"
   ]
  },
  {
   "cell_type": "code",
   "execution_count": 95,
   "id": "e5e5c181-7dbf-4f18-af7b-16afeb7ef430",
   "metadata": {},
   "outputs": [],
   "source": [
    "first = time.time()"
   ]
  },
  {
   "cell_type": "code",
   "execution_count": 96,
   "id": "efb9424d-e156-4596-8f1e-8b5d197299f4",
   "metadata": {},
   "outputs": [],
   "source": [
    "second = time.time()"
   ]
  },
  {
   "cell_type": "code",
   "execution_count": 97,
   "id": "94d8fbe3-c1b6-419c-9618-4f0761b1a12f",
   "metadata": {},
   "outputs": [
    {
     "data": {
      "text/plain": [
       "0.1785118579864502"
      ]
     },
     "execution_count": 97,
     "metadata": {},
     "output_type": "execute_result"
    }
   ],
   "source": [
    "second-first"
   ]
  },
  {
   "cell_type": "code",
   "execution_count": null,
   "id": "1658cb47-5708-4300-9fae-511890d5dc2e",
   "metadata": {},
   "outputs": [],
   "source": []
  }
 ],
 "metadata": {
  "kernelspec": {
   "display_name": "Python 3 (ipykernel)",
   "language": "python",
   "name": "python3"
  },
  "language_info": {
   "codemirror_mode": {
    "name": "ipython",
    "version": 3
   },
   "file_extension": ".py",
   "mimetype": "text/x-python",
   "name": "python",
   "nbconvert_exporter": "python",
   "pygments_lexer": "ipython3",
   "version": "3.11.3"
  }
 },
 "nbformat": 4,
 "nbformat_minor": 5
}
