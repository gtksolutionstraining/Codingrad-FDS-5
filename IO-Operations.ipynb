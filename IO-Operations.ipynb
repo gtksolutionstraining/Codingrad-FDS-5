{
 "cells": [
  {
   "cell_type": "markdown",
   "id": "8458aa9b-be5e-44cc-9313-81e66c7c60d3",
   "metadata": {},
   "source": [
    "# input/output\n",
    "- standard output --> print\n",
    "- standard input --> input\n",
    "# print\n",
    "- print function will take an argument of type string\n",
    "- we can pass a formatted string to the print function\n",
    "- There are many ways to format a string\n",
    "- fstrings as formatted string for print\n",
    "# input\n",
    "- input function will take a string\n",
    "- this string is a prompt that we are providing to the user\n",
    "- The inputted value for the input function will be stored in a variable for which we are assigning\n",
    "- The inputted value will be read by CPU as string only."
   ]
  },
  {
   "cell_type": "code",
   "execution_count": 2,
   "id": "37b019c9-76ae-4b5e-bd97-dcb65b67ccb8",
   "metadata": {},
   "outputs": [
    {
     "name": "stdout",
     "output_type": "stream",
     "text": [
      "Hello World!\n"
     ]
    }
   ],
   "source": [
    "print(\"Hello World!\")"
   ]
  },
  {
   "cell_type": "code",
   "execution_count": 1,
   "id": "ff9750d4-2ffe-437e-bb62-524a05ed69be",
   "metadata": {},
   "outputs": [
    {
     "name": "stdout",
     "output_type": "stream",
     "text": [
      "sdkjhvsdkvsdkhcbks sdjfvsdkbvs sdhvsdhcvsd shvsdcvsd scdhvcsdjhcvsd\n"
     ]
    }
   ],
   "source": [
    "print(\"sdkjhvsdkvsdkhcbks sdjfvsdkbvs sdhvsdhcvsd shvsdcvsd scdhvcsdjhcvsd\")"
   ]
  },
  {
   "cell_type": "code",
   "execution_count": 4,
   "id": "959593d3-6e9e-4a92-be6b-c8a7ba5060de",
   "metadata": {},
   "outputs": [],
   "source": [
    "name = \"Vinod\""
   ]
  },
  {
   "cell_type": "code",
   "execution_count": 6,
   "id": "e9dde9f6-68bf-4143-9760-ab47572abd4e",
   "metadata": {},
   "outputs": [],
   "source": [
    "age = 25"
   ]
  },
  {
   "cell_type": "code",
   "execution_count": 17,
   "id": "65e7052d-6eb4-440b-8343-70d7b7cc0e7d",
   "metadata": {},
   "outputs": [],
   "source": [
    "skills = {'CPP','Python','DSA'}"
   ]
  },
  {
   "cell_type": "code",
   "execution_count": 7,
   "id": "8d77a90b-aa98-4d26-80b7-243bfeaa826e",
   "metadata": {},
   "outputs": [
    {
     "data": {
      "text/plain": [
       "int"
      ]
     },
     "execution_count": 7,
     "metadata": {},
     "output_type": "execute_result"
    }
   ],
   "source": [
    "type(age)"
   ]
  },
  {
   "cell_type": "code",
   "execution_count": 14,
   "id": "1f97dde7-9f01-4781-b986-7ab4a7de58d2",
   "metadata": {},
   "outputs": [
    {
     "name": "stdout",
     "output_type": "stream",
     "text": [
      "I am Vinod and my age is 25, I've following skills: {'DSA', 'Python', 'CPP'}\n"
     ]
    }
   ],
   "source": [
    "print(f\"I am {name} and my age is {age}, I've following skills: {skills}\")"
   ]
  },
  {
   "cell_type": "code",
   "execution_count": 20,
   "id": "72797653-47c5-44de-a444-b41d582f83aa",
   "metadata": {},
   "outputs": [
    {
     "name": "stdout",
     "output_type": "stream",
     "text": [
      "I am  Vinod and my age is 25 , I've following skills:  {'DSA', 'Python', 'CPP'}\n"
     ]
    }
   ],
   "source": [
    "print(\"I am \",name,\"and my age is\",age,\", I've following skills: \",skills)"
   ]
  },
  {
   "cell_type": "code",
   "execution_count": 29,
   "id": "6822171b-1f3c-46be-84b6-1f8c5d95cf72",
   "metadata": {},
   "outputs": [
    {
     "name": "stdin",
     "output_type": "stream",
     "text": [
      "Enter your name Tharun\n"
     ]
    }
   ],
   "source": [
    "name = input(\"Enter your name\")"
   ]
  },
  {
   "cell_type": "code",
   "execution_count": 30,
   "id": "7de59da7-685d-4804-a464-6f3291c3f162",
   "metadata": {},
   "outputs": [
    {
     "name": "stdin",
     "output_type": "stream",
     "text": [
      "Enter your age 26\n"
     ]
    }
   ],
   "source": [
    "age = input(\"Enter your age\")"
   ]
  },
  {
   "cell_type": "code",
   "execution_count": 32,
   "id": "3079431b-af56-40c6-b14e-adbb974f7689",
   "metadata": {},
   "outputs": [
    {
     "name": "stdin",
     "output_type": "stream",
     "text": [
      "Enter your skills:  ['DSA','Python','CPP']\n"
     ]
    }
   ],
   "source": [
    "skills = input(\"Enter your skills: \")"
   ]
  },
  {
   "cell_type": "code",
   "execution_count": 31,
   "id": "89f5e235-4d6c-4d22-ab77-ff08dd2ed8ab",
   "metadata": {},
   "outputs": [
    {
     "data": {
      "text/plain": [
       "str"
      ]
     },
     "execution_count": 31,
     "metadata": {},
     "output_type": "execute_result"
    }
   ],
   "source": [
    "type(age)"
   ]
  },
  {
   "cell_type": "code",
   "execution_count": 34,
   "id": "027cf2f1-d4df-46da-bd28-7a545f9e5891",
   "metadata": {},
   "outputs": [
    {
     "data": {
      "text/plain": [
       "str"
      ]
     },
     "execution_count": 34,
     "metadata": {},
     "output_type": "execute_result"
    }
   ],
   "source": [
    "type(skills)"
   ]
  },
  {
   "cell_type": "code",
   "execution_count": 35,
   "id": "1a5b6372-d2d9-4a2f-b7c2-3c04aad02295",
   "metadata": {},
   "outputs": [
    {
     "data": {
      "text/plain": [
       "\"['DSA','Python','CPP']\""
      ]
     },
     "execution_count": 35,
     "metadata": {},
     "output_type": "execute_result"
    }
   ],
   "source": [
    "skills"
   ]
  },
  {
   "cell_type": "code",
   "execution_count": 33,
   "id": "2f471a2c-1ac5-431d-99c1-7e0adfbf84b3",
   "metadata": {},
   "outputs": [
    {
     "name": "stdout",
     "output_type": "stream",
     "text": [
      "I am Tharun and my age is 26, I've following skills: ['DSA','Python','CPP']\n"
     ]
    }
   ],
   "source": [
    "print(f\"I am {name} and my age is {age}, I've following skills: {skills}\")"
   ]
  },
  {
   "cell_type": "code",
   "execution_count": null,
   "id": "c03c8ad5-33b7-46f7-822c-14d316ac3183",
   "metadata": {},
   "outputs": [],
   "source": []
  }
 ],
 "metadata": {
  "kernelspec": {
   "display_name": "Python 3 (ipykernel)",
   "language": "python",
   "name": "python3"
  },
  "language_info": {
   "codemirror_mode": {
    "name": "ipython",
    "version": 3
   },
   "file_extension": ".py",
   "mimetype": "text/x-python",
   "name": "python",
   "nbconvert_exporter": "python",
   "pygments_lexer": "ipython3",
   "version": "3.11.3"
  }
 },
 "nbformat": 4,
 "nbformat_minor": 5
}
