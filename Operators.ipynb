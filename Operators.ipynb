{
 "cells": [
  {
   "cell_type": "markdown",
   "id": "b67cc74e-2be9-459c-9273-ac7420728717",
   "metadata": {},
   "source": [
    "# Operators\n",
    "- Assignment Operator *=*\n",
    "- Arithmetic Operators *+,-,\\*, \\/*\n",
    "- Membership Operator *.* --> Memebership operator is used to access member functions of a module\n",
    "- Dynamic Membership Operator *->* , Python doesn't support, C++, Java supports.\n",
    "- Indexing Operator *[]* --> Indexing operator is used to extract elements of a sequence by using an index"
   ]
  },
  {
   "cell_type": "code",
   "execution_count": null,
   "id": "5bd81a7f-464b-4ae6-b808-61a93741f56d",
   "metadata": {},
   "outputs": [],
   "source": []
  }
 ],
 "metadata": {
  "kernelspec": {
   "display_name": "Python 3 (ipykernel)",
   "language": "python",
   "name": "python3"
  },
  "language_info": {
   "codemirror_mode": {
    "name": "ipython",
    "version": 3
   },
   "file_extension": ".py",
   "mimetype": "text/x-python",
   "name": "python",
   "nbconvert_exporter": "python",
   "pygments_lexer": "ipython3",
   "version": "3.11.3"
  }
 },
 "nbformat": 4,
 "nbformat_minor": 5
}
