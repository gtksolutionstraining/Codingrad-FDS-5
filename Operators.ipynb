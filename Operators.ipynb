{
 "cells": [
  {
   "cell_type": "markdown",
   "id": "b67cc74e-2be9-459c-9273-ac7420728717",
   "metadata": {},
   "source": [
    "# Operators\n",
    "- Assignment Operator *=*\n",
    "- Arithmetic Operators *+,-,\\*, \\/, %,//*\n",
    "- % --> It will give u a reminder of the division\n",
    "- // --> It will give u coefficient of the divion\n",
    "- Membership Operator *.* --> Memebership operator is used to access member functions of a module\n",
    "- Dynamic Membership Operator *->* , Python doesn't support, C++, Java supports.\n",
    "- Indexing Operator/Accessing Operator *[]* --> Indexing operator is used to extract elements of a sequence by using an index\n",
    "- Shift Operators <<,>>\n",
    "- Left Shift --> multiplies by 2 and also usefull for power of 2\n",
    "- Right Shift --> divides by 2 and also usefull for divinding with power of 2\n",
    "- ** --> Power operator\n",
    "- Implicit Operators --> -=, +=, /=, *="
   ]
  },
  {
   "cell_type": "markdown",
   "id": "976af7eb-e28e-464d-aa23-ec421f254246",
   "metadata": {},
   "source": [
    "# Logical Operators\n",
    "- Binary Operator -- and, or,\n",
    "- Unary Operator -- not \n",
    "# Comparision Operators\n",
    "- Binary Operators -- <, >, <=, >=, !=, ==\n",
    "- The output of the comparision operator is either True or False\n",
    "# Condition -> True or False\n",
    "- Truth Table and/or/not\n",
    "- Comparision operator will do a comparision of 2 operators and returns either true or false\n",
    "- Condition --> Boolean, Logical Operation, conditional operation, mix of all "
   ]
  },
  {
   "cell_type": "markdown",
   "id": "e4efb6b2-0ff0-4a8e-bba3-d319b5e89525",
   "metadata": {},
   "source": [
    "# Operator Overloading\n",
    "- '+' -->\n",
    "- If you give 2 integers --> it is mathematical addition\n",
    "- If you give 2 strings --> it is string concatenation\n",
    "- If you give 2 lists --> it is list concatenation\n",
    "- '-' -->\n",
    "- If you give 2 integer/floats --> it is mathematical substraction\n",
    "- If you give 2 sets --> it is set difference"
   ]
  },
  {
   "cell_type": "markdown",
   "id": "27eaf6db-dc72-4a6b-91ae-c0bb2c7a2216",
   "metadata": {},
   "source": [
    "# Operator Precedence\n",
    "- () Higher in Priority\n",
    "- Unary Operators\n",
    "- Binary Arthimetic Operators\n",
    "- Binary Logical Operators\n",
    "- Binary Comparision Operators"
   ]
  },
  {
   "cell_type": "code",
   "execution_count": 1,
   "id": "d7602d9b-1294-40f6-87b2-116b530e9b80",
   "metadata": {},
   "outputs": [],
   "source": [
    "a = 1\n",
    "b = 1"
   ]
  },
  {
   "cell_type": "code",
   "execution_count": 2,
   "id": "dc80470f-4b60-45b1-a6b2-057170834dda",
   "metadata": {},
   "outputs": [
    {
     "data": {
      "text/plain": [
       "2"
      ]
     },
     "execution_count": 2,
     "metadata": {},
     "output_type": "execute_result"
    }
   ],
   "source": [
    "a+b"
   ]
  },
  {
   "cell_type": "code",
   "execution_count": 3,
   "id": "4dc4a5a6-ef21-41fb-a7fc-46cf7a2d6c70",
   "metadata": {},
   "outputs": [],
   "source": [
    "a = '1'\n",
    "b = '1'"
   ]
  },
  {
   "cell_type": "code",
   "execution_count": 4,
   "id": "253fb5d7-1853-4529-824a-7cf737e209d2",
   "metadata": {},
   "outputs": [
    {
     "data": {
      "text/plain": [
       "'11'"
      ]
     },
     "execution_count": 4,
     "metadata": {},
     "output_type": "execute_result"
    }
   ],
   "source": [
    "a+b"
   ]
  },
  {
   "cell_type": "code",
   "execution_count": 1,
   "id": "ec43edac-96f2-4ae7-8e92-3987f0f17a05",
   "metadata": {},
   "outputs": [],
   "source": [
    "a = 1\n",
    "b = 2"
   ]
  },
  {
   "cell_type": "code",
   "execution_count": 2,
   "id": "71f44955-300c-4e81-a726-4f352d1cd178",
   "metadata": {},
   "outputs": [
    {
     "data": {
      "text/plain": [
       "2"
      ]
     },
     "execution_count": 2,
     "metadata": {},
     "output_type": "execute_result"
    }
   ],
   "source": [
    "a and b"
   ]
  },
  {
   "cell_type": "code",
   "execution_count": 3,
   "id": "b14e0941-ab8b-4264-9baa-8c36a2e40160",
   "metadata": {},
   "outputs": [],
   "source": [
    "a = True\n",
    "b = False"
   ]
  },
  {
   "cell_type": "code",
   "execution_count": 4,
   "id": "63636135-82e8-4e63-adc6-e9b3c45c7966",
   "metadata": {},
   "outputs": [
    {
     "data": {
      "text/plain": [
       "False"
      ]
     },
     "execution_count": 4,
     "metadata": {},
     "output_type": "execute_result"
    }
   ],
   "source": [
    "a and b"
   ]
  },
  {
   "cell_type": "code",
   "execution_count": 5,
   "id": "3adfd8e4-b23c-4bde-aecc-bf72b56f33b1",
   "metadata": {},
   "outputs": [],
   "source": [
    "a = True\n",
    "b = True"
   ]
  },
  {
   "cell_type": "code",
   "execution_count": 6,
   "id": "6666c1fc-c77a-47e2-88a9-68bef6f547c9",
   "metadata": {},
   "outputs": [
    {
     "data": {
      "text/plain": [
       "True"
      ]
     },
     "execution_count": 6,
     "metadata": {},
     "output_type": "execute_result"
    }
   ],
   "source": [
    "a and b"
   ]
  },
  {
   "cell_type": "code",
   "execution_count": 7,
   "id": "fc080c3e-67ea-48eb-a4c2-b4b62221a824",
   "metadata": {},
   "outputs": [
    {
     "data": {
      "text/plain": [
       "True"
      ]
     },
     "execution_count": 7,
     "metadata": {},
     "output_type": "execute_result"
    }
   ],
   "source": [
    "a or b"
   ]
  },
  {
   "cell_type": "code",
   "execution_count": 8,
   "id": "d70cd7b9-2aac-41a5-b728-b1f787c3001e",
   "metadata": {},
   "outputs": [
    {
     "data": {
      "text/plain": [
       "False"
      ]
     },
     "execution_count": 8,
     "metadata": {},
     "output_type": "execute_result"
    }
   ],
   "source": [
    "not a"
   ]
  },
  {
   "cell_type": "code",
   "execution_count": 21,
   "id": "3f637930-a5df-42de-8a38-db703c92d74a",
   "metadata": {},
   "outputs": [],
   "source": [
    "a = 1\n",
    "b = 2"
   ]
  },
  {
   "cell_type": "code",
   "execution_count": 22,
   "id": "e288b637-69e6-4d0d-967e-cd2ccf57fc6c",
   "metadata": {},
   "outputs": [
    {
     "data": {
      "text/plain": [
       "True"
      ]
     },
     "execution_count": 22,
     "metadata": {},
     "output_type": "execute_result"
    }
   ],
   "source": [
    "a < b"
   ]
  },
  {
   "cell_type": "code",
   "execution_count": 27,
   "id": "cd4643f0-551a-4b36-b744-020375fc47a1",
   "metadata": {},
   "outputs": [
    {
     "data": {
      "text/plain": [
       "False"
      ]
     },
     "execution_count": 27,
     "metadata": {},
     "output_type": "execute_result"
    }
   ],
   "source": [
    "a == b"
   ]
  },
  {
   "cell_type": "code",
   "execution_count": 29,
   "id": "d0ce7113-3ce5-483d-a3dd-6ca952efee00",
   "metadata": {},
   "outputs": [
    {
     "data": {
      "text/plain": [
       "True"
      ]
     },
     "execution_count": 29,
     "metadata": {},
     "output_type": "execute_result"
    }
   ],
   "source": [
    "## 3 CPU Clocks\n",
    "(2 % (-2)) == 0"
   ]
  },
  {
   "cell_type": "code",
   "execution_count": null,
   "id": "999fdd9f-b4aa-4068-8f84-68895e976f55",
   "metadata": {},
   "outputs": [],
   "source": []
  },
  {
   "cell_type": "code",
   "execution_count": null,
   "id": "b7ec3e9a-49a6-4fd0-b358-463408d45136",
   "metadata": {},
   "outputs": [],
   "source": []
  },
  {
   "cell_type": "code",
   "execution_count": null,
   "id": "9197ad6b-a034-46de-838f-c04794d4920d",
   "metadata": {},
   "outputs": [],
   "source": []
  },
  {
   "cell_type": "code",
   "execution_count": null,
   "id": "12358a5e-bb11-426b-92ef-1f77a3173e0d",
   "metadata": {},
   "outputs": [],
   "source": []
  },
  {
   "cell_type": "code",
   "execution_count": 9,
   "id": "e2b7502a-dd1a-44c3-aa61-649f3f455c8e",
   "metadata": {},
   "outputs": [],
   "source": [
    "a = 1"
   ]
  },
  {
   "cell_type": "code",
   "execution_count": 11,
   "id": "793ddbde-fac6-437f-a34d-12ff6625da13",
   "metadata": {},
   "outputs": [
    {
     "data": {
      "text/plain": [
       "2"
      ]
     },
     "execution_count": 11,
     "metadata": {},
     "output_type": "execute_result"
    }
   ],
   "source": [
    "b = a << 1\n",
    "b"
   ]
  },
  {
   "cell_type": "code",
   "execution_count": 18,
   "id": "ba83eccf-ca85-401c-88a4-c699f605b345",
   "metadata": {},
   "outputs": [
    {
     "data": {
      "text/plain": [
       "32"
      ]
     },
     "execution_count": 18,
     "metadata": {},
     "output_type": "execute_result"
    }
   ],
   "source": [
    "a = 1\n",
    "b = a << 5\n",
    "b"
   ]
  },
  {
   "cell_type": "code",
   "execution_count": 19,
   "id": "0d326603-1bdb-4865-918d-385409a88458",
   "metadata": {},
   "outputs": [
    {
     "data": {
      "text/plain": [
       "32"
      ]
     },
     "execution_count": 19,
     "metadata": {},
     "output_type": "execute_result"
    }
   ],
   "source": [
    "pow(2,5)"
   ]
  },
  {
   "cell_type": "code",
   "execution_count": 12,
   "id": "304ecc51-5ce7-4144-ac80-e8de6b440bc2",
   "metadata": {},
   "outputs": [
    {
     "data": {
      "text/plain": [
       "4"
      ]
     },
     "execution_count": 12,
     "metadata": {},
     "output_type": "execute_result"
    }
   ],
   "source": [
    "c = b << 1\n",
    "c"
   ]
  },
  {
   "cell_type": "code",
   "execution_count": 17,
   "id": "56ecc09e-c63b-4b0d-a98a-2c74b71d1681",
   "metadata": {},
   "outputs": [
    {
     "data": {
      "text/plain": [
       "8"
      ]
     },
     "execution_count": 17,
     "metadata": {},
     "output_type": "execute_result"
    }
   ],
   "source": [
    "e = c << 1\n",
    "e"
   ]
  },
  {
   "cell_type": "code",
   "execution_count": 20,
   "id": "6d1cddb5-0129-4d12-bc49-07b7043f6a89",
   "metadata": {},
   "outputs": [
    {
     "data": {
      "text/plain": [
       "4"
      ]
     },
     "execution_count": 20,
     "metadata": {},
     "output_type": "execute_result"
    }
   ],
   "source": [
    "f = e >> 1\n",
    "f"
   ]
  },
  {
   "cell_type": "code",
   "execution_count": 13,
   "id": "57474a61-dbad-4db0-9923-b959849ee85b",
   "metadata": {},
   "outputs": [
    {
     "data": {
      "text/plain": [
       "2"
      ]
     },
     "execution_count": 13,
     "metadata": {},
     "output_type": "execute_result"
    }
   ],
   "source": [
    "d = c >> 1\n",
    "d"
   ]
  },
  {
   "cell_type": "code",
   "execution_count": 14,
   "id": "b47fbfcb-bed8-4ac2-893e-c46dc2f7db40",
   "metadata": {},
   "outputs": [
    {
     "data": {
      "text/plain": [
       "2"
      ]
     },
     "execution_count": 14,
     "metadata": {},
     "output_type": "execute_result"
    }
   ],
   "source": [
    "pow(2,1)"
   ]
  },
  {
   "cell_type": "code",
   "execution_count": 15,
   "id": "784aaecf-2e7d-489b-a6aa-bf60530c0a37",
   "metadata": {},
   "outputs": [
    {
     "data": {
      "text/plain": [
       "4"
      ]
     },
     "execution_count": 15,
     "metadata": {},
     "output_type": "execute_result"
    }
   ],
   "source": [
    "pow(2,2)"
   ]
  },
  {
   "cell_type": "code",
   "execution_count": 16,
   "id": "6e4d0631-bbeb-4305-854d-36a3f6d3b1b5",
   "metadata": {},
   "outputs": [
    {
     "data": {
      "text/plain": [
       "8"
      ]
     },
     "execution_count": 16,
     "metadata": {},
     "output_type": "execute_result"
    }
   ],
   "source": [
    "pow(2,3)"
   ]
  },
  {
   "cell_type": "code",
   "execution_count": 1,
   "id": "d2b0b179-ec3f-4c6e-be94-02a1c89c6343",
   "metadata": {},
   "outputs": [],
   "source": [
    "a = 2"
   ]
  },
  {
   "cell_type": "code",
   "execution_count": 2,
   "id": "b820567e-9c97-4327-8094-ddf75fd9d95b",
   "metadata": {},
   "outputs": [
    {
     "data": {
      "text/plain": [
       "4"
      ]
     },
     "execution_count": 2,
     "metadata": {},
     "output_type": "execute_result"
    }
   ],
   "source": [
    "2**2"
   ]
  },
  {
   "cell_type": "code",
   "execution_count": 3,
   "id": "5aca928a-beea-449e-9649-d7bf1fb00705",
   "metadata": {},
   "outputs": [
    {
     "data": {
      "text/plain": [
       "8"
      ]
     },
     "execution_count": 3,
     "metadata": {},
     "output_type": "execute_result"
    }
   ],
   "source": [
    "2**3"
   ]
  },
  {
   "cell_type": "code",
   "execution_count": null,
   "id": "f9096411-ca81-4c6a-a527-893441108dc7",
   "metadata": {},
   "outputs": [],
   "source": []
  }
 ],
 "metadata": {
  "kernelspec": {
   "display_name": "Python 3 (ipykernel)",
   "language": "python",
   "name": "python3"
  },
  "language_info": {
   "codemirror_mode": {
    "name": "ipython",
    "version": 3
   },
   "file_extension": ".py",
   "mimetype": "text/x-python",
   "name": "python",
   "nbconvert_exporter": "python",
   "pygments_lexer": "ipython3",
   "version": "3.11.3"
  }
 },
 "nbformat": 4,
 "nbformat_minor": 5
}
