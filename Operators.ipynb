{
 "cells": [
  {
   "cell_type": "markdown",
   "id": "b67cc74e-2be9-459c-9273-ac7420728717",
   "metadata": {},
   "source": [
    "# Operators\n",
    "- Assignment Operator *=*\n",
    "- Arithmetic Operators *+,-,\\*, \\/*\n",
    "- Membership Operator *.* --> Memebership operator is used to access member functions of a module\n",
    "- Dynamic Membership Operator *->* , Python doesn't support, C++, Java supports.\n",
    "- Indexing Operator *[]* --> Indexing operator is used to extract elements of a sequence by using an index"
   ]
  },
  {
   "cell_type": "markdown",
   "id": "e4efb6b2-0ff0-4a8e-bba3-d319b5e89525",
   "metadata": {},
   "source": [
    "# Operator Overloading\n",
    "- '+' -->\n",
    "- If you give 2 integers --> it is mathematical addition\n",
    "- If you give 2 strings --> it is string concatenation\n",
    "- If you give 2 lists --> it is list concatenation"
   ]
  },
  {
   "cell_type": "code",
   "execution_count": 1,
   "id": "d7602d9b-1294-40f6-87b2-116b530e9b80",
   "metadata": {},
   "outputs": [],
   "source": [
    "a = 1\n",
    "b = 1"
   ]
  },
  {
   "cell_type": "code",
   "execution_count": 2,
   "id": "dc80470f-4b60-45b1-a6b2-057170834dda",
   "metadata": {},
   "outputs": [
    {
     "data": {
      "text/plain": [
       "2"
      ]
     },
     "execution_count": 2,
     "metadata": {},
     "output_type": "execute_result"
    }
   ],
   "source": [
    "a+b"
   ]
  },
  {
   "cell_type": "code",
   "execution_count": 3,
   "id": "4dc4a5a6-ef21-41fb-a7fc-46cf7a2d6c70",
   "metadata": {},
   "outputs": [],
   "source": [
    "a = '1'\n",
    "b = '1'"
   ]
  },
  {
   "cell_type": "code",
   "execution_count": 4,
   "id": "253fb5d7-1853-4529-824a-7cf737e209d2",
   "metadata": {},
   "outputs": [
    {
     "data": {
      "text/plain": [
       "'11'"
      ]
     },
     "execution_count": 4,
     "metadata": {},
     "output_type": "execute_result"
    }
   ],
   "source": [
    "a+b"
   ]
  },
  {
   "cell_type": "code",
   "execution_count": null,
   "id": "ec43edac-96f2-4ae7-8e92-3987f0f17a05",
   "metadata": {},
   "outputs": [],
   "source": []
  }
 ],
 "metadata": {
  "kernelspec": {
   "display_name": "Python 3 (ipykernel)",
   "language": "python",
   "name": "python3"
  },
  "language_info": {
   "codemirror_mode": {
    "name": "ipython",
    "version": 3
   },
   "file_extension": ".py",
   "mimetype": "text/x-python",
   "name": "python",
   "nbconvert_exporter": "python",
   "pygments_lexer": "ipython3",
   "version": "3.11.3"
  }
 },
 "nbformat": 4,
 "nbformat_minor": 5
}
