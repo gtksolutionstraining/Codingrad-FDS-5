{
 "cells": [
  {
   "cell_type": "markdown",
   "id": "bf7a5478-6cd5-4513-b3d7-862347de33e1",
   "metadata": {},
   "source": [
    "# Control Structures\n",
    "- Conditional Statements\n",
    "- if, else, elif\n",
    "- Repeated Execution\n",
    "- for, foreach, inline forloop, while\n",
    "- Functions"
   ]
  },
  {
   "cell_type": "markdown",
   "id": "eace233f-2c18-4416-9fef-d569806b0304",
   "metadata": {},
   "source": [
    "- Expression --> This involves any of all operators and operands\n",
    "- Statement --> If the expression is assigned to a variable or default constructs (conditions, loops, function, classes, context)\n",
    "- For the default constructs Code block\n",
    "- All these default constructs will have code blocks\n",
    "- Code block --> Is a collection of statements"
   ]
  },
  {
   "cell_type": "code",
   "execution_count": 1,
   "id": "f4bbdd3e-4a2d-43cf-9bc0-34a33635924c",
   "metadata": {},
   "outputs": [
    {
     "data": {
      "text/plain": [
       "65"
      ]
     },
     "execution_count": 1,
     "metadata": {},
     "output_type": "execute_result"
    }
   ],
   "source": [
    "65"
   ]
  },
  {
   "cell_type": "code",
   "execution_count": 9,
   "id": "531a8786-e19a-4495-9bc4-fe8d40d75fbb",
   "metadata": {},
   "outputs": [],
   "source": [
    "a = 5"
   ]
  },
  {
   "cell_type": "code",
   "execution_count": 7,
   "id": "286d4246-2970-4f68-abc4-f88701a2338f",
   "metadata": {},
   "outputs": [
    {
     "name": "stdout",
     "output_type": "stream",
     "text": [
      "\n"
     ]
    }
   ],
   "source": [
    "with open('sample.txt') as f:\n",
    "    data = f.read()\n",
    "    print(data)\n",
    " # sdjcbnsd\n",
    " # djhdfbsdhcb"
   ]
  },
  {
   "cell_type": "code",
   "execution_count": 3,
   "id": "a463d24f-2f6a-45c9-844c-bce77ce7d94a",
   "metadata": {},
   "outputs": [
    {
     "data": {
      "text/plain": [
       "2.5"
      ]
     },
     "execution_count": 3,
     "metadata": {},
     "output_type": "execute_result"
    }
   ],
   "source": [
    "a/2"
   ]
  },
  {
   "cell_type": "code",
   "execution_count": 7,
   "id": "99ab2dc5-f2c1-479e-a9ba-ad7f2037fe88",
   "metadata": {},
   "outputs": [
    {
     "data": {
      "text/plain": [
       "1"
      ]
     },
     "execution_count": 7,
     "metadata": {},
     "output_type": "execute_result"
    }
   ],
   "source": [
    "a % 2"
   ]
  },
  {
   "cell_type": "code",
   "execution_count": 8,
   "id": "b902d91d-fc28-47f8-a906-45f8a8847b09",
   "metadata": {},
   "outputs": [
    {
     "data": {
      "text/plain": [
       "2"
      ]
     },
     "execution_count": 8,
     "metadata": {},
     "output_type": "execute_result"
    }
   ],
   "source": [
    "a // 2"
   ]
  },
  {
   "cell_type": "code",
   "execution_count": 11,
   "id": "17ec154b-23b9-467d-a513-085d261cfe55",
   "metadata": {},
   "outputs": [
    {
     "name": "stdout",
     "output_type": "stream",
     "text": [
      "Odd\n"
     ]
    }
   ],
   "source": [
    "if a % 2 == 0:\n",
    "    print(\"Even\")\n",
    "    print(\"sdfhjvbsdghfvsd\")\n",
    "else:\n",
    "    print(\"Odd\")"
   ]
  },
  {
   "cell_type": "code",
   "execution_count": 13,
   "id": "8e21ce29-1209-484d-ac12-da19fee13066",
   "metadata": {},
   "outputs": [],
   "source": [
    "#given a number -,+,0"
   ]
  },
  {
   "cell_type": "code",
   "execution_count": 1,
   "id": "da1495d8-bdb7-4e2d-ad75-b914d0a9b496",
   "metadata": {},
   "outputs": [],
   "source": [
    "a = 5"
   ]
  },
  {
   "cell_type": "code",
   "execution_count": 15,
   "id": "8d4f93bb-116d-43b0-aeff-cead630786cd",
   "metadata": {},
   "outputs": [
    {
     "name": "stdout",
     "output_type": "stream",
     "text": [
      "a is +ve\n"
     ]
    }
   ],
   "source": [
    "if a > 0:\n",
    "    print(f\"a is +ve\")\n",
    "elif a < 0:\n",
    "    print(f\"a is -ve\")\n",
    "else:\n",
    "    print(f\"a is 0\")"
   ]
  },
  {
   "cell_type": "code",
   "execution_count": 2,
   "id": "9822ee7f-f825-4550-900a-9c5d4234dd97",
   "metadata": {},
   "outputs": [
    {
     "name": "stdout",
     "output_type": "stream",
     "text": [
      "a is +ve\n",
      "This will execute for sure\n"
     ]
    }
   ],
   "source": [
    "if a > 0:\n",
    "    print(f\"a is +ve\")\n",
    "elif a < 0:\n",
    "    print(f\"a is -ve\")\n",
    "elif a == 0:\n",
    "    print(f\"a is 0\")\n",
    "print(\"This will execute for sure\")"
   ]
  },
  {
   "cell_type": "code",
   "execution_count": null,
   "id": "ff33cbeb-6037-4e2c-9365-d3b69d86d0e9",
   "metadata": {},
   "outputs": [],
   "source": [
    "if <condition>:\n",
    "    if <condition>:\n",
    "        pass\n",
    "    elif <condition>:\n",
    "        pass\n",
    "    else:\n",
    "        pass\n",
    "else:\n",
    "    if <condition>:\n",
    "        pass\n",
    "    else:\n",
    "        pass"
   ]
  },
  {
   "cell_type": "markdown",
   "id": "4f5d228d-5920-4bb6-9f5b-be67cd5ef9cd",
   "metadata": {},
   "source": [
    "# For Loops:\n",
    "- Normal for loop\n",
    "- For Each Loop\n",
    "- for - else\n",
    "- for-loops are inefficient\n",
    "- the number of iterations in the forloop --> that many no of CPU clocks will be used sequenctially\n",
    "- Iterative flow\n",
    "- One task should be done iteratively\n",
    "- if this iterative process involves each element in the iterable object\n",
    "- 2 types of iterative process\n",
    "- 1. You know the no of iterations --> using no of iterations we can do the task\n",
    "  2. You know the no of iterations --> using range of iteratiosn we can use a collection do the task\n",
    "  3. You don't know the no of iterations but you have an iterable object so that you can do the task using each element of the iterable object --> for-each loop\n",
    "- The range of iterations starting from 0\n",
    "- range() --> [start_no, end_no)\n",
    "- range() --> default you can give only end_no\n",
    "- range() --> [start, end, step)\n",
    "- for-else --> in for loop if we didn't break the for loop, else condition after the for loop will be executed all the time\n",
    "- for-else --> in for loop if we have break and it got trigger, then else will not execute\n",
    "- inline-for loop --> one line for-loop. This will be used to generate a list"
   ]
  },
  {
   "cell_type": "code",
   "execution_count": 9,
   "id": "a8d6f0d9-2472-408d-ae6b-3f79ceb2cd85",
   "metadata": {},
   "outputs": [
    {
     "data": {
      "text/plain": [
       "[1, 3, 5, 7, 9]"
      ]
     },
     "execution_count": 9,
     "metadata": {},
     "output_type": "execute_result"
    }
   ],
   "source": [
    "list(range(1,10,2))"
   ]
  },
  {
   "cell_type": "code",
   "execution_count": 12,
   "id": "7d6fbee0-b0b8-487a-8027-ab3cebba4acf",
   "metadata": {},
   "outputs": [
    {
     "name": "stdout",
     "output_type": "stream",
     "text": [
      "Iteration no 't': Hello World!\n",
      "Iteration no 'h': Hello World!\n",
      "Iteration no 'a': Hello World!\n",
      "Iteration no 'r': Hello World!\n",
      "Iteration no 'u': Hello World!\n",
      "Iteration no 'n': Hello World!\n",
      "Iteration no 'k': Hello World!\n",
      "Iteration no 'u': Hello World!\n",
      "Iteration no 'm': Hello World!\n",
      "Iteration no 'a': Hello World!\n",
      "Iteration no 'r': Hello World!\n"
     ]
    }
   ],
   "source": [
    "for i in \"tharunkumar\":\n",
    "    print(f\"Iteration no '{i}': Hello World!\")"
   ]
  },
  {
   "cell_type": "code",
   "execution_count": 13,
   "id": "45b82f70-1d2a-47d4-91e5-81205c418ecb",
   "metadata": {},
   "outputs": [
    {
     "name": "stdout",
     "output_type": "stream",
     "text": [
      "0: Hello World!\n",
      "1: Hello World!\n",
      "2: Hello World!\n",
      "3: Hello World!\n",
      "4: Hello World!\n",
      "5: Hello World!\n",
      "6: Hello World!\n",
      "7: Hello World!\n",
      "8: Hello World!\n",
      "9: Hello World!\n"
     ]
    }
   ],
   "source": [
    "for i in range(10):\n",
    "    print(f\"{i}: Hello World!\")"
   ]
  },
  {
   "cell_type": "code",
   "execution_count": null,
   "id": "337c74a0-acc1-4182-ae02-b190f189fbf8",
   "metadata": {},
   "outputs": [],
   "source": []
  },
  {
   "cell_type": "code",
   "execution_count": 19,
   "id": "74c0b423-0532-49e0-a13d-62948018ce2e",
   "metadata": {},
   "outputs": [],
   "source": [
    "students = [\"Ramesh\",\"Rakesh\",\"Rajesh\",\"Rama\",\"Sita\",\"Raju\"]"
   ]
  },
  {
   "cell_type": "code",
   "execution_count": 23,
   "id": "18306f33-1a26-4404-b990-b4c96ff69a01",
   "metadata": {},
   "outputs": [
    {
     "name": "stdout",
     "output_type": "stream",
     "text": [
      "Raju Found\n"
     ]
    }
   ],
   "source": [
    "for i in range(len(students)):\n",
    "    if students[i] == \"Raju\":\n",
    "        print(\"Raju Found\")\n",
    "        break\n",
    "else:\n",
    "    print(\"Raju didn't found\")"
   ]
  },
  {
   "cell_type": "code",
   "execution_count": null,
   "id": "f17cee7b-7450-44d8-8289-9f02e45c465d",
   "metadata": {},
   "outputs": [],
   "source": []
  },
  {
   "cell_type": "code",
   "execution_count": null,
   "id": "0b37668b-a051-4347-a12f-ceef3a95a5a9",
   "metadata": {},
   "outputs": [],
   "source": []
  },
  {
   "cell_type": "code",
   "execution_count": 20,
   "id": "e14c55fc-96e2-4d3e-95a3-fa4854e2c30d",
   "metadata": {},
   "outputs": [
    {
     "name": "stdout",
     "output_type": "stream",
     "text": [
      "Yes Found in step 3\n"
     ]
    }
   ],
   "source": [
    "if students[0] == \"Raju\":\n",
    "    print(\"Yes Found in step 1\")\n",
    "elif students[1] == \"Raju\":\n",
    "    print(\"Yes Found in step 2\")\n",
    "elif students[2] == \"Raju\":\n",
    "    print(\"Yes Found in step 3\")"
   ]
  },
  {
   "cell_type": "code",
   "execution_count": 21,
   "id": "565101ff-fbee-40ba-b592-73c92dde0e0d",
   "metadata": {},
   "outputs": [
    {
     "name": "stdout",
     "output_type": "stream",
     "text": [
      "Raju Found\n"
     ]
    }
   ],
   "source": [
    "## for-each\n",
    "for ele in students:\n",
    "    if ele == \"Raju\":\n",
    "        print(\"Raju Found\")\n",
    "        break\n",
    "else:\n",
    "    print(\"Raju not Found\")"
   ]
  },
  {
   "cell_type": "code",
   "execution_count": 24,
   "id": "e257d43b-fe03-4740-a98b-e73403d3c97d",
   "metadata": {},
   "outputs": [],
   "source": [
    "## find an element and expose the index of the element"
   ]
  },
  {
   "cell_type": "code",
   "execution_count": 49,
   "id": "2b0c9c4c-38a6-4c2d-820c-edc1bbe291d9",
   "metadata": {},
   "outputs": [],
   "source": [
    "students.append(\"Ramesh\")"
   ]
  },
  {
   "cell_type": "code",
   "execution_count": 50,
   "id": "f444eed6-a9bb-4ae3-a57f-2c7180c26e05",
   "metadata": {},
   "outputs": [
    {
     "data": {
      "text/plain": [
       "['Ramesh', 'Rakesh', 'Rajesh', 'Rama', 'Sita', 'Raju', 'Ramesh']"
      ]
     },
     "execution_count": 50,
     "metadata": {},
     "output_type": "execute_result"
    }
   ],
   "source": [
    "students"
   ]
  },
  {
   "cell_type": "markdown",
   "id": "821e035e-3649-4b1d-8358-f0fecc3fb385",
   "metadata": {},
   "source": [
    "# Time Complexity\n",
    "- Time taken by the computer to compute the logic\n",
    "- CPU Clocks\n",
    "- Any one for loops is determined by 2 ways --> Best Time Compexity Omega, Worst Time Complexity Big O\n",
    "- The total no of iterations --> n\n",
    "- Worst Case --> O(n)\n",
    "- Time Complexity of a for loop with m no of iterations and a for loop inside the for loop with n no of iterations. Then time complexity of the for loop is O(n**2)\n",
    "- For 3 nested for loops we have O(n**3)"
   ]
  },
  {
   "cell_type": "code",
   "execution_count": 38,
   "id": "86cb0fba-66f2-464d-ba50-8d60ee0ea873",
   "metadata": {},
   "outputs": [],
   "source": [
    "for student in students:\n",
    "    if student == \"Tharun\":\n",
    "        print(\"Ramesh Found\")"
   ]
  },
  {
   "cell_type": "code",
   "execution_count": 41,
   "id": "c2230783-9e34-4752-9b56-e7dfee255aa4",
   "metadata": {},
   "outputs": [],
   "source": [
    "## Early Stopping\n",
    "for student in students:\n",
    "    if student == \"Tharun\":\n",
    "        print(\"Ramesh Found\")\n",
    "        break"
   ]
  },
  {
   "cell_type": "code",
   "execution_count": 46,
   "id": "e815b56a-2b7a-498c-8153-c85c91e5b18f",
   "metadata": {},
   "outputs": [
    {
     "name": "stdout",
     "output_type": "stream",
     "text": [
      "Tharun found 0 time(s)\n"
     ]
    }
   ],
   "source": [
    "## Count of given name in the list\n",
    "count = 0\n",
    "for student in students:\n",
    "    if student == \"Tharun\":\n",
    "        count = count + 1\n",
    "print(f\"Tharun found {count} time(s)\")"
   ]
  },
  {
   "cell_type": "code",
   "execution_count": 51,
   "id": "a89fb130-3ea9-494f-97eb-71a0fee642fa",
   "metadata": {},
   "outputs": [
    {
     "name": "stdout",
     "output_type": "stream",
     "text": [
      "Tharun found 0 time(s)\n"
     ]
    }
   ],
   "source": [
    "count = 0\n",
    "for student in students:\n",
    "    if student == \"Tharun\":\n",
    "        count += 1\n",
    "print(f\"Tharun found {count} time(s)\")"
   ]
  },
  {
   "cell_type": "code",
   "execution_count": 56,
   "id": "f0edb8f0-f5f9-448c-aca2-2f6a1962c278",
   "metadata": {},
   "outputs": [],
   "source": [
    "## Index of an element which occured second time\n",
    "count = 0\n",
    "for i in range(len(students)):\n",
    "    if students[i] == \"Tharun\":\n",
    "        count += 1\n",
    "    if count == 2:\n",
    "        print(f\"Ramesh found second time at {i}\")"
   ]
  },
  {
   "cell_type": "code",
   "execution_count": 40,
   "id": "d07bb7e1-15e4-4fe8-a7ad-99c3c89ef4ed",
   "metadata": {},
   "outputs": [
    {
     "name": "stdout",
     "output_type": "stream",
     "text": [
      "0 0 0\n",
      "0 0 1\n",
      "0 1 0\n",
      "0 1 1\n",
      "1 0 0\n",
      "1 0 1\n",
      "1 1 0\n",
      "1 1 1\n"
     ]
    }
   ],
   "source": [
    "for i in range(2):\n",
    "    for j in range(2):\n",
    "        for k in range(2):\n",
    "            print(i,j,k)"
   ]
  },
  {
   "cell_type": "code",
   "execution_count": 58,
   "id": "f25890bf-1a71-4e1d-99e1-b929537ed3a8",
   "metadata": {},
   "outputs": [
    {
     "data": {
      "text/plain": [
       "[0, 1, 2, 3, 4, 5, 6, 7, 8, 9]"
      ]
     },
     "execution_count": 58,
     "metadata": {},
     "output_type": "execute_result"
    }
   ],
   "source": [
    "list(range(10))"
   ]
  },
  {
   "cell_type": "code",
   "execution_count": 60,
   "id": "405db353-6417-4d82-bc57-bcdadf10b6b3",
   "metadata": {},
   "outputs": [],
   "source": [
    "scores = {'MATCH1': {'IND': {'KOHLI': 86, 'ROHITH': 83},\n",
    "  'PAK': {'MALIK': 75, 'BABAR': 16}}}"
   ]
  },
  {
   "cell_type": "code",
   "execution_count": 67,
   "id": "37bac7d1-62bf-4964-8997-1d5992611a26",
   "metadata": {},
   "outputs": [],
   "source": [
    "## Dictionary items() --> will return list of tuples of key value pair"
   ]
  },
  {
   "cell_type": "code",
   "execution_count": 69,
   "id": "9a02ebf0-e669-4b4b-88d0-7f45f362797e",
   "metadata": {},
   "outputs": [
    {
     "data": {
      "text/plain": [
       "dict_items([('MATCH1', {'IND': {'KOHLI': 86, 'ROHITH': 83}, 'PAK': {'MALIK': 75, 'BABAR': 16}})])"
      ]
     },
     "execution_count": 69,
     "metadata": {},
     "output_type": "execute_result"
    }
   ],
   "source": [
    "scores.items()"
   ]
  },
  {
   "cell_type": "code",
   "execution_count": 70,
   "id": "315ce2ff-f73a-4013-bb2d-d14efb769261",
   "metadata": {},
   "outputs": [
    {
     "name": "stdout",
     "output_type": "stream",
     "text": [
      "MATCH1 {'IND': {'KOHLI': 86, 'ROHITH': 83}, 'PAK': {'MALIK': 75, 'BABAR': 16}}\n"
     ]
    }
   ],
   "source": [
    "for key,value in scores.items():\n",
    "    print(key,value)"
   ]
  },
  {
   "cell_type": "code",
   "execution_count": 1,
   "id": "fd525b16-ab5a-4f43-a609-a788f2642460",
   "metadata": {},
   "outputs": [],
   "source": [
    "import string"
   ]
  },
  {
   "cell_type": "code",
   "execution_count": 2,
   "id": "1c37b0a3-7fd5-4d5b-a8b4-d8c14ed4e2dc",
   "metadata": {},
   "outputs": [],
   "source": [
    "alphabet = string.ascii_lowercase"
   ]
  },
  {
   "cell_type": "code",
   "execution_count": 3,
   "id": "bea9aa96-c015-4d9e-aa12-f3248df8b7c1",
   "metadata": {},
   "outputs": [
    {
     "data": {
      "text/plain": [
       "'abcdefghijklmnopqrstuvwxyz'"
      ]
     },
     "execution_count": 3,
     "metadata": {},
     "output_type": "execute_result"
    }
   ],
   "source": [
    "alphabet"
   ]
  },
  {
   "cell_type": "code",
   "execution_count": 4,
   "id": "97d1b221-2d75-479d-baab-e17c7f4bd48d",
   "metadata": {},
   "outputs": [],
   "source": [
    "alphabet = list(alphabet)"
   ]
  },
  {
   "cell_type": "code",
   "execution_count": 5,
   "id": "f87d6f69-1aaf-4eb0-9843-bc1ab33ca6a1",
   "metadata": {},
   "outputs": [
    {
     "data": {
      "text/plain": [
       "['a',\n",
       " 'b',\n",
       " 'c',\n",
       " 'd',\n",
       " 'e',\n",
       " 'f',\n",
       " 'g',\n",
       " 'h',\n",
       " 'i',\n",
       " 'j',\n",
       " 'k',\n",
       " 'l',\n",
       " 'm',\n",
       " 'n',\n",
       " 'o',\n",
       " 'p',\n",
       " 'q',\n",
       " 'r',\n",
       " 's',\n",
       " 't',\n",
       " 'u',\n",
       " 'v',\n",
       " 'w',\n",
       " 'x',\n",
       " 'y',\n",
       " 'z']"
      ]
     },
     "execution_count": 5,
     "metadata": {},
     "output_type": "execute_result"
    }
   ],
   "source": [
    "alphabet"
   ]
  },
  {
   "cell_type": "code",
   "execution_count": 8,
   "id": "de0d64b4-c093-485f-acae-b2c15c5c3ca8",
   "metadata": {},
   "outputs": [
    {
     "data": {
      "text/plain": [
       "[(0, 'a'),\n",
       " (1, 'b'),\n",
       " (2, 'c'),\n",
       " (3, 'd'),\n",
       " (4, 'e'),\n",
       " (5, 'f'),\n",
       " (6, 'g'),\n",
       " (7, 'h'),\n",
       " (8, 'i'),\n",
       " (9, 'j'),\n",
       " (10, 'k'),\n",
       " (11, 'l'),\n",
       " (12, 'm'),\n",
       " (13, 'n'),\n",
       " (14, 'o'),\n",
       " (15, 'p'),\n",
       " (16, 'q'),\n",
       " (17, 'r'),\n",
       " (18, 's'),\n",
       " (19, 't'),\n",
       " (20, 'u'),\n",
       " (21, 'v'),\n",
       " (22, 'w'),\n",
       " (23, 'x'),\n",
       " (24, 'y'),\n",
       " (25, 'z')]"
      ]
     },
     "execution_count": 8,
     "metadata": {},
     "output_type": "execute_result"
    }
   ],
   "source": [
    "list(enumerate(alphabet))"
   ]
  },
  {
   "cell_type": "code",
   "execution_count": 15,
   "id": "e2f6af06-fa3f-4155-b049-7bfaed7bfbb3",
   "metadata": {},
   "outputs": [
    {
     "data": {
      "text/plain": [
       "[('a', 0),\n",
       " ('b', 1),\n",
       " ('c', 2),\n",
       " ('d', 3),\n",
       " ('e', 4),\n",
       " ('f', 5),\n",
       " ('g', 6),\n",
       " ('h', 7),\n",
       " ('i', 8),\n",
       " ('j', 9),\n",
       " ('k', 10),\n",
       " ('l', 11),\n",
       " ('m', 12),\n",
       " ('n', 13),\n",
       " ('o', 14),\n",
       " ('p', 15),\n",
       " ('q', 16),\n",
       " ('r', 17),\n",
       " ('s', 18),\n",
       " ('t', 19),\n",
       " ('u', 20),\n",
       " ('v', 21),\n",
       " ('w', 22),\n",
       " ('x', 23),\n",
       " ('y', 24),\n",
       " ('z', 25)]"
      ]
     },
     "execution_count": 15,
     "metadata": {},
     "output_type": "execute_result"
    }
   ],
   "source": [
    "list(zip(alphabet,list(range(26))))"
   ]
  },
  {
   "cell_type": "code",
   "execution_count": 16,
   "id": "294cf057-3884-4cd5-bf78-01cfdf5e4ad5",
   "metadata": {},
   "outputs": [
    {
     "name": "stdout",
     "output_type": "stream",
     "text": [
      "0 --> a\n",
      "1 --> b\n",
      "2 --> c\n",
      "3 --> d\n",
      "4 --> e\n",
      "5 --> f\n",
      "6 --> g\n",
      "7 --> h\n",
      "8 --> i\n",
      "9 --> j\n",
      "10 --> k\n",
      "11 --> l\n",
      "12 --> m\n",
      "13 --> n\n",
      "14 --> o\n",
      "15 --> p\n",
      "16 --> q\n",
      "17 --> r\n",
      "18 --> s\n",
      "19 --> t\n",
      "20 --> u\n",
      "21 --> v\n",
      "22 --> w\n",
      "23 --> x\n",
      "24 --> y\n",
      "25 --> z\n"
     ]
    }
   ],
   "source": [
    "for i,alpha in zip(list(range(26)),alphabet):\n",
    "    print(f\"{i} --> {alpha}\")"
   ]
  },
  {
   "cell_type": "code",
   "execution_count": 6,
   "id": "047c9a44-bab3-49c1-acd6-c92ce5d926e6",
   "metadata": {},
   "outputs": [
    {
     "name": "stdout",
     "output_type": "stream",
     "text": [
      "0 --> a\n",
      "1 --> b\n",
      "2 --> c\n",
      "3 --> d\n",
      "4 --> e\n",
      "5 --> f\n",
      "6 --> g\n",
      "7 --> h\n",
      "8 --> i\n",
      "9 --> j\n",
      "10 --> k\n",
      "11 --> l\n",
      "12 --> m\n",
      "13 --> n\n",
      "14 --> o\n",
      "15 --> p\n",
      "16 --> q\n",
      "17 --> r\n",
      "18 --> s\n",
      "19 --> t\n",
      "20 --> u\n",
      "21 --> v\n",
      "22 --> w\n",
      "23 --> x\n",
      "24 --> y\n",
      "25 --> z\n"
     ]
    }
   ],
   "source": [
    "for i,alpha in enumerate(alphabet):\n",
    "    print(f\"{i} --> {alpha}\")"
   ]
  },
  {
   "cell_type": "code",
   "execution_count": 23,
   "id": "cac67f49-4a43-462c-8d53-163869946baa",
   "metadata": {},
   "outputs": [],
   "source": [
    "numbers = list(range(1,20))"
   ]
  },
  {
   "cell_type": "code",
   "execution_count": 27,
   "id": "f2b9db13-1ce7-48e8-869d-3e49cf696de3",
   "metadata": {},
   "outputs": [
    {
     "data": {
      "text/plain": [
       "[1, 2, 3, 4, 5, 6, 7, 8, 9, 10, 11, 12, 13, 14, 15, 16, 17, 18, 19]"
      ]
     },
     "execution_count": 27,
     "metadata": {},
     "output_type": "execute_result"
    }
   ],
   "source": [
    "numbers"
   ]
  },
  {
   "cell_type": "code",
   "execution_count": 29,
   "id": "70fda184-3eb4-4ed3-bcca-73b77dcb4eef",
   "metadata": {},
   "outputs": [],
   "source": [
    "even_numbers = []\n",
    "odd_numbers = []\n",
    "for i in numbers:\n",
    "    if i%2 == 0:\n",
    "        even_numbers.append(i)\n",
    "    else:\n",
    "        odd_numbers.append(i)"
   ]
  },
  {
   "cell_type": "code",
   "execution_count": 30,
   "id": "151be276-afd7-490f-a11e-a3a1cff1eab8",
   "metadata": {},
   "outputs": [
    {
     "data": {
      "text/plain": [
       "[2, 4, 6, 8, 10, 12, 14, 16, 18]"
      ]
     },
     "execution_count": 30,
     "metadata": {},
     "output_type": "execute_result"
    }
   ],
   "source": [
    "even_numbers"
   ]
  },
  {
   "cell_type": "code",
   "execution_count": 31,
   "id": "3fc7ae5a-aaab-4dd4-b845-fa896938b320",
   "metadata": {},
   "outputs": [
    {
     "data": {
      "text/plain": [
       "[1, 3, 5, 7, 9, 11, 13, 15, 17, 19]"
      ]
     },
     "execution_count": 31,
     "metadata": {},
     "output_type": "execute_result"
    }
   ],
   "source": [
    "odd_numbers"
   ]
  },
  {
   "cell_type": "code",
   "execution_count": 32,
   "id": "27f80e88-e63f-4f93-af05-5a045ee410da",
   "metadata": {},
   "outputs": [],
   "source": [
    "even_numbers = [i for i in numbers if i % 2 == 0]"
   ]
  },
  {
   "cell_type": "code",
   "execution_count": 33,
   "id": "25e0eb37-c99d-421d-bfe7-7df55874ffc7",
   "metadata": {},
   "outputs": [],
   "source": [
    "odd_numbers = [i for i in numbers if i % 2 == 1]"
   ]
  },
  {
   "cell_type": "code",
   "execution_count": 34,
   "id": "b7d25709-ba5d-4655-ac1a-f8c19a9501ab",
   "metadata": {},
   "outputs": [
    {
     "data": {
      "text/plain": [
       "[2, 4, 6, 8, 10, 12, 14, 16, 18]"
      ]
     },
     "execution_count": 34,
     "metadata": {},
     "output_type": "execute_result"
    }
   ],
   "source": [
    "even_numbers"
   ]
  },
  {
   "cell_type": "code",
   "execution_count": 35,
   "id": "666863ab-9b3d-4051-8237-7bb4b109623f",
   "metadata": {},
   "outputs": [
    {
     "data": {
      "text/plain": [
       "[1, 3, 5, 7, 9, 11, 13, 15, 17, 19]"
      ]
     },
     "execution_count": 35,
     "metadata": {},
     "output_type": "execute_result"
    }
   ],
   "source": [
    "odd_numbers"
   ]
  },
  {
   "cell_type": "code",
   "execution_count": 36,
   "id": "51a47f39-387e-4803-af3f-2dfa364a890f",
   "metadata": {},
   "outputs": [],
   "source": [
    "stoi = {s:i for i,s in enumerate(alphabet)}"
   ]
  },
  {
   "cell_type": "code",
   "execution_count": 48,
   "id": "ad1a369a-aa58-4420-8bbe-711b13636cd5",
   "metadata": {},
   "outputs": [
    {
     "data": {
      "text/plain": [
       "{'a': 0,\n",
       " 'b': 1,\n",
       " 'c': 2,\n",
       " 'd': 3,\n",
       " 'e': 4,\n",
       " 'f': 5,\n",
       " 'g': 6,\n",
       " 'h': 7,\n",
       " 'i': 8,\n",
       " 'j': 9,\n",
       " 'k': 10,\n",
       " 'l': 11,\n",
       " 'm': 12,\n",
       " 'n': 13,\n",
       " 'o': 14,\n",
       " 'p': 15,\n",
       " 'q': 16,\n",
       " 'r': 17,\n",
       " 's': 18,\n",
       " 't': 19,\n",
       " 'u': 20,\n",
       " 'v': 21,\n",
       " 'w': 22,\n",
       " 'x': 23,\n",
       " 'y': 24,\n",
       " 'z': 25}"
      ]
     },
     "execution_count": 48,
     "metadata": {},
     "output_type": "execute_result"
    }
   ],
   "source": [
    "stoi"
   ]
  },
  {
   "cell_type": "code",
   "execution_count": 44,
   "id": "46679119-4957-4609-a9d6-b871546fec6b",
   "metadata": {},
   "outputs": [],
   "source": [
    "given_name = \"tharun\""
   ]
  },
  {
   "cell_type": "code",
   "execution_count": 52,
   "id": "5648bb65-3baf-4ed7-8321-de54f52144c4",
   "metadata": {},
   "outputs": [],
   "source": [
    "encoded_list = []\n",
    "for i in given_name:\n",
    "    encoded_list.append(str(stoi[i]))"
   ]
  },
  {
   "cell_type": "code",
   "execution_count": 53,
   "id": "6134b975-e823-41cb-8182-5d9a50f612fe",
   "metadata": {},
   "outputs": [
    {
     "data": {
      "text/plain": [
       "['19', '7', '0', '17', '20', '13']"
      ]
     },
     "execution_count": 53,
     "metadata": {},
     "output_type": "execute_result"
    }
   ],
   "source": [
    "encoded_list"
   ]
  },
  {
   "cell_type": "code",
   "execution_count": 54,
   "id": "2324fd99-f809-4d7e-9e37-de13a701d046",
   "metadata": {},
   "outputs": [
    {
     "data": {
      "text/plain": [
       "'19 7 0 17 20 13'"
      ]
     },
     "execution_count": 54,
     "metadata": {},
     "output_type": "execute_result"
    }
   ],
   "source": [
    "\" \".join(encoded_list)"
   ]
  },
  {
   "cell_type": "code",
   "execution_count": 60,
   "id": "6fdbf9f5-7112-4c5d-8914-db49bf8f714f",
   "metadata": {},
   "outputs": [],
   "source": [
    "encoded_list = \" \".join([str(stoi[i]) for i in given_name])"
   ]
  },
  {
   "cell_type": "code",
   "execution_count": 55,
   "id": "310eb498-23fe-4ea6-8332-40055dd7117a",
   "metadata": {},
   "outputs": [
    {
     "data": {
      "text/plain": [
       "{'a': 0,\n",
       " 'b': 1,\n",
       " 'c': 2,\n",
       " 'd': 3,\n",
       " 'e': 4,\n",
       " 'f': 5,\n",
       " 'g': 6,\n",
       " 'h': 7,\n",
       " 'i': 8,\n",
       " 'j': 9,\n",
       " 'k': 10,\n",
       " 'l': 11,\n",
       " 'm': 12,\n",
       " 'n': 13,\n",
       " 'o': 14,\n",
       " 'p': 15,\n",
       " 'q': 16,\n",
       " 'r': 17,\n",
       " 's': 18,\n",
       " 't': 19,\n",
       " 'u': 20,\n",
       " 'v': 21,\n",
       " 'w': 22,\n",
       " 'x': 23,\n",
       " 'y': 24,\n",
       " 'z': 25}"
      ]
     },
     "execution_count": 55,
     "metadata": {},
     "output_type": "execute_result"
    }
   ],
   "source": [
    "stoi"
   ]
  },
  {
   "cell_type": "code",
   "execution_count": 58,
   "id": "b3a31fbd-fed4-465d-8b98-dacaa06ca351",
   "metadata": {},
   "outputs": [],
   "source": [
    "itos = {}\n",
    "for s,i in stoi.items():\n",
    "    itos[i] = s"
   ]
  },
  {
   "cell_type": "code",
   "execution_count": 56,
   "id": "ccfb78bc-cce0-4b47-bd40-b60c4ed5a42f",
   "metadata": {},
   "outputs": [],
   "source": [
    "itos = {i:s for s,i in stoi.items()}"
   ]
  },
  {
   "cell_type": "code",
   "execution_count": 57,
   "id": "56ea4549-99e0-4145-b273-6c74c1612896",
   "metadata": {},
   "outputs": [
    {
     "data": {
      "text/plain": [
       "{0: 'a',\n",
       " 1: 'b',\n",
       " 2: 'c',\n",
       " 3: 'd',\n",
       " 4: 'e',\n",
       " 5: 'f',\n",
       " 6: 'g',\n",
       " 7: 'h',\n",
       " 8: 'i',\n",
       " 9: 'j',\n",
       " 10: 'k',\n",
       " 11: 'l',\n",
       " 12: 'm',\n",
       " 13: 'n',\n",
       " 14: 'o',\n",
       " 15: 'p',\n",
       " 16: 'q',\n",
       " 17: 'r',\n",
       " 18: 's',\n",
       " 19: 't',\n",
       " 20: 'u',\n",
       " 21: 'v',\n",
       " 22: 'w',\n",
       " 23: 'x',\n",
       " 24: 'y',\n",
       " 25: 'z'}"
      ]
     },
     "execution_count": 57,
     "metadata": {},
     "output_type": "execute_result"
    }
   ],
   "source": [
    "itos"
   ]
  },
  {
   "cell_type": "code",
   "execution_count": 63,
   "id": "d25f7ebb-a27c-49c2-89e3-f5f011816b92",
   "metadata": {},
   "outputs": [
    {
     "data": {
      "text/plain": [
       "['19', '7', '0', '17', '20', '13']"
      ]
     },
     "execution_count": 63,
     "metadata": {},
     "output_type": "execute_result"
    }
   ],
   "source": [
    "encoded_list.split(' ')"
   ]
  },
  {
   "cell_type": "code",
   "execution_count": 64,
   "id": "0f572a96-0823-4413-9db3-397caafa636d",
   "metadata": {},
   "outputs": [],
   "source": [
    "decoded_list = []\n",
    "for i in encoded_list.split(' '):\n",
    "    decoded_list.append(itos[int(i)])"
   ]
  },
  {
   "cell_type": "code",
   "execution_count": 65,
   "id": "6438b2a5-5f08-4515-80ef-e1b1c765c36f",
   "metadata": {},
   "outputs": [
    {
     "data": {
      "text/plain": [
       "'tharun'"
      ]
     },
     "execution_count": 65,
     "metadata": {},
     "output_type": "execute_result"
    }
   ],
   "source": [
    "\"\".join(decoded_list)"
   ]
  },
  {
   "cell_type": "code",
   "execution_count": 67,
   "id": "5af7ce8f-8e84-4607-aaa4-aa11ef7719ff",
   "metadata": {},
   "outputs": [
    {
     "data": {
      "text/plain": [
       "'tharun'"
      ]
     },
     "execution_count": 67,
     "metadata": {},
     "output_type": "execute_result"
    }
   ],
   "source": [
    "\"\".join([itos[int(i)] for i in encoded_list.split(' ')])"
   ]
  },
  {
   "cell_type": "code",
   "execution_count": null,
   "id": "764b6358-bf2e-44be-ac4c-bc44d0422f23",
   "metadata": {},
   "outputs": [],
   "source": [
    "dummy = {i:s}"
   ]
  },
  {
   "cell_type": "code",
   "execution_count": 59,
   "id": "b7f75f9a-bf78-4064-bdc5-5db832a06a08",
   "metadata": {},
   "outputs": [
    {
     "data": {
      "text/plain": [
       "['Ramesh', 'Rakesh', 'Rajesh', 'Rama', 'Sita', 'Raju', 'Ramesh']"
      ]
     },
     "execution_count": 59,
     "metadata": {},
     "output_type": "execute_result"
    }
   ],
   "source": [
    "[students[i] for i in range(len(students))]"
   ]
  },
  {
   "cell_type": "code",
   "execution_count": 51,
   "id": "12445083-6387-4789-91f2-90da44289178",
   "metadata": {},
   "outputs": [
    {
     "data": {
      "text/plain": [
       "['Ramesh', 'Rakesh', 'Rajesh']"
      ]
     },
     "execution_count": 51,
     "metadata": {},
     "output_type": "execute_result"
    }
   ],
   "source": [
    "students"
   ]
  },
  {
   "cell_type": "code",
   "execution_count": 52,
   "id": "6cdac131-a8b7-4b5f-9c3e-ff0f8f6e7973",
   "metadata": {},
   "outputs": [
    {
     "data": {
      "text/plain": [
       "'Rajesh'"
      ]
     },
     "execution_count": 52,
     "metadata": {},
     "output_type": "execute_result"
    }
   ],
   "source": [
    "students[2]"
   ]
  },
  {
   "cell_type": "code",
   "execution_count": 54,
   "id": "6d9a5034-a4ae-40dd-adaf-ce09024cd04f",
   "metadata": {},
   "outputs": [],
   "source": [
    "for i in range(len(students)):\n",
    "    if students[i] == \"Raju\":\n",
    "        print(f\"Raju found at {i}th index\")"
   ]
  },
  {
   "cell_type": "code",
   "execution_count": 45,
   "id": "b178d811-ff84-434e-bf32-8809e7b519f7",
   "metadata": {},
   "outputs": [],
   "source": [
    "## will take a maximum number and it will return list of AP with d=1 from 0 to that maximum \n",
    "## will take a minimum number and a maximum number and it will return list of AP with d = 1 from minimum to maximum\n",
    "## will take a minimum number and a maximum number and also d"
   ]
  },
  {
   "cell_type": "code",
   "execution_count": 47,
   "id": "ce31ca4b-eaef-4ca2-86ff-41ccef889c27",
   "metadata": {},
   "outputs": [
    {
     "data": {
      "text/plain": [
       "[0, 1, 2, 3, 4, 5, 6, 7, 8, 9]"
      ]
     },
     "execution_count": 47,
     "metadata": {},
     "output_type": "execute_result"
    }
   ],
   "source": [
    "list(range(10))"
   ]
  },
  {
   "cell_type": "code",
   "execution_count": 49,
   "id": "471ee6c4-3e4f-45a1-97d6-6ffba5d50829",
   "metadata": {},
   "outputs": [
    {
     "data": {
      "text/plain": [
       "[2, 3, 4, 5, 6, 7, 8, 9]"
      ]
     },
     "execution_count": 49,
     "metadata": {},
     "output_type": "execute_result"
    }
   ],
   "source": [
    "list(range(2,10))"
   ]
  },
  {
   "cell_type": "code",
   "execution_count": 50,
   "id": "a9d5421b-df88-4bb8-b45c-a6baf49362af",
   "metadata": {},
   "outputs": [
    {
     "data": {
      "text/plain": [
       "[1, 3, 5, 7, 9]"
      ]
     },
     "execution_count": 50,
     "metadata": {},
     "output_type": "execute_result"
    }
   ],
   "source": [
    "list(range(1,10,2))"
   ]
  },
  {
   "cell_type": "code",
   "execution_count": null,
   "id": "60566394-55af-41f6-87ac-bc7d54210561",
   "metadata": {},
   "outputs": [],
   "source": []
  }
 ],
 "metadata": {
  "kernelspec": {
   "display_name": "Python 3 (ipykernel)",
   "language": "python",
   "name": "python3"
  },
  "language_info": {
   "codemirror_mode": {
    "name": "ipython",
    "version": 3
   },
   "file_extension": ".py",
   "mimetype": "text/x-python",
   "name": "python",
   "nbconvert_exporter": "python",
   "pygments_lexer": "ipython3",
   "version": "3.11.3"
  }
 },
 "nbformat": 4,
 "nbformat_minor": 5
}
