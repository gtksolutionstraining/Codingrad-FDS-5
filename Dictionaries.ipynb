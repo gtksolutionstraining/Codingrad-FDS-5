{
 "cells": [
  {
   "cell_type": "markdown",
   "id": "4a29dc2d-f40f-4feb-8759-d2645a7222b0",
   "metadata": {},
   "source": [
    "# Dictionaries\n",
    "- It is a data structure\n",
    "- Hashmap\n",
    "- Its a collection of key-value pairs\n",
    "- Dictionaries and JSON files/objects are well compatible to each other\n",
    "# Defining a dictionary in Python\n",
    "- We can define dictionary using {} and dict()\n",
    "- Entries of a dictionary can be key:value pair\n",
    "- What can be keys and what can be values\n",
    "- Hashing --> Key --> will going through hash function(Encoding) -->O(1)/O(logn) will give an address --> you will store the value --> Insertion of the elements in dictionary\n",
    "- Hashing --> Key --> Will going through hash function(Decoding) --> Address --> Value -->Accessing an element from the dictionary\n",
    "- Keys must and should be hashable\n",
    "- Only immutable objects are hashable\n",
    "- Values of the dictionary can be anything"
   ]
  },
  {
   "cell_type": "code",
   "execution_count": 1,
   "id": "2913690a-b63a-4de7-aa25-b466c08e2f3f",
   "metadata": {},
   "outputs": [],
   "source": [
    "a = {}"
   ]
  },
  {
   "cell_type": "code",
   "execution_count": 2,
   "id": "8529b97a-8e69-4aa6-96c0-0d9e1b56b841",
   "metadata": {},
   "outputs": [],
   "source": [
    "b = dict()"
   ]
  },
  {
   "cell_type": "code",
   "execution_count": 3,
   "id": "803f2b77-b833-4108-ba2b-e5652ac98647",
   "metadata": {},
   "outputs": [
    {
     "data": {
      "text/plain": [
       "dict"
      ]
     },
     "execution_count": 3,
     "metadata": {},
     "output_type": "execute_result"
    }
   ],
   "source": [
    "type(a)"
   ]
  },
  {
   "cell_type": "code",
   "execution_count": 4,
   "id": "49ba940d-7c96-47a3-b5c2-a48868ecc31a",
   "metadata": {},
   "outputs": [
    {
     "data": {
      "text/plain": [
       "dict"
      ]
     },
     "execution_count": 4,
     "metadata": {},
     "output_type": "execute_result"
    }
   ],
   "source": [
    "type(b)"
   ]
  },
  {
   "cell_type": "code",
   "execution_count": 1,
   "id": "2e4b47c7-255b-4bce-a479-99e9940b8117",
   "metadata": {},
   "outputs": [],
   "source": [
    "student_info = {} ## Insertion"
   ]
  },
  {
   "cell_type": "code",
   "execution_count": 8,
   "id": "450dbc12-379b-4cea-8d6e-80db058904ae",
   "metadata": {},
   "outputs": [],
   "source": [
    "## HASH FUNCTION\n",
    "## IMplementing hash function --> O(logn) Worst Case Time Complexity --> n --> no of same bucket elements \n",
    "## In Best Case Time Complexity --> O(1)"
   ]
  },
  {
   "cell_type": "code",
   "execution_count": 2,
   "id": "f9fd0b8a-be8f-4add-8a16-c87bbc2cd166",
   "metadata": {},
   "outputs": [],
   "source": [
    "student_info[0] = \"Ramesh\""
   ]
  },
  {
   "cell_type": "code",
   "execution_count": 3,
   "id": "21ceafa7-b170-4e5a-af95-9db70918fc9b",
   "metadata": {},
   "outputs": [],
   "source": [
    "student_info[1] = \"Rakesh\""
   ]
  },
  {
   "cell_type": "code",
   "execution_count": 4,
   "id": "eeefd601-d03c-4a32-ad62-be5b2aa78088",
   "metadata": {},
   "outputs": [
    {
     "data": {
      "text/plain": [
       "{0: 'Ramesh', 1: 'Rakesh'}"
      ]
     },
     "execution_count": 4,
     "metadata": {},
     "output_type": "execute_result"
    }
   ],
   "source": [
    "student_info"
   ]
  },
  {
   "cell_type": "code",
   "execution_count": 13,
   "id": "bbae1d38-21ab-41bc-a0a1-67f4526707b1",
   "metadata": {},
   "outputs": [
    {
     "ename": "TypeError",
     "evalue": "unhashable type: 'list'",
     "output_type": "error",
     "traceback": [
      "\u001b[0;31m---------------------------------------------------------------------------\u001b[0m",
      "\u001b[0;31mTypeError\u001b[0m                                 Traceback (most recent call last)",
      "Cell \u001b[0;32mIn[13], line 1\u001b[0m\n\u001b[0;32m----> 1\u001b[0m \u001b[43mstudent_info\u001b[49m\u001b[43m[\u001b[49m\u001b[43m[\u001b[49m\u001b[38;5;241;43m9\u001b[39;49m\u001b[43m]\u001b[49m\u001b[43m]\u001b[49m \u001b[38;5;241m=\u001b[39m \u001b[38;5;124m\"\u001b[39m\u001b[38;5;124mRamesh\u001b[39m\u001b[38;5;124m\"\u001b[39m\n",
      "\u001b[0;31mTypeError\u001b[0m: unhashable type: 'list'"
     ]
    }
   ],
   "source": [
    "student_info[] = \"Ramesh\""
   ]
  },
  {
   "cell_type": "code",
   "execution_count": 14,
   "id": "085be8e6-f802-4e6f-ba8f-a8f5d4d9cf1a",
   "metadata": {},
   "outputs": [],
   "source": [
    "student_info[(1)] = \"Ramesh\""
   ]
  },
  {
   "cell_type": "code",
   "execution_count": 15,
   "id": "a15838f5-4166-45ee-9784-b4354d85c0b3",
   "metadata": {},
   "outputs": [],
   "source": [
    "student_info[7.9] = \"Raju\""
   ]
  },
  {
   "cell_type": "code",
   "execution_count": 16,
   "id": "4b7ae035-4053-4adf-817d-beae94fe4943",
   "metadata": {},
   "outputs": [
    {
     "ename": "TypeError",
     "evalue": "unhashable type: 'set'",
     "output_type": "error",
     "traceback": [
      "\u001b[0;31m---------------------------------------------------------------------------\u001b[0m",
      "\u001b[0;31mTypeError\u001b[0m                                 Traceback (most recent call last)",
      "Cell \u001b[0;32mIn[16], line 1\u001b[0m\n\u001b[0;32m----> 1\u001b[0m \u001b[43mstudent_info\u001b[49m\u001b[43m[\u001b[49m\u001b[43m{\u001b[49m\u001b[38;5;241;43m1\u001b[39;49m\u001b[43m}\u001b[49m\u001b[43m]\u001b[49m \u001b[38;5;241m=\u001b[39m \u001b[38;5;124m\"\u001b[39m\u001b[38;5;124mHarish\u001b[39m\u001b[38;5;124m\"\u001b[39m\n",
      "\u001b[0;31mTypeError\u001b[0m: unhashable type: 'set'"
     ]
    }
   ],
   "source": [
    "student_info[{1}] = \"Harish\""
   ]
  },
  {
   "cell_type": "code",
   "execution_count": 6,
   "id": "e7d1250a-ffdf-4b65-8494-04cd7a1865ed",
   "metadata": {},
   "outputs": [
    {
     "ename": "TypeError",
     "evalue": "unhashable type: 'list'",
     "output_type": "error",
     "traceback": [
      "\u001b[0;31m---------------------------------------------------------------------------\u001b[0m",
      "\u001b[0;31mTypeError\u001b[0m                                 Traceback (most recent call last)",
      "Cell \u001b[0;32mIn[6], line 1\u001b[0m\n\u001b[0;32m----> 1\u001b[0m a \u001b[38;5;241m=\u001b[39m {\u001b[38;5;124m\"\u001b[39m\u001b[38;5;124mtharun\u001b[39m\u001b[38;5;124m\"\u001b[39m,(\u001b[38;5;241m7\u001b[39m,\u001b[38;5;241m9\u001b[39m),[\u001b[38;5;124m\"\u001b[39m\u001b[38;5;124mTharun\u001b[39m\u001b[38;5;124m\"\u001b[39m]}\n",
      "\u001b[0;31mTypeError\u001b[0m: unhashable type: 'list'"
     ]
    }
   ],
   "source": [
    "a = {\"tharun\",(7,9),[\"Tharun\"]}"
   ]
  },
  {
   "cell_type": "code",
   "execution_count": 7,
   "id": "4934c845-6044-4b6a-b1e8-92349b9730fa",
   "metadata": {},
   "outputs": [],
   "source": [
    "scores = {}"
   ]
  },
  {
   "cell_type": "code",
   "execution_count": 8,
   "id": "57403442-f9a6-41a3-9c35-4226dd950cf8",
   "metadata": {},
   "outputs": [],
   "source": [
    "scores['MATCH1'] = {}"
   ]
  },
  {
   "cell_type": "code",
   "execution_count": 9,
   "id": "b7df23ec-2870-4d4b-a81f-cdf18c6134f4",
   "metadata": {},
   "outputs": [],
   "source": [
    "scores['MATCH1']['IND'] = {}"
   ]
  },
  {
   "cell_type": "code",
   "execution_count": 10,
   "id": "e6ab22ae-2be8-4648-888c-e6c90ea7d04f",
   "metadata": {},
   "outputs": [],
   "source": [
    "scores['MATCH1']['PAK'] = {}"
   ]
  },
  {
   "cell_type": "code",
   "execution_count": 11,
   "id": "e2f3eb92-2353-4e09-828a-2ee486de29e1",
   "metadata": {},
   "outputs": [],
   "source": [
    "scores['MATCH1']['IND']['KOHLI'] = 86"
   ]
  },
  {
   "cell_type": "code",
   "execution_count": 12,
   "id": "91216ec4-44e1-4b0d-b4f8-462228d269b4",
   "metadata": {},
   "outputs": [],
   "source": [
    "scores['MATCH1']['IND']['ROHITH'] = 83"
   ]
  },
  {
   "cell_type": "code",
   "execution_count": 13,
   "id": "78cf926f-71f0-4a4c-b1a5-a30177e88e33",
   "metadata": {},
   "outputs": [],
   "source": [
    "scores['MATCH1']['PAK']['MALIK'] = 75"
   ]
  },
  {
   "cell_type": "code",
   "execution_count": 14,
   "id": "bf7dfb42-d9b8-47d7-9070-494e21478963",
   "metadata": {},
   "outputs": [],
   "source": [
    "scores['MATCH1']['PAK']['BABAR'] = 16"
   ]
  },
  {
   "cell_type": "code",
   "execution_count": 15,
   "id": "f6cf5450-1434-4769-8727-e78526274f3b",
   "metadata": {},
   "outputs": [
    {
     "data": {
      "text/plain": [
       "83"
      ]
     },
     "execution_count": 15,
     "metadata": {},
     "output_type": "execute_result"
    }
   ],
   "source": [
    "scores['MATCH1']['IND']['ROHITH']"
   ]
  },
  {
   "cell_type": "code",
   "execution_count": 16,
   "id": "b0cb630c-0535-414e-a941-c82c4f4f9a04",
   "metadata": {},
   "outputs": [
    {
     "data": {
      "text/plain": [
       "{'MATCH1': {'IND': {'KOHLI': 86, 'ROHITH': 83},\n",
       "  'PAK': {'MALIK': 75, 'BABAR': 16}}}"
      ]
     },
     "execution_count": 16,
     "metadata": {},
     "output_type": "execute_result"
    }
   ],
   "source": [
    "scores"
   ]
  },
  {
   "cell_type": "code",
   "execution_count": 17,
   "id": "b961a471-1988-4d92-9da3-8e025c06ca98",
   "metadata": {},
   "outputs": [
    {
     "data": {
      "text/plain": [
       "{'IND': {'KOHLI': 86, 'ROHITH': 83}, 'PAK': {'MALIK': 75, 'BABAR': 16}}"
      ]
     },
     "execution_count": 17,
     "metadata": {},
     "output_type": "execute_result"
    }
   ],
   "source": [
    "scores['MATCH1']"
   ]
  },
  {
   "cell_type": "code",
   "execution_count": 18,
   "id": "98c92bad-2b55-4506-8106-2a12801d6dac",
   "metadata": {},
   "outputs": [
    {
     "data": {
      "text/plain": [
       "{'KOHLI': 86, 'ROHITH': 83}"
      ]
     },
     "execution_count": 18,
     "metadata": {},
     "output_type": "execute_result"
    }
   ],
   "source": [
    "scores['MATCH1']['IND']"
   ]
  },
  {
   "cell_type": "code",
   "execution_count": 19,
   "id": "c397cfc2-9998-4ebf-8e6c-8822b06c826a",
   "metadata": {},
   "outputs": [
    {
     "data": {
      "text/plain": [
       "{'MALIK': 75, 'BABAR': 16}"
      ]
     },
     "execution_count": 19,
     "metadata": {},
     "output_type": "execute_result"
    }
   ],
   "source": [
    "scores['MATCH1']['PAK']"
   ]
  },
  {
   "cell_type": "code",
   "execution_count": 20,
   "id": "50c72fe9-803e-4b3e-ad2a-23afefceefd2",
   "metadata": {},
   "outputs": [
    {
     "data": {
      "text/plain": [
       "86"
      ]
     },
     "execution_count": 20,
     "metadata": {},
     "output_type": "execute_result"
    }
   ],
   "source": [
    "scores['MATCH1']['IND']['KOHLI']"
   ]
  },
  {
   "cell_type": "code",
   "execution_count": 21,
   "id": "841e21a1-b3ec-4218-8f22-6d2416876e41",
   "metadata": {},
   "outputs": [
    {
     "data": {
      "text/plain": [
       "83"
      ]
     },
     "execution_count": 21,
     "metadata": {},
     "output_type": "execute_result"
    }
   ],
   "source": [
    "scores['MATCH1']['IND']['ROHITH']"
   ]
  },
  {
   "cell_type": "code",
   "execution_count": 37,
   "id": "b8f7296c-3c3a-4ffe-9982-bc7c87fca82e",
   "metadata": {},
   "outputs": [],
   "source": [
    "## keys() will return all the first level keys associated with the dictionary \n",
    "## keys() will return a new data type called dict_keys\n",
    "keys1 = scores.keys()"
   ]
  },
  {
   "cell_type": "code",
   "execution_count": 38,
   "id": "0232fa4a-99b8-4795-a8bb-3ba34c18f9b2",
   "metadata": {},
   "outputs": [
    {
     "data": {
      "text/plain": [
       "dict_keys"
      ]
     },
     "execution_count": 38,
     "metadata": {},
     "output_type": "execute_result"
    }
   ],
   "source": [
    "type(keys1)"
   ]
  },
  {
   "cell_type": "code",
   "execution_count": 39,
   "id": "f2c1fe7b-981b-4fe9-a47e-e7b45025a8b1",
   "metadata": {},
   "outputs": [
    {
     "data": {
      "text/plain": [
       "dict_keys(['MATCH1'])"
      ]
     },
     "execution_count": 39,
     "metadata": {},
     "output_type": "execute_result"
    }
   ],
   "source": [
    "keys1"
   ]
  },
  {
   "cell_type": "code",
   "execution_count": 34,
   "id": "389ddb2c-ef4b-461e-974d-98b96dd37c27",
   "metadata": {},
   "outputs": [],
   "source": [
    "## Explicit Type Casting\n",
    "keys1 = list(keys1)"
   ]
  },
  {
   "cell_type": "code",
   "execution_count": 35,
   "id": "d3ff2c44-1602-46e8-9e3f-a0fed0153bf2",
   "metadata": {},
   "outputs": [
    {
     "data": {
      "text/plain": [
       "list"
      ]
     },
     "execution_count": 35,
     "metadata": {},
     "output_type": "execute_result"
    }
   ],
   "source": [
    "type(keys1)"
   ]
  },
  {
   "cell_type": "code",
   "execution_count": 36,
   "id": "c11f0e8b-76b1-4d0f-925a-a8091f419136",
   "metadata": {},
   "outputs": [
    {
     "data": {
      "text/plain": [
       "['MATCH1']"
      ]
     },
     "execution_count": 36,
     "metadata": {},
     "output_type": "execute_result"
    }
   ],
   "source": [
    "keys1"
   ]
  },
  {
   "cell_type": "code",
   "execution_count": 23,
   "id": "0eb8c591-0854-4b9e-be86-5098d0ef9be8",
   "metadata": {},
   "outputs": [
    {
     "data": {
      "text/plain": [
       "dict_keys(['IND', 'PAK'])"
      ]
     },
     "execution_count": 23,
     "metadata": {},
     "output_type": "execute_result"
    }
   ],
   "source": [
    "scores['MATCH1'].keys()"
   ]
  },
  {
   "cell_type": "code",
   "execution_count": 25,
   "id": "73c4192d-1fad-4927-88a3-ed4890b0f0ce",
   "metadata": {},
   "outputs": [
    {
     "data": {
      "text/plain": [
       "dict_keys(['KOHLI', 'ROHITH'])"
      ]
     },
     "execution_count": 25,
     "metadata": {},
     "output_type": "execute_result"
    }
   ],
   "source": [
    "scores['MATCH1']['IND'].keys()"
   ]
  },
  {
   "cell_type": "code",
   "execution_count": 48,
   "id": "330bb399-14a9-4a56-9994-7585958d7d05",
   "metadata": {},
   "outputs": [],
   "source": [
    "## values() will return value of first level keys\n",
    "## data type is dict_values\n",
    "values1 = scores.values()"
   ]
  },
  {
   "cell_type": "code",
   "execution_count": 49,
   "id": "53783d28-e686-4d18-8ce9-4fa345dbdb6c",
   "metadata": {},
   "outputs": [
    {
     "data": {
      "text/plain": [
       "dict_values([{'IND': {'KOHLI': 86, 'ROHITH': 83}, 'PAK': {'MALIK': 75, 'BABAR': 16}}])"
      ]
     },
     "execution_count": 49,
     "metadata": {},
     "output_type": "execute_result"
    }
   ],
   "source": [
    "values1"
   ]
  },
  {
   "cell_type": "code",
   "execution_count": 50,
   "id": "c1a8fb05-dd82-4f43-9eaa-d3876e151937",
   "metadata": {},
   "outputs": [
    {
     "data": {
      "text/plain": [
       "dict_values"
      ]
     },
     "execution_count": 50,
     "metadata": {},
     "output_type": "execute_result"
    }
   ],
   "source": [
    "type(values1)"
   ]
  },
  {
   "cell_type": "code",
   "execution_count": 51,
   "id": "1575d7be-a986-4e25-a088-defe7c36c249",
   "metadata": {},
   "outputs": [
    {
     "data": {
      "text/plain": [
       "['__class__',\n",
       " '__delattr__',\n",
       " '__dir__',\n",
       " '__doc__',\n",
       " '__eq__',\n",
       " '__format__',\n",
       " '__ge__',\n",
       " '__getattribute__',\n",
       " '__getstate__',\n",
       " '__gt__',\n",
       " '__hash__',\n",
       " '__init__',\n",
       " '__init_subclass__',\n",
       " '__iter__',\n",
       " '__le__',\n",
       " '__len__',\n",
       " '__lt__',\n",
       " '__ne__',\n",
       " '__new__',\n",
       " '__reduce__',\n",
       " '__reduce_ex__',\n",
       " '__repr__',\n",
       " '__reversed__',\n",
       " '__setattr__',\n",
       " '__sizeof__',\n",
       " '__str__',\n",
       " '__subclasshook__',\n",
       " 'mapping']"
      ]
     },
     "execution_count": 51,
     "metadata": {},
     "output_type": "execute_result"
    }
   ],
   "source": [
    "dir(values1)"
   ]
  },
  {
   "cell_type": "code",
   "execution_count": 52,
   "id": "2eef626b-fa17-43a5-8e18-1985237d0189",
   "metadata": {},
   "outputs": [
    {
     "name": "stdout",
     "output_type": "stream",
     "text": [
      "Help on mappingproxy object:\n",
      "\n",
      "class mappingproxy(object)\n",
      " |  Methods defined here:\n",
      " |  \n",
      " |  __contains__(self, key, /)\n",
      " |      Return key in self.\n",
      " |  \n",
      " |  __eq__(self, value, /)\n",
      " |      Return self==value.\n",
      " |  \n",
      " |  __ge__(self, value, /)\n",
      " |      Return self>=value.\n",
      " |  \n",
      " |  __getattribute__(self, name, /)\n",
      " |      Return getattr(self, name).\n",
      " |  \n",
      " |  __getitem__(self, key, /)\n",
      " |      Return self[key].\n",
      " |  \n",
      " |  __gt__(self, value, /)\n",
      " |      Return self>value.\n",
      " |  \n",
      " |  __ior__(self, value, /)\n",
      " |      Return self|=value.\n",
      " |  \n",
      " |  __iter__(self, /)\n",
      " |      Implement iter(self).\n",
      " |  \n",
      " |  __le__(self, value, /)\n",
      " |      Return self<=value.\n",
      " |  \n",
      " |  __len__(self, /)\n",
      " |      Return len(self).\n",
      " |  \n",
      " |  __lt__(self, value, /)\n",
      " |      Return self<value.\n",
      " |  \n",
      " |  __ne__(self, value, /)\n",
      " |      Return self!=value.\n",
      " |  \n",
      " |  __or__(self, value, /)\n",
      " |      Return self|value.\n",
      " |  \n",
      " |  __repr__(self, /)\n",
      " |      Return repr(self).\n",
      " |  \n",
      " |  __reversed__(...)\n",
      " |      D.__reversed__() -> reverse iterator\n",
      " |  \n",
      " |  __ror__(self, value, /)\n",
      " |      Return value|self.\n",
      " |  \n",
      " |  __str__(self, /)\n",
      " |      Return str(self).\n",
      " |  \n",
      " |  copy(...)\n",
      " |      D.copy() -> a shallow copy of D\n",
      " |  \n",
      " |  get(...)\n",
      " |      D.get(k[,d]) -> D[k] if k in D, else d.  d defaults to None.\n",
      " |  \n",
      " |  items(...)\n",
      " |      D.items() -> a set-like object providing a view on D's items\n",
      " |  \n",
      " |  keys(...)\n",
      " |      D.keys() -> a set-like object providing a view on D's keys\n",
      " |  \n",
      " |  values(...)\n",
      " |      D.values() -> an object providing a view on D's values\n",
      " |  \n",
      " |  ----------------------------------------------------------------------\n",
      " |  Class methods defined here:\n",
      " |  \n",
      " |  __class_getitem__(...) from builtins.type\n",
      " |      See PEP 585\n",
      " |  \n",
      " |  ----------------------------------------------------------------------\n",
      " |  Static methods defined here:\n",
      " |  \n",
      " |  __new__(*args, **kwargs) from builtins.type\n",
      " |      Create and return a new object.  See help(type) for accurate signature.\n",
      " |  \n",
      " |  ----------------------------------------------------------------------\n",
      " |  Data and other attributes defined here:\n",
      " |  \n",
      " |  __hash__ = None\n",
      "\n"
     ]
    }
   ],
   "source": [
    "help(values1.mapping)"
   ]
  },
  {
   "cell_type": "code",
   "execution_count": 44,
   "id": "c6416f29-3c76-46d2-b933-a8e89002f106",
   "metadata": {},
   "outputs": [],
   "source": [
    "values1 = list(values1)"
   ]
  },
  {
   "cell_type": "code",
   "execution_count": 45,
   "id": "0353d90e-aaae-4961-9ad0-6c1de3e8cd3f",
   "metadata": {},
   "outputs": [
    {
     "data": {
      "text/plain": [
       "[{'IND': {'KOHLI': 86, 'ROHITH': 83}, 'PAK': {'MALIK': 75, 'BABAR': 16}}]"
      ]
     },
     "execution_count": 45,
     "metadata": {},
     "output_type": "execute_result"
    }
   ],
   "source": [
    "values1"
   ]
  },
  {
   "cell_type": "code",
   "execution_count": 46,
   "id": "1b303982-ff7f-41c8-af55-579005a32851",
   "metadata": {},
   "outputs": [
    {
     "data": {
      "text/plain": [
       "list"
      ]
     },
     "execution_count": 46,
     "metadata": {},
     "output_type": "execute_result"
    }
   ],
   "source": [
    "type(values1)"
   ]
  },
  {
   "cell_type": "code",
   "execution_count": 53,
   "id": "a6af7189-e24b-444b-9903-e9922eeaccc7",
   "metadata": {},
   "outputs": [],
   "source": [
    "a = {\"a\":\"Tharun\",\"b\":[1,1,2],\"c\":{\"d\":{\"c\":\"Hello World!\"},\"bye\":\"Bye Bye World!\"},\"bye\":\"Good Bye\"}"
   ]
  },
  {
   "cell_type": "code",
   "execution_count": 54,
   "id": "60f4bde9-5224-4bd2-95ec-8b2f7f082247",
   "metadata": {},
   "outputs": [
    {
     "data": {
      "text/plain": [
       "'Hello World!'"
      ]
     },
     "execution_count": 54,
     "metadata": {},
     "output_type": "execute_result"
    }
   ],
   "source": [
    "a['c']['d']['c']"
   ]
  },
  {
   "cell_type": "code",
   "execution_count": 56,
   "id": "1d535bf1-4fe5-447d-903c-3e94baf4bff7",
   "metadata": {},
   "outputs": [
    {
     "ename": "KeyError",
     "evalue": "'bye'",
     "output_type": "error",
     "traceback": [
      "\u001b[0;31m---------------------------------------------------------------------------\u001b[0m",
      "\u001b[0;31mKeyError\u001b[0m                                  Traceback (most recent call last)",
      "Cell \u001b[0;32mIn[56], line 1\u001b[0m\n\u001b[0;32m----> 1\u001b[0m \u001b[43ma\u001b[49m\u001b[43m[\u001b[49m\u001b[38;5;124;43m'\u001b[39;49m\u001b[38;5;124;43mc\u001b[39;49m\u001b[38;5;124;43m'\u001b[39;49m\u001b[43m]\u001b[49m\u001b[43m[\u001b[49m\u001b[38;5;124;43m'\u001b[39;49m\u001b[38;5;124;43md\u001b[39;49m\u001b[38;5;124;43m'\u001b[39;49m\u001b[43m]\u001b[49m\u001b[43m[\u001b[49m\u001b[38;5;124;43m'\u001b[39;49m\u001b[38;5;124;43mbye\u001b[39;49m\u001b[38;5;124;43m'\u001b[39;49m\u001b[43m]\u001b[49m[\u001b[38;5;241m4\u001b[39m:]\n",
      "\u001b[0;31mKeyError\u001b[0m: 'bye'"
     ]
    }
   ],
   "source": [
    "a['c']['d']['bye'][4:]"
   ]
  },
  {
   "cell_type": "code",
   "execution_count": 58,
   "id": "d046274a-ddaa-4a1a-947e-7672cb0fe7bd",
   "metadata": {},
   "outputs": [
    {
     "data": {
      "text/plain": [
       "'Bye Bye World!'"
      ]
     },
     "execution_count": 58,
     "metadata": {},
     "output_type": "execute_result"
    }
   ],
   "source": [
    "a['c']['bye']"
   ]
  },
  {
   "cell_type": "code",
   "execution_count": 57,
   "id": "39204675-6ee8-423a-9857-7334e3fada84",
   "metadata": {},
   "outputs": [
    {
     "data": {
      "text/plain": [
       "'Bye World!'"
      ]
     },
     "execution_count": 57,
     "metadata": {},
     "output_type": "execute_result"
    }
   ],
   "source": [
    "a['c']['bye'][4:]"
   ]
  },
  {
   "cell_type": "code",
   "execution_count": 55,
   "id": "8f41fc10-eee2-4550-9b77-7970431d6466",
   "metadata": {},
   "outputs": [
    {
     "data": {
      "text/plain": [
       "' Bye'"
      ]
     },
     "execution_count": 55,
     "metadata": {},
     "output_type": "execute_result"
    }
   ],
   "source": [
    "a['bye'][4:]"
   ]
  },
  {
   "cell_type": "code",
   "execution_count": 66,
   "id": "3f62c1bc-640b-4227-afbf-21511ac542c3",
   "metadata": {},
   "outputs": [],
   "source": [
    "a = {\"a\":\"Tharun\",\"b\":[1,1,2],\"c\":{\"d\":{\"c\":\"Hello World!\"},\"bye\":\"Bye Bye World!\"},\"bye\":\"Good Bye\"}"
   ]
  },
  {
   "cell_type": "code",
   "execution_count": 59,
   "id": "4faa3073-2e0a-45db-a60b-245ff78ee636",
   "metadata": {},
   "outputs": [
    {
     "ename": "SyntaxError",
     "evalue": "invalid syntax (4151128670.py, line 1)",
     "output_type": "error",
     "traceback": [
      "\u001b[0;36m  Cell \u001b[0;32mIn[59], line 1\u001b[0;36m\u001b[0m\n\u001b[0;31m    split(',')a['c']['bye']\u001b[0m\n\u001b[0m              ^\u001b[0m\n\u001b[0;31mSyntaxError\u001b[0m\u001b[0;31m:\u001b[0m invalid syntax\n"
     ]
    }
   ],
   "source": [
    "split(',')a['c']['bye']"
   ]
  },
  {
   "cell_type": "code",
   "execution_count": 67,
   "id": "74c74dd8-761a-4b3e-954c-98921a20e7bc",
   "metadata": {},
   "outputs": [
    {
     "data": {
      "text/plain": [
       "['Bye Bye World!']"
      ]
     },
     "execution_count": 67,
     "metadata": {},
     "output_type": "execute_result"
    }
   ],
   "source": [
    "a['c']['bye'].split(',')"
   ]
  },
  {
   "cell_type": "code",
   "execution_count": 61,
   "id": "2f6d9c43-25b6-4748-b785-efc9c39f0735",
   "metadata": {},
   "outputs": [
    {
     "data": {
      "text/plain": [
       "['Bye', 'Bye', 'World!']"
      ]
     },
     "execution_count": 61,
     "metadata": {},
     "output_type": "execute_result"
    }
   ],
   "source": [
    "list(a['c']['bye'].split(' '))"
   ]
  },
  {
   "cell_type": "code",
   "execution_count": 68,
   "id": "8a2c17ab-6e7c-48f0-8d49-d03a9206673b",
   "metadata": {},
   "outputs": [
    {
     "data": {
      "text/plain": [
       "['Bye', 'Bye', 'World!']"
      ]
     },
     "execution_count": 68,
     "metadata": {},
     "output_type": "execute_result"
    }
   ],
   "source": [
    "a['c']['bye'].split(' ')"
   ]
  },
  {
   "cell_type": "code",
   "execution_count": 63,
   "id": "7ff48591-c435-4f0e-9db6-f3d9dccc6e88",
   "metadata": {},
   "outputs": [
    {
     "data": {
      "text/plain": [
       "['Bye Bye World!']"
      ]
     },
     "execution_count": 63,
     "metadata": {},
     "output_type": "execute_result"
    }
   ],
   "source": [
    "a['c']['bye'].split(\",\")"
   ]
  },
  {
   "cell_type": "code",
   "execution_count": null,
   "id": "9cfc825d-2f82-4d62-8e9b-56dd396fb22a",
   "metadata": {},
   "outputs": [],
   "source": [
    "['Bye','Bye','World!']"
   ]
  }
 ],
 "metadata": {
  "kernelspec": {
   "display_name": "Python 3 (ipykernel)",
   "language": "python",
   "name": "python3"
  },
  "language_info": {
   "codemirror_mode": {
    "name": "ipython",
    "version": 3
   },
   "file_extension": ".py",
   "mimetype": "text/x-python",
   "name": "python",
   "nbconvert_exporter": "python",
   "pygments_lexer": "ipython3",
   "version": "3.11.3"
  }
 },
 "nbformat": 4,
 "nbformat_minor": 5
}
