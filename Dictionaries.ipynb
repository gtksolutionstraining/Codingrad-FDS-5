{
 "cells": [
  {
   "cell_type": "markdown",
   "id": "4a29dc2d-f40f-4feb-8759-d2645a7222b0",
   "metadata": {},
   "source": [
    "# Dictionaries\n",
    "- It is a data structure\n",
    "- Hashmap\n",
    "- Its a collection of key-value pairs\n",
    "- Dictionaries and JSON files/objects are well compatible to each other\n",
    "# Defining a dictionary in Python\n",
    "- We can define dictionary using {} and dict()\n",
    "- Entries of a dictionary can be key:value pair\n",
    "- What can be keys and what can be values\n",
    "- Hashing --> Key --> will going through hash function(Encoding) -->O(1)/O(logn) will give an address --> you will store the value --> Insertion of the elements in dictionary\n",
    "- Hashing --> Key --> Will going through hash function(Decoding) --> Address --> Value -->Accessing an element from the dictionary\n",
    "- Keys must and should be hashable\n",
    "- Only immutable objects are hashable"
   ]
  },
  {
   "cell_type": "code",
   "execution_count": 1,
   "id": "2913690a-b63a-4de7-aa25-b466c08e2f3f",
   "metadata": {},
   "outputs": [],
   "source": [
    "a = {}"
   ]
  },
  {
   "cell_type": "code",
   "execution_count": 2,
   "id": "8529b97a-8e69-4aa6-96c0-0d9e1b56b841",
   "metadata": {},
   "outputs": [],
   "source": [
    "b = dict()"
   ]
  },
  {
   "cell_type": "code",
   "execution_count": 3,
   "id": "803f2b77-b833-4108-ba2b-e5652ac98647",
   "metadata": {},
   "outputs": [
    {
     "data": {
      "text/plain": [
       "dict"
      ]
     },
     "execution_count": 3,
     "metadata": {},
     "output_type": "execute_result"
    }
   ],
   "source": [
    "type(a)"
   ]
  },
  {
   "cell_type": "code",
   "execution_count": 4,
   "id": "49ba940d-7c96-47a3-b5c2-a48868ecc31a",
   "metadata": {},
   "outputs": [
    {
     "data": {
      "text/plain": [
       "dict"
      ]
     },
     "execution_count": 4,
     "metadata": {},
     "output_type": "execute_result"
    }
   ],
   "source": [
    "type(b)"
   ]
  },
  {
   "cell_type": "code",
   "execution_count": 6,
   "id": "2e4b47c7-255b-4bce-a479-99e9940b8117",
   "metadata": {},
   "outputs": [],
   "source": [
    "student_info = {0:\"Rajesh\"} ## Insertion"
   ]
  },
  {
   "cell_type": "code",
   "execution_count": 8,
   "id": "450dbc12-379b-4cea-8d6e-80db058904ae",
   "metadata": {},
   "outputs": [],
   "source": [
    "## HASH FUNCTION\n",
    "## IMplementing hash function --> O(logn) Worst Case Time Complexity --> n --> no of same bucket elements \n",
    "## In Best Case Time Complexity --> O(1)"
   ]
  },
  {
   "cell_type": "code",
   "execution_count": 7,
   "id": "f9fd0b8a-be8f-4add-8a16-c87bbc2cd166",
   "metadata": {},
   "outputs": [
    {
     "data": {
      "text/plain": [
       "'Rajesh'"
      ]
     },
     "execution_count": 7,
     "metadata": {},
     "output_type": "execute_result"
    }
   ],
   "source": [
    "student_info[0]"
   ]
  },
  {
   "cell_type": "code",
   "execution_count": 11,
   "id": "21ceafa7-b170-4e5a-af95-9db70918fc9b",
   "metadata": {},
   "outputs": [],
   "source": [
    "student_info[1] = \"Rakesh\""
   ]
  },
  {
   "cell_type": "code",
   "execution_count": 12,
   "id": "eeefd601-d03c-4a32-ad62-be5b2aa78088",
   "metadata": {},
   "outputs": [
    {
     "data": {
      "text/plain": [
       "{0: 'Rajesh', 1: 'Rakesh'}"
      ]
     },
     "execution_count": 12,
     "metadata": {},
     "output_type": "execute_result"
    }
   ],
   "source": [
    "student_info"
   ]
  },
  {
   "cell_type": "code",
   "execution_count": 13,
   "id": "bbae1d38-21ab-41bc-a0a1-67f4526707b1",
   "metadata": {},
   "outputs": [
    {
     "ename": "TypeError",
     "evalue": "unhashable type: 'list'",
     "output_type": "error",
     "traceback": [
      "\u001b[0;31m---------------------------------------------------------------------------\u001b[0m",
      "\u001b[0;31mTypeError\u001b[0m                                 Traceback (most recent call last)",
      "Cell \u001b[0;32mIn[13], line 1\u001b[0m\n\u001b[0;32m----> 1\u001b[0m \u001b[43mstudent_info\u001b[49m\u001b[43m[\u001b[49m\u001b[43m[\u001b[49m\u001b[38;5;241;43m9\u001b[39;49m\u001b[43m]\u001b[49m\u001b[43m]\u001b[49m \u001b[38;5;241m=\u001b[39m \u001b[38;5;124m\"\u001b[39m\u001b[38;5;124mRamesh\u001b[39m\u001b[38;5;124m\"\u001b[39m\n",
      "\u001b[0;31mTypeError\u001b[0m: unhashable type: 'list'"
     ]
    }
   ],
   "source": [
    "student_info[[9]] = \"Ramesh\""
   ]
  },
  {
   "cell_type": "code",
   "execution_count": 14,
   "id": "085be8e6-f802-4e6f-ba8f-a8f5d4d9cf1a",
   "metadata": {},
   "outputs": [],
   "source": [
    "student_info[(1)] = \"Ramesh\""
   ]
  },
  {
   "cell_type": "code",
   "execution_count": 15,
   "id": "a15838f5-4166-45ee-9784-b4354d85c0b3",
   "metadata": {},
   "outputs": [],
   "source": [
    "student_info[7.9] = \"Raju\""
   ]
  },
  {
   "cell_type": "code",
   "execution_count": 16,
   "id": "4b7ae035-4053-4adf-817d-beae94fe4943",
   "metadata": {},
   "outputs": [
    {
     "ename": "TypeError",
     "evalue": "unhashable type: 'set'",
     "output_type": "error",
     "traceback": [
      "\u001b[0;31m---------------------------------------------------------------------------\u001b[0m",
      "\u001b[0;31mTypeError\u001b[0m                                 Traceback (most recent call last)",
      "Cell \u001b[0;32mIn[16], line 1\u001b[0m\n\u001b[0;32m----> 1\u001b[0m \u001b[43mstudent_info\u001b[49m\u001b[43m[\u001b[49m\u001b[43m{\u001b[49m\u001b[38;5;241;43m1\u001b[39;49m\u001b[43m}\u001b[49m\u001b[43m]\u001b[49m \u001b[38;5;241m=\u001b[39m \u001b[38;5;124m\"\u001b[39m\u001b[38;5;124mHarish\u001b[39m\u001b[38;5;124m\"\u001b[39m\n",
      "\u001b[0;31mTypeError\u001b[0m: unhashable type: 'set'"
     ]
    }
   ],
   "source": [
    "student_info[{1}] = \"Harish\""
   ]
  },
  {
   "cell_type": "code",
   "execution_count": null,
   "id": "e7d1250a-ffdf-4b65-8494-04cd7a1865ed",
   "metadata": {},
   "outputs": [],
   "source": []
  }
 ],
 "metadata": {
  "kernelspec": {
   "display_name": "Python 3 (ipykernel)",
   "language": "python",
   "name": "python3"
  },
  "language_info": {
   "codemirror_mode": {
    "name": "ipython",
    "version": 3
   },
   "file_extension": ".py",
   "mimetype": "text/x-python",
   "name": "python",
   "nbconvert_exporter": "python",
   "pygments_lexer": "ipython3",
   "version": "3.11.3"
  }
 },
 "nbformat": 4,
 "nbformat_minor": 5
}
