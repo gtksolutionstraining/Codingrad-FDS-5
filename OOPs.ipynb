{
 "cells": [
  {
   "cell_type": "code",
   "execution_count": 47,
   "id": "32a9d272-178e-438f-a6fc-e249d1239569",
   "metadata": {},
   "outputs": [],
   "source": [
    "class Human:\n",
    "    \"\"\"\n",
    "    Human class/Logical Entity defines the properties and actions\n",
    "    \"\"\"\n",
    "    def __init__(self,gender,color):\n",
    "        self.legs = 2\n",
    "        self.hands = 2\n",
    "        self.__feelings = \"Sensitive\"\n",
    "        self.color = color\n",
    "        self.gender = gender\n",
    "        self.__heart = \"Heart\"\n",
    "        self._genital_parts = \"Genital Parts\"\n",
    "\n",
    "    def __heart_beat(self):\n",
    "        print(\"Heart Beat\")\n",
    "    def think(self):\n",
    "        print(self.legs)\n",
    "        print(\"Thinking....!\")\n",
    "    def cry(self):\n",
    "        print(f\"Crying because of {self.__feelings} feelings\")"
   ]
  },
  {
   "cell_type": "code",
   "execution_count": 48,
   "id": "3f1d8078-a604-40c2-bd3d-4a6dc3f0b8f1",
   "metadata": {},
   "outputs": [],
   "source": [
    "person1 = Human(\"male\",\"white\")"
   ]
  },
  {
   "cell_type": "code",
   "execution_count": 38,
   "id": "7c540761-ceeb-4b8c-a5bb-3071a553f109",
   "metadata": {},
   "outputs": [
    {
     "data": {
      "text/plain": [
       "<__main__.Human at 0x106909510>"
      ]
     },
     "execution_count": 38,
     "metadata": {},
     "output_type": "execute_result"
    }
   ],
   "source": [
    "person1"
   ]
  },
  {
   "cell_type": "code",
   "execution_count": 39,
   "id": "47370bd0-0774-4bf9-b174-086d367c30af",
   "metadata": {},
   "outputs": [
    {
     "data": {
      "text/plain": [
       "2"
      ]
     },
     "execution_count": 39,
     "metadata": {},
     "output_type": "execute_result"
    }
   ],
   "source": [
    "person1.legs"
   ]
  },
  {
   "cell_type": "code",
   "execution_count": 40,
   "id": "44c5759a-22f7-4bc9-ae58-a77273527d4d",
   "metadata": {},
   "outputs": [
    {
     "data": {
      "text/plain": [
       "2"
      ]
     },
     "execution_count": 40,
     "metadata": {},
     "output_type": "execute_result"
    }
   ],
   "source": [
    "person1.hands"
   ]
  },
  {
   "cell_type": "code",
   "execution_count": 41,
   "id": "2cda4add-1ebc-4374-a2d9-cc0b0e9015b9",
   "metadata": {},
   "outputs": [
    {
     "data": {
      "text/plain": [
       "'male'"
      ]
     },
     "execution_count": 41,
     "metadata": {},
     "output_type": "execute_result"
    }
   ],
   "source": [
    "person1.gender"
   ]
  },
  {
   "cell_type": "code",
   "execution_count": 50,
   "id": "4b571561-b08b-4d8f-bfce-3679a4da8fdd",
   "metadata": {},
   "outputs": [
    {
     "ename": "AttributeError",
     "evalue": "'Human' object has no attribute '__feelings'",
     "output_type": "error",
     "traceback": [
      "\u001b[0;31m---------------------------------------------------------------------------\u001b[0m",
      "\u001b[0;31mAttributeError\u001b[0m                            Traceback (most recent call last)",
      "Cell \u001b[0;32mIn[50], line 1\u001b[0m\n\u001b[0;32m----> 1\u001b[0m \u001b[43mperson1\u001b[49m\u001b[38;5;241;43m.\u001b[39;49m\u001b[43m__feelings\u001b[49m\n",
      "\u001b[0;31mAttributeError\u001b[0m: 'Human' object has no attribute '__feelings'"
     ]
    }
   ],
   "source": [
    "person1.__feelings"
   ]
  },
  {
   "cell_type": "code",
   "execution_count": 49,
   "id": "186cda1c-4985-4cd5-93cc-00766574caf1",
   "metadata": {},
   "outputs": [
    {
     "name": "stdout",
     "output_type": "stream",
     "text": [
      "Crying because of Sensitive feelings\n"
     ]
    }
   ],
   "source": [
    "person1.cry()"
   ]
  },
  {
   "cell_type": "code",
   "execution_count": 15,
   "id": "b579ff0e-12c6-41c7-9dee-fd4eff75eeef",
   "metadata": {},
   "outputs": [
    {
     "name": "stdout",
     "output_type": "stream",
     "text": [
      "2\n",
      "Thinking....!\n"
     ]
    }
   ],
   "source": [
    "person1.think()"
   ]
  },
  {
   "cell_type": "code",
   "execution_count": 23,
   "id": "a4edf977-007e-40c3-b87b-d2ced4b6ee03",
   "metadata": {},
   "outputs": [],
   "source": [
    "class A:\n",
    "    def a1(self):\n",
    "        pass"
   ]
  },
  {
   "cell_type": "code",
   "execution_count": 24,
   "id": "9a5de53b-4ccb-4256-9144-0e0ebd8f1708",
   "metadata": {},
   "outputs": [],
   "source": [
    "a = A()"
   ]
  },
  {
   "cell_type": "code",
   "execution_count": 21,
   "id": "556258b9-1f57-42a8-b6a7-1bd8129492be",
   "metadata": {},
   "outputs": [
    {
     "data": {
      "text/plain": [
       "<__main__.A at 0x106863f10>"
      ]
     },
     "execution_count": 21,
     "metadata": {},
     "output_type": "execute_result"
    }
   ],
   "source": [
    "a"
   ]
  },
  {
   "cell_type": "code",
   "execution_count": 25,
   "id": "84c97e36-f67d-491b-9c5d-c43d31de2391",
   "metadata": {},
   "outputs": [],
   "source": [
    "a.a1()"
   ]
  },
  {
   "cell_type": "code",
   "execution_count": 34,
   "id": "1eeee0fc-8ea3-4841-ba36-941ba3a5cad3",
   "metadata": {},
   "outputs": [],
   "source": [
    "class B:\n",
    "    def __init__(self):\n",
    "        self.b1 = \"b1\"\n",
    "        self.b2 = \"b2\"\n",
    "    def __init__(self,a,b):\n",
    "        self.b1 = a\n",
    "        self.b2 = b"
   ]
  },
  {
   "cell_type": "code",
   "execution_count": 35,
   "id": "a01ec574-bc00-4290-b599-6252976e8522",
   "metadata": {},
   "outputs": [
    {
     "ename": "TypeError",
     "evalue": "B.__init__() missing 2 required positional arguments: 'a' and 'b'",
     "output_type": "error",
     "traceback": [
      "\u001b[0;31m---------------------------------------------------------------------------\u001b[0m",
      "\u001b[0;31mTypeError\u001b[0m                                 Traceback (most recent call last)",
      "Cell \u001b[0;32mIn[35], line 1\u001b[0m\n\u001b[0;32m----> 1\u001b[0m b \u001b[38;5;241m=\u001b[39m \u001b[43mB\u001b[49m\u001b[43m(\u001b[49m\u001b[43m)\u001b[49m\n",
      "\u001b[0;31mTypeError\u001b[0m: B.__init__() missing 2 required positional arguments: 'a' and 'b'"
     ]
    }
   ],
   "source": [
    "b = B()"
   ]
  },
  {
   "cell_type": "code",
   "execution_count": 30,
   "id": "09fb6cf6-44e5-43a5-9e9a-ea0ee8a91746",
   "metadata": {},
   "outputs": [
    {
     "data": {
      "text/plain": [
       "'b1'"
      ]
     },
     "execution_count": 30,
     "metadata": {},
     "output_type": "execute_result"
    }
   ],
   "source": [
    "b.b1"
   ]
  },
  {
   "cell_type": "code",
   "execution_count": null,
   "id": "3bd72a01-57c4-46f0-bda8-5eb01c9c29a5",
   "metadata": {},
   "outputs": [],
   "source": [
    "class C:\n",
    "    def __init__(sel):\n",
    "        self.c1 = \"c1\""
   ]
  }
 ],
 "metadata": {
  "kernelspec": {
   "display_name": "Python 3 (ipykernel)",
   "language": "python",
   "name": "python3"
  },
  "language_info": {
   "codemirror_mode": {
    "name": "ipython",
    "version": 3
   },
   "file_extension": ".py",
   "mimetype": "text/x-python",
   "name": "python",
   "nbconvert_exporter": "python",
   "pygments_lexer": "ipython3",
   "version": "3.11.3"
  }
 },
 "nbformat": 4,
 "nbformat_minor": 5
}
