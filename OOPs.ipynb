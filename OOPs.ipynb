{
 "cells": [
  {
   "cell_type": "code",
   "execution_count": 44,
   "id": "32a9d272-178e-438f-a6fc-e249d1239569",
   "metadata": {},
   "outputs": [],
   "source": [
    "class Human:\n",
    "    \"\"\"\n",
    "   \n",
    "        print(\"Heart Beat\")\n",
    "    def think(self):\n",
    "        print(self.legs) Human class/Logical Entity defines the properties and actions\n",
    "    \"\"\"\n",
    "    count = 0\n",
    "    def __init__(self,gender,color):\n",
    "        self.legs = 2\n",
    "        self.hands = 2\n",
    "        self.__feelings = \"Sensitive\"\n",
    "        self.color = color\n",
    "        self.gender = gender\n",
    "        self.__heart = \"Heart\"\n",
    "        self._genital_parts = \"Genital Parts\"\n",
    "\n",
    "    def get_feelings(self):\n",
    "        return self.__feelings\n",
    "\n",
    "    def set_feelings(self,feeling):\n",
    "        self.__feelings = feeling\n",
    "        \n",
    "    def __heart_beat(self):\n",
    "        self.disease = \"Heart Attack\"\n",
    "        print(\"Thinking....!\")\n",
    "        \n",
    "    def living(self):\n",
    "        self.__heart_beat()\n",
    "        self.cry()\n",
    "        \n",
    "    def cry(self):\n",
    "        print(self.count)\n",
    "        print(f\"Crying because of {self.__feelings} feelings\")\n",
    "\n",
    "    @classmethod\n",
    "    def add_count(cls):\n",
    "        print(\"Adding 1 to the count\")\n",
    "        cls.count += 1"
   ]
  },
  {
   "cell_type": "code",
   "execution_count": 39,
   "id": "3f1d8078-a604-40c2-bd3d-4a6dc3f0b8f1",
   "metadata": {},
   "outputs": [],
   "source": [
    "person1 = Human(\"male\",\"white\")"
   ]
  },
  {
   "cell_type": "code",
   "execution_count": 47,
   "id": "8725208f-797d-4cac-a243-b8f4782bae1d",
   "metadata": {},
   "outputs": [
    {
     "name": "stdout",
     "output_type": "stream",
     "text": [
      "Help on Human in module __main__ object:\n",
      "\n",
      "class Human(builtins.object)\n",
      " |  Human(gender, color)\n",
      " |  \n",
      " |      print(\"Heart Beat\")\n",
      " |  def think(self):\n",
      " |      print(self.legs) Human class/Logical Entity defines the properties and actions\n",
      " |  \n",
      " |  Methods defined here:\n",
      " |  \n",
      " |  __init__(self, gender, color)\n",
      " |  \n",
      " |  cry(self)\n",
      " |  \n",
      " |  get_feelings(self)\n",
      " |  \n",
      " |  living(self)\n",
      " |  \n",
      " |  set_feelings(self, feeling)\n",
      " |  \n",
      " |  ----------------------------------------------------------------------\n",
      " |  Class methods defined here:\n",
      " |  \n",
      " |  add_count() from builtins.type\n",
      " |  \n",
      " |  ----------------------------------------------------------------------\n",
      " |  Data descriptors defined here:\n",
      " |  \n",
      " |  __dict__\n",
      " |      dictionary for instance variables (if defined)\n",
      " |  \n",
      " |  __weakref__\n",
      " |      list of weak references to the object (if defined)\n",
      " |  \n",
      " |  ----------------------------------------------------------------------\n",
      " |  Data and other attributes defined here:\n",
      " |  \n",
      " |  count = 0\n",
      "\n"
     ]
    }
   ],
   "source": [
    "help(person1)"
   ]
  },
  {
   "cell_type": "code",
   "execution_count": 46,
   "id": "8d6b10dd-93e1-4421-b632-a49a30a641f1",
   "metadata": {},
   "outputs": [
    {
     "data": {
      "text/plain": [
       "['_Human__feelings',\n",
       " '_Human__heart',\n",
       " '_Human__heart_beat',\n",
       " '__class__',\n",
       " '__delattr__',\n",
       " '__dict__',\n",
       " '__dir__',\n",
       " '__doc__',\n",
       " '__eq__',\n",
       " '__format__',\n",
       " '__ge__',\n",
       " '__getattribute__',\n",
       " '__getstate__',\n",
       " '__gt__',\n",
       " '__hash__',\n",
       " '__init__',\n",
       " '__init_subclass__',\n",
       " '__le__',\n",
       " '__lt__',\n",
       " '__module__',\n",
       " '__ne__',\n",
       " '__new__',\n",
       " '__reduce__',\n",
       " '__reduce_ex__',\n",
       " '__repr__',\n",
       " '__setattr__',\n",
       " '__sizeof__',\n",
       " '__str__',\n",
       " '__subclasshook__',\n",
       " '__weakref__',\n",
       " '_genital_parts',\n",
       " 'add_count',\n",
       " 'color',\n",
       " 'count',\n",
       " 'cry',\n",
       " 'gender',\n",
       " 'get_feelings',\n",
       " 'hands',\n",
       " 'legs',\n",
       " 'living',\n",
       " 'set_feelings']"
      ]
     },
     "execution_count": 46,
     "metadata": {},
     "output_type": "execute_result"
    }
   ],
   "source": [
    "dir(person1)"
   ]
  },
  {
   "cell_type": "code",
   "execution_count": 40,
   "id": "7cb9cf9f-2d04-42e4-ae9a-b1cedf9ecd07",
   "metadata": {},
   "outputs": [
    {
     "ename": "AttributeError",
     "evalue": "'Human' object has no attribute '__feelings'",
     "output_type": "error",
     "traceback": [
      "\u001b[0;31m---------------------------------------------------------------------------\u001b[0m",
      "\u001b[0;31mAttributeError\u001b[0m                            Traceback (most recent call last)",
      "Cell \u001b[0;32mIn[40], line 1\u001b[0m\n\u001b[0;32m----> 1\u001b[0m \u001b[43mperson1\u001b[49m\u001b[38;5;241;43m.\u001b[39;49m\u001b[43m__feelings\u001b[49m\n",
      "\u001b[0;31mAttributeError\u001b[0m: 'Human' object has no attribute '__feelings'"
     ]
    }
   ],
   "source": [
    "person1.__feelings"
   ]
  },
  {
   "cell_type": "code",
   "execution_count": 41,
   "id": "7c540761-ceeb-4b8c-a5bb-3071a553f109",
   "metadata": {},
   "outputs": [
    {
     "data": {
      "text/plain": [
       "'Sensitive'"
      ]
     },
     "execution_count": 41,
     "metadata": {},
     "output_type": "execute_result"
    }
   ],
   "source": [
    "person1.get_feelings()"
   ]
  },
  {
   "cell_type": "code",
   "execution_count": 42,
   "id": "17201fb8-5a1d-4e4d-80fe-dbede8a29a08",
   "metadata": {},
   "outputs": [],
   "source": [
    "person1.set_feelings(\"Harsh\")"
   ]
  },
  {
   "cell_type": "code",
   "execution_count": 43,
   "id": "cf0389be-889a-4fbe-a42f-a5a6ea7d12f9",
   "metadata": {},
   "outputs": [
    {
     "data": {
      "text/plain": [
       "'Harsh'"
      ]
     },
     "execution_count": 43,
     "metadata": {},
     "output_type": "execute_result"
    }
   ],
   "source": [
    "person1.get_feelings()"
   ]
  },
  {
   "cell_type": "code",
   "execution_count": 16,
   "id": "a882d85b-7c61-4c64-bf59-d552e2191085",
   "metadata": {},
   "outputs": [
    {
     "data": {
      "text/plain": [
       "0"
      ]
     },
     "execution_count": 16,
     "metadata": {},
     "output_type": "execute_result"
    }
   ],
   "source": [
    "Human.count"
   ]
  },
  {
   "cell_type": "code",
   "execution_count": 17,
   "id": "fca9736c-ebd2-4017-af4b-68f1109053ef",
   "metadata": {},
   "outputs": [
    {
     "name": "stdout",
     "output_type": "stream",
     "text": [
      "Adding 1 to the count\n"
     ]
    }
   ],
   "source": [
    "Human.add_count()"
   ]
  },
  {
   "cell_type": "code",
   "execution_count": 18,
   "id": "db8a425e-90c4-4999-9fa8-eba637f0b619",
   "metadata": {},
   "outputs": [
    {
     "data": {
      "text/plain": [
       "1"
      ]
     },
     "execution_count": 18,
     "metadata": {},
     "output_type": "execute_result"
    }
   ],
   "source": [
    "Human.count"
   ]
  },
  {
   "cell_type": "code",
   "execution_count": 7,
   "id": "85f91959-ed20-4736-888c-4e588d13ae75",
   "metadata": {},
   "outputs": [
    {
     "data": {
      "text/plain": [
       "__main__.Human"
      ]
     },
     "execution_count": 7,
     "metadata": {},
     "output_type": "execute_result"
    }
   ],
   "source": [
    "Human"
   ]
  },
  {
   "cell_type": "code",
   "execution_count": 19,
   "id": "601ce2a6-cc88-44b7-923a-eb6feb92436d",
   "metadata": {},
   "outputs": [
    {
     "data": {
      "text/plain": [
       "1"
      ]
     },
     "execution_count": 19,
     "metadata": {},
     "output_type": "execute_result"
    }
   ],
   "source": [
    "person1.count"
   ]
  },
  {
   "cell_type": "code",
   "execution_count": 20,
   "id": "1aa5683b-9354-41df-9208-a5427eb7f583",
   "metadata": {},
   "outputs": [
    {
     "name": "stdout",
     "output_type": "stream",
     "text": [
      "Adding 1 to the count\n"
     ]
    }
   ],
   "source": [
    "person1.add_count()"
   ]
  },
  {
   "cell_type": "code",
   "execution_count": 21,
   "id": "9b1ae3ce-7990-4afb-8d09-b0ac2120c414",
   "metadata": {},
   "outputs": [
    {
     "data": {
      "text/plain": [
       "2"
      ]
     },
     "execution_count": 21,
     "metadata": {},
     "output_type": "execute_result"
    }
   ],
   "source": [
    "person1.count"
   ]
  },
  {
   "cell_type": "code",
   "execution_count": 22,
   "id": "031eb104-9196-42ba-93f8-90d4dbc7d826",
   "metadata": {},
   "outputs": [
    {
     "name": "stdout",
     "output_type": "stream",
     "text": [
      "2\n",
      "Crying because of Sensitive feelings\n"
     ]
    }
   ],
   "source": [
    "person1.cry()"
   ]
  },
  {
   "cell_type": "code",
   "execution_count": 45,
   "id": "47370bd0-0774-4bf9-b174-086d367c30af",
   "metadata": {},
   "outputs": [
    {
     "data": {
      "text/plain": [
       "2"
      ]
     },
     "execution_count": 45,
     "metadata": {},
     "output_type": "execute_result"
    }
   ],
   "source": [
    "person1.legs"
   ]
  },
  {
   "cell_type": "code",
   "execution_count": 40,
   "id": "44c5759a-22f7-4bc9-ae58-a77273527d4d",
   "metadata": {},
   "outputs": [
    {
     "data": {
      "text/plain": [
       "2"
      ]
     },
     "execution_count": 40,
     "metadata": {},
     "output_type": "execute_result"
    }
   ],
   "source": [
    "person1.hands"
   ]
  },
  {
   "cell_type": "code",
   "execution_count": 41,
   "id": "2cda4add-1ebc-4374-a2d9-cc0b0e9015b9",
   "metadata": {},
   "outputs": [
    {
     "data": {
      "text/plain": [
       "'male'"
      ]
     },
     "execution_count": 41,
     "metadata": {},
     "output_type": "execute_result"
    }
   ],
   "source": [
    "person1.gender"
   ]
  },
  {
   "cell_type": "code",
   "execution_count": 50,
   "id": "4b571561-b08b-4d8f-bfce-3679a4da8fdd",
   "metadata": {},
   "outputs": [
    {
     "ename": "AttributeError",
     "evalue": "'Human' object has no attribute '__feelings'",
     "output_type": "error",
     "traceback": [
      "\u001b[0;31m---------------------------------------------------------------------------\u001b[0m",
      "\u001b[0;31mAttributeError\u001b[0m                            Traceback (most recent call last)",
      "Cell \u001b[0;32mIn[50], line 1\u001b[0m\n\u001b[0;32m----> 1\u001b[0m \u001b[43mperson1\u001b[49m\u001b[38;5;241;43m.\u001b[39;49m\u001b[43m__feelings\u001b[49m\n",
      "\u001b[0;31mAttributeError\u001b[0m: 'Human' object has no attribute '__feelings'"
     ]
    }
   ],
   "source": [
    "person1.__feelings"
   ]
  },
  {
   "cell_type": "code",
   "execution_count": 49,
   "id": "186cda1c-4985-4cd5-93cc-00766574caf1",
   "metadata": {},
   "outputs": [
    {
     "name": "stdout",
     "output_type": "stream",
     "text": [
      "Crying because of Sensitive feelings\n"
     ]
    }
   ],
   "source": [
    "person1.cry()"
   ]
  },
  {
   "cell_type": "code",
   "execution_count": 15,
   "id": "b579ff0e-12c6-41c7-9dee-fd4eff75eeef",
   "metadata": {},
   "outputs": [
    {
     "name": "stdout",
     "output_type": "stream",
     "text": [
      "2\n",
      "Thinking....!\n"
     ]
    }
   ],
   "source": [
    "person1.think()"
   ]
  },
  {
   "cell_type": "code",
   "execution_count": 23,
   "id": "a4edf977-007e-40c3-b87b-d2ced4b6ee03",
   "metadata": {},
   "outputs": [],
   "source": [
    "class A:\n",
    "    def a1(self):\n",
    "        pass"
   ]
  },
  {
   "cell_type": "code",
   "execution_count": 24,
   "id": "9a5de53b-4ccb-4256-9144-0e0ebd8f1708",
   "metadata": {},
   "outputs": [],
   "source": [
    "a = A()"
   ]
  },
  {
   "cell_type": "code",
   "execution_count": 21,
   "id": "556258b9-1f57-42a8-b6a7-1bd8129492be",
   "metadata": {},
   "outputs": [
    {
     "data": {
      "text/plain": [
       "<__main__.A at 0x106863f10>"
      ]
     },
     "execution_count": 21,
     "metadata": {},
     "output_type": "execute_result"
    }
   ],
   "source": [
    "a"
   ]
  },
  {
   "cell_type": "code",
   "execution_count": 25,
   "id": "84c97e36-f67d-491b-9c5d-c43d31de2391",
   "metadata": {},
   "outputs": [],
   "source": [
    "a.a1()"
   ]
  },
  {
   "cell_type": "code",
   "execution_count": 34,
   "id": "1eeee0fc-8ea3-4841-ba36-941ba3a5cad3",
   "metadata": {},
   "outputs": [],
   "source": [
    "class B:\n",
    "    def __init__(self):\n",
    "        self.b1 = \"b1\"\n",
    "        self.b2 = \"b2\"\n",
    "    def __init__(self,a,b):\n",
    "        self.b1 = a\n",
    "        self.b2 = b"
   ]
  },
  {
   "cell_type": "code",
   "execution_count": 35,
   "id": "a01ec574-bc00-4290-b599-6252976e8522",
   "metadata": {},
   "outputs": [
    {
     "ename": "TypeError",
     "evalue": "B.__init__() missing 2 required positional arguments: 'a' and 'b'",
     "output_type": "error",
     "traceback": [
      "\u001b[0;31m---------------------------------------------------------------------------\u001b[0m",
      "\u001b[0;31mTypeError\u001b[0m                                 Traceback (most recent call last)",
      "Cell \u001b[0;32mIn[35], line 1\u001b[0m\n\u001b[0;32m----> 1\u001b[0m b \u001b[38;5;241m=\u001b[39m \u001b[43mB\u001b[49m\u001b[43m(\u001b[49m\u001b[43m)\u001b[49m\n",
      "\u001b[0;31mTypeError\u001b[0m: B.__init__() missing 2 required positional arguments: 'a' and 'b'"
     ]
    }
   ],
   "source": [
    "b = B()"
   ]
  },
  {
   "cell_type": "code",
   "execution_count": 30,
   "id": "09fb6cf6-44e5-43a5-9e9a-ea0ee8a91746",
   "metadata": {},
   "outputs": [
    {
     "data": {
      "text/plain": [
       "'b1'"
      ]
     },
     "execution_count": 30,
     "metadata": {},
     "output_type": "execute_result"
    }
   ],
   "source": [
    "b.b1"
   ]
  },
  {
   "cell_type": "code",
   "execution_count": null,
   "id": "3bd72a01-57c4-46f0-bda8-5eb01c9c29a5",
   "metadata": {},
   "outputs": [],
   "source": [
    "class C:\n",
    "    def __init__(sel):\n",
    "        self.c1 = \"c1\""
   ]
  },
  {
   "cell_type": "code",
   "execution_count": 53,
   "id": "c25d5f3c-07c0-411c-a9f7-4724cbe540ce",
   "metadata": {},
   "outputs": [],
   "source": [
    "class GrandFather:\n",
    "    pass"
   ]
  },
  {
   "cell_type": "code",
   "execution_count": 54,
   "id": "a8bcf918-5265-40cd-a086-4a0f493947da",
   "metadata": {},
   "outputs": [],
   "source": [
    "class Father(GrandFather):\n",
    "    pass"
   ]
  },
  {
   "cell_type": "code",
   "execution_count": 55,
   "id": "181fc210-cfae-4cc3-8d6a-10e19f2110b4",
   "metadata": {},
   "outputs": [],
   "source": [
    "class Child(Father):\n",
    "    pass"
   ]
  },
  {
   "cell_type": "code",
   "execution_count": 56,
   "id": "ef1e6b4e-681d-4fb0-a4cd-55a0f21697c8",
   "metadata": {},
   "outputs": [],
   "source": [
    "class Father:\n",
    "    pass\n",
    "class Mother:\n",
    "    pass\n",
    "class Child(Father,Mother):\n",
    "    pass"
   ]
  },
  {
   "cell_type": "code",
   "execution_count": 19,
   "id": "2c3fc5c6-5a01-4fb3-b38e-0ae3b2380027",
   "metadata": {},
   "outputs": [
    {
     "data": {
      "text/plain": [
       "'__main__'"
      ]
     },
     "execution_count": 19,
     "metadata": {},
     "output_type": "execute_result"
    }
   ],
   "source": [
    "__name__"
   ]
  },
  {
   "cell_type": "code",
   "execution_count": 2,
   "id": "db54a334-8026-4c74-973b-686baf5b756b",
   "metadata": {},
   "outputs": [],
   "source": [
    "class A:\n",
    "    def __init__(self):\n",
    "        self.a1 = \"abc\"\n",
    "        self.b1 = \"b1\"\n",
    "        self.__c1 = \"c1\"\n",
    "        self._d1 = \"d1\"\n",
    "    def a(self):\n",
    "        print(\"I am a from class A\")"
   ]
  },
  {
   "cell_type": "code",
   "execution_count": 3,
   "id": "fb38d614-5eca-4b6a-8865-79b85330175e",
   "metadata": {},
   "outputs": [],
   "source": [
    "a = A()"
   ]
  },
  {
   "cell_type": "code",
   "execution_count": 4,
   "id": "084b09f0-14a7-4bd5-a520-152c998eab89",
   "metadata": {},
   "outputs": [
    {
     "data": {
      "text/plain": [
       "'d1'"
      ]
     },
     "execution_count": 4,
     "metadata": {},
     "output_type": "execute_result"
    }
   ],
   "source": [
    "a._d1"
   ]
  },
  {
   "cell_type": "code",
   "execution_count": 11,
   "id": "051f6115-7d25-4377-af9d-5d16ec5c559d",
   "metadata": {},
   "outputs": [],
   "source": [
    "class B(A):\n",
    "    def __init__(self):\n",
    "        super().__init__()\n",
    "        self.c = \"c\"\n",
    "    def ab(self):\n",
    "        print(\"I am from class B\")"
   ]
  },
  {
   "cell_type": "code",
   "execution_count": 12,
   "id": "2512288d-ea99-4417-8713-52dc5c2ca1cd",
   "metadata": {},
   "outputs": [],
   "source": [
    "b = B()"
   ]
  },
  {
   "cell_type": "code",
   "execution_count": 13,
   "id": "8f11197c-35ab-4749-bc77-ffa2c9f29c42",
   "metadata": {},
   "outputs": [
    {
     "name": "stdout",
     "output_type": "stream",
     "text": [
      "I am a from class A\n"
     ]
    }
   ],
   "source": [
    "b.a()"
   ]
  },
  {
   "cell_type": "code",
   "execution_count": 70,
   "id": "8413b12c-949b-45d3-9071-a6b87bb86526",
   "metadata": {},
   "outputs": [
    {
     "data": {
      "text/plain": [
       "'a'"
      ]
     },
     "execution_count": 70,
     "metadata": {},
     "output_type": "execute_result"
    }
   ],
   "source": [
    "b.a"
   ]
  },
  {
   "cell_type": "code",
   "execution_count": 75,
   "id": "461980c5-8a4f-4eda-9b49-eac8242d4ced",
   "metadata": {},
   "outputs": [
    {
     "name": "stdout",
     "output_type": "stream",
     "text": [
      "I am a from class A\n"
     ]
    }
   ],
   "source": [
    "b.a()"
   ]
  },
  {
   "cell_type": "code",
   "execution_count": null,
   "id": "bb6c9585-55b9-42e1-85bb-92c47df70b65",
   "metadata": {},
   "outputs": [],
   "source": []
  }
 ],
 "metadata": {
  "kernelspec": {
   "display_name": "Python 3 (ipykernel)",
   "language": "python",
   "name": "python3"
  },
  "language_info": {
   "codemirror_mode": {
    "name": "ipython",
    "version": 3
   },
   "file_extension": ".py",
   "mimetype": "text/x-python",
   "name": "python",
   "nbconvert_exporter": "python",
   "pygments_lexer": "ipython3",
   "version": "3.11.3"
  }
 },
 "nbformat": 4,
 "nbformat_minor": 5
}
