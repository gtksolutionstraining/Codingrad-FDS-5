{
 "cells": [
  {
   "cell_type": "markdown",
   "id": "743b472b-1e5f-45ee-becf-cc2b3b5e61bf",
   "metadata": {},
   "source": [
    "# Data Types\n",
    "- Integer Data Types\n",
    "- Float Data Types\n",
    "- String Data Types\n",
    "- We can use *type()* to get data type of the variable\n",
    "- Definition --> Assigning value to the variable\n",
    "- Decleration --> Python doesn't have decleration --> Declaring a variable without assigning a value\n",
    "- Instantiation --> Creating an object of a class\n",
    "- All primitive data types are immutable objects"
   ]
  },
  {
   "cell_type": "code",
   "execution_count": 8,
   "id": "2d97015d-f527-4213-9f0c-54b064e7d4f5",
   "metadata": {},
   "outputs": [],
   "source": [
    "# Defining Integers in Python\n",
    "a = 1\n",
    "b = 2"
   ]
  },
  {
   "cell_type": "code",
   "execution_count": 1,
   "id": "9ebe8bcb-d151-4070-8f39-e6c08fe27bbf",
   "metadata": {},
   "outputs": [],
   "source": [
    "a = 1"
   ]
  },
  {
   "cell_type": "code",
   "execution_count": 2,
   "id": "303f043a-acf0-406f-ba6a-692e7c2ac368",
   "metadata": {},
   "outputs": [],
   "source": [
    "a = 2"
   ]
  },
  {
   "cell_type": "code",
   "execution_count": 9,
   "id": "dedb1e89-23ce-4c56-a41e-f0910382cde0",
   "metadata": {},
   "outputs": [],
   "source": [
    "# Defining Floats in Python\n",
    "c = 2.2\n",
    "d = 3.2"
   ]
  },
  {
   "cell_type": "code",
   "execution_count": 3,
   "id": "362eeb63-7782-4c03-abec-ea8e293e36f0",
   "metadata": {},
   "outputs": [
    {
     "data": {
      "text/plain": [
       "(int, int, float, float)"
      ]
     },
     "execution_count": 3,
     "metadata": {},
     "output_type": "execute_result"
    }
   ],
   "source": [
    "type(a),type(b),type(c),type(d)"
   ]
  },
  {
   "cell_type": "markdown",
   "id": "115b57a1-4339-40b1-a78e-06e0cc7ff033",
   "metadata": {},
   "source": [
    "# Arithmetic Operations on Integer and Floating Data types\n",
    "- Addition\n",
    " - Addition of two integers is an integer\n",
    " - Addition of one integer and one float is a float\n",
    " - Addition of 2 floats is a float\n",
    "- Subtraction\n",
    " - Subtraction of two integers is an integer\n",
    " - Subtraction of one integer and one float is a float\n",
    " - Subtarction of two floats is a float\n",
    "- Multiplication\n",
    " - Multiplication of two integers is an integer\n",
    " - Multiplication of one integer and one float is a float\n",
    " - Multiplication of two floats is a float\n",
    "- Division\n",
    " - Division of two integers is an float\n",
    " - Division of one integer and one float is a float\n",
    " - Division of two floats is a float"
   ]
  },
  {
   "cell_type": "code",
   "execution_count": 4,
   "id": "c89c0894-301c-45a1-bb0d-0aed30bc8ed6",
   "metadata": {},
   "outputs": [],
   "source": [
    "e = a+b"
   ]
  },
  {
   "cell_type": "code",
   "execution_count": 5,
   "id": "24c91d0a-3ffc-4884-82aa-ab8734747f51",
   "metadata": {},
   "outputs": [
    {
     "data": {
      "text/plain": [
       "int"
      ]
     },
     "execution_count": 5,
     "metadata": {},
     "output_type": "execute_result"
    }
   ],
   "source": [
    "type(e)"
   ]
  },
  {
   "cell_type": "code",
   "execution_count": 6,
   "id": "87f4ba6c-d006-4f1e-ab4e-78070cf0fe9e",
   "metadata": {},
   "outputs": [],
   "source": [
    "f = a+c"
   ]
  },
  {
   "cell_type": "code",
   "execution_count": 7,
   "id": "77706a5c-9374-4ff7-8038-a839fabd5a53",
   "metadata": {},
   "outputs": [
    {
     "data": {
      "text/plain": [
       "float"
      ]
     },
     "execution_count": 7,
     "metadata": {},
     "output_type": "execute_result"
    }
   ],
   "source": [
    "type(f)"
   ]
  },
  {
   "cell_type": "markdown",
   "id": "fbadff77-15a0-4357-9365-8dac98485127",
   "metadata": {},
   "source": [
    "# String Data Types\n",
    "- String --> Is a sequence of characters\n",
    "- In sequence order matters\n",
    "- A character is an element in ASCII\n",
    "- A character is string with length 1\n",
    "- Examples: Hyderabad\n",
    "## Defining Strings in Python\n",
    "- We can define strings in python in 3 ways\n",
    "- Defining string using single quote --> ''\n",
    "- Defining string using double quote --> \"\"\n",
    "- Defining string using triple quote --> ''''''\n",
    "- Based on Python Syntax --> String starts with SOS and ends with EOS\n",
    "- SOS --> '\n",
    "- Python will search for ', if it encounters ' then it will assume that string definition is done"
   ]
  },
  {
   "cell_type": "code",
   "execution_count": 10,
   "id": "fc820620-c71f-4d99-be25-f47735bdc7da",
   "metadata": {},
   "outputs": [],
   "source": [
    "# Defining Strings in Python\n",
    "city = 'Hyderabad'"
   ]
  },
  {
   "cell_type": "code",
   "execution_count": 13,
   "id": "446b0797-5025-41cd-ac64-85c5318ae6f7",
   "metadata": {},
   "outputs": [
    {
     "data": {
      "text/plain": [
       "'Hyderabad'"
      ]
     },
     "execution_count": 13,
     "metadata": {},
     "output_type": "execute_result"
    }
   ],
   "source": [
    "city"
   ]
  },
  {
   "cell_type": "code",
   "execution_count": 12,
   "id": "9f1bbbb6-ecd4-4bb9-ae71-f6592add401d",
   "metadata": {},
   "outputs": [],
   "source": [
    "statement = \"Tharun's Laptop got missed\""
   ]
  },
  {
   "cell_type": "code",
   "execution_count": 14,
   "id": "e59d7760-8c27-4b87-b4ff-0fcbb86c6a72",
   "metadata": {},
   "outputs": [
    {
     "data": {
      "text/plain": [
       "\"Tharun's Laptop got missed\""
      ]
     },
     "execution_count": 14,
     "metadata": {},
     "output_type": "execute_result"
    }
   ],
   "source": [
    "statement"
   ]
  },
  {
   "cell_type": "code",
   "execution_count": 16,
   "id": "e01ab7ec-d0a5-4375-bc9b-39024f6ce288",
   "metadata": {},
   "outputs": [],
   "source": [
    "speech = 'He said, \"Sun rises in the east\"'"
   ]
  },
  {
   "cell_type": "code",
   "execution_count": 17,
   "id": "f0bcf73c-0d2f-4fd5-b5b3-10abb86be081",
   "metadata": {},
   "outputs": [
    {
     "data": {
      "text/plain": [
       "'He said, \"Sun rises in the east\"'"
      ]
     },
     "execution_count": 17,
     "metadata": {},
     "output_type": "execute_result"
    }
   ],
   "source": [
    "speech"
   ]
  },
  {
   "cell_type": "code",
   "execution_count": 19,
   "id": "7d4c22e5-4a66-4a58-9b98-3b9cf983ed77",
   "metadata": {},
   "outputs": [],
   "source": [
    "speech = '''He said, \"Sun rises in th east\"'''\n",
    "## We will use ''' in Python Integrated SQL"
   ]
  },
  {
   "cell_type": "code",
   "execution_count": 21,
   "id": "ea9c49ab-6793-423a-abd4-ae6ab2814035",
   "metadata": {},
   "outputs": [
    {
     "data": {
      "text/plain": [
       "'\\nThis is multiline comments\\nThis is called DocStrings\\n'"
      ]
     },
     "execution_count": 21,
     "metadata": {},
     "output_type": "execute_result"
    }
   ],
   "source": [
    "\"\"\"\n",
    "This is multiline comments\n",
    "This is called DocStrings\n",
    "\"\"\""
   ]
  },
  {
   "cell_type": "code",
   "execution_count": 30,
   "id": "ad307625-74a9-4e2e-b87a-992816e3432d",
   "metadata": {},
   "outputs": [],
   "source": [
    "city = 'Hyderabad'\n",
    "## Indexing/ Accessing/ Extracting\n",
    "## Elements ==> H,y,d,e,r,a,b,a,d\n",
    "## Indices ==> 0,1,2,3,4,5,6,7,8 --> Forward Indexing\n",
    "## Indices ==> -9,-8,-7,-6,-5,-4,-3,-2,-1 --> Backward Indexing\n",
    "## The counting of a sequence will start from 0"
   ]
  },
  {
   "cell_type": "code",
   "execution_count": 27,
   "id": "c8b7e194-26c0-4f36-887a-5370e04c3a4e",
   "metadata": {},
   "outputs": [
    {
     "data": {
      "text/plain": [
       "'a'"
      ]
     },
     "execution_count": 27,
     "metadata": {},
     "output_type": "execute_result"
    }
   ],
   "source": [
    "city[5]"
   ]
  },
  {
   "cell_type": "code",
   "execution_count": 28,
   "id": "7f4437d6-9c90-4abf-af6f-e8bc512a6fee",
   "metadata": {},
   "outputs": [
    {
     "data": {
      "text/plain": [
       "'a'"
      ]
     },
     "execution_count": 28,
     "metadata": {},
     "output_type": "execute_result"
    }
   ],
   "source": [
    "city[7]"
   ]
  },
  {
   "cell_type": "code",
   "execution_count": 29,
   "id": "0e438d65-41c5-43be-a961-3fcc1b82d8ff",
   "metadata": {},
   "outputs": [
    {
     "data": {
      "text/plain": [
       "'r'"
      ]
     },
     "execution_count": 29,
     "metadata": {},
     "output_type": "execute_result"
    }
   ],
   "source": [
    "city[-5]"
   ]
  },
  {
   "cell_type": "code",
   "execution_count": 49,
   "id": "b1e986d9-1c8b-4dab-8876-04e083ff1794",
   "metadata": {},
   "outputs": [
    {
     "data": {
      "text/plain": [
       "'bad'"
      ]
     },
     "execution_count": 49,
     "metadata": {},
     "output_type": "execute_result"
    }
   ],
   "source": [
    "## Slicing/ Substrings\n",
    "## If we want to slice a substring --> Starting index of a substring is \"i\" and ending index of that substring is \"j\"\n",
    "## slice = i:j+1\n",
    "## if i = 0 then slice = :j+1\n",
    "## if j = last element of the string the slice = i:\n",
    "## Example --> Hyderabad --> bad\n",
    "## Strings are immutable --> They cannot be updated.\n",
    "city[6:9]"
   ]
  },
  {
   "cell_type": "code",
   "execution_count": 36,
   "id": "c876ffce-7a54-4cbe-b48f-70209383f40d",
   "metadata": {},
   "outputs": [
    {
     "data": {
      "text/plain": [
       "'bad'"
      ]
     },
     "execution_count": 36,
     "metadata": {},
     "output_type": "execute_result"
    }
   ],
   "source": [
    "city[6:]"
   ]
  },
  {
   "cell_type": "code",
   "execution_count": 33,
   "id": "33d7c747-d951-4f60-97db-f4891286984e",
   "metadata": {},
   "outputs": [
    {
     "data": {
      "text/plain": [
       "'era'"
      ]
     },
     "execution_count": 33,
     "metadata": {},
     "output_type": "execute_result"
    }
   ],
   "source": [
    "city[3:6]"
   ]
  },
  {
   "cell_type": "code",
   "execution_count": 37,
   "id": "c5ac1d11-1539-4ef8-ba04-8d8aa5a92db1",
   "metadata": {},
   "outputs": [
    {
     "data": {
      "text/plain": [
       "'Hyd'"
      ]
     },
     "execution_count": 37,
     "metadata": {},
     "output_type": "execute_result"
    }
   ],
   "source": [
    "city[0:3]"
   ]
  },
  {
   "cell_type": "code",
   "execution_count": 38,
   "id": "895868d0-f8fd-4de1-a148-06e95c2cf425",
   "metadata": {},
   "outputs": [
    {
     "data": {
      "text/plain": [
       "'Hyd'"
      ]
     },
     "execution_count": 38,
     "metadata": {},
     "output_type": "execute_result"
    }
   ],
   "source": [
    "city[:3]"
   ]
  },
  {
   "cell_type": "code",
   "execution_count": 39,
   "id": "2fca7119-df60-4aaf-a539-5cd402afce85",
   "metadata": {},
   "outputs": [
    {
     "data": {
      "text/plain": [
       "'Hydera'"
      ]
     },
     "execution_count": 39,
     "metadata": {},
     "output_type": "execute_result"
    }
   ],
   "source": [
    "city[:6]"
   ]
  },
  {
   "cell_type": "code",
   "execution_count": 40,
   "id": "a4a08f14-22a5-4d39-abb3-4fcff162abba",
   "metadata": {},
   "outputs": [
    {
     "data": {
      "text/plain": [
       "'Hyder'"
      ]
     },
     "execution_count": 40,
     "metadata": {},
     "output_type": "execute_result"
    }
   ],
   "source": [
    "city[:5]"
   ]
  },
  {
   "cell_type": "code",
   "execution_count": 41,
   "id": "c67518f9-4525-4373-9aa9-286ac4c327bc",
   "metadata": {},
   "outputs": [
    {
     "data": {
      "text/plain": [
       "'Hyderabad'"
      ]
     },
     "execution_count": 41,
     "metadata": {},
     "output_type": "execute_result"
    }
   ],
   "source": [
    "city"
   ]
  },
  {
   "cell_type": "code",
   "execution_count": 42,
   "id": "243721a4-31e1-43d4-8319-4868b2607ec5",
   "metadata": {},
   "outputs": [
    {
     "data": {
      "text/plain": [
       "9"
      ]
     },
     "execution_count": 42,
     "metadata": {},
     "output_type": "execute_result"
    }
   ],
   "source": [
    "len(city)"
   ]
  },
  {
   "cell_type": "code",
   "execution_count": 43,
   "id": "7edc97a1-a6f8-4b89-9d1e-14bd96bd1f72",
   "metadata": {},
   "outputs": [
    {
     "data": {
      "text/plain": [
       "'d'"
      ]
     },
     "execution_count": 43,
     "metadata": {},
     "output_type": "execute_result"
    }
   ],
   "source": [
    "city[8]"
   ]
  },
  {
   "cell_type": "code",
   "execution_count": 44,
   "id": "46874cd0-e4e9-425e-9932-f2396639907b",
   "metadata": {},
   "outputs": [
    {
     "ename": "IndexError",
     "evalue": "string index out of range",
     "output_type": "error",
     "traceback": [
      "\u001b[0;31m---------------------------------------------------------------------------\u001b[0m",
      "\u001b[0;31mIndexError\u001b[0m                                Traceback (most recent call last)",
      "Cell \u001b[0;32mIn[44], line 1\u001b[0m\n\u001b[0;32m----> 1\u001b[0m \u001b[43mcity\u001b[49m\u001b[43m[\u001b[49m\u001b[38;5;241;43m9\u001b[39;49m\u001b[43m]\u001b[49m\n",
      "\u001b[0;31mIndexError\u001b[0m: string index out of range"
     ]
    }
   ],
   "source": [
    "city[9]"
   ]
  },
  {
   "cell_type": "code",
   "execution_count": 45,
   "id": "af404f82-3f0e-46d4-8aeb-8baff255a02f",
   "metadata": {},
   "outputs": [
    {
     "data": {
      "text/plain": [
       "'Hyderabad'"
      ]
     },
     "execution_count": 45,
     "metadata": {},
     "output_type": "execute_result"
    }
   ],
   "source": [
    "city"
   ]
  },
  {
   "cell_type": "code",
   "execution_count": 46,
   "id": "1c8f25ca-6c88-4c51-b3df-08450435efb0",
   "metadata": {},
   "outputs": [],
   "source": [
    "## Hiderabad"
   ]
  },
  {
   "cell_type": "code",
   "execution_count": 48,
   "id": "0dd69583-edd9-4646-a827-fcd57f23a16e",
   "metadata": {},
   "outputs": [
    {
     "ename": "TypeError",
     "evalue": "'str' object does not support item assignment",
     "output_type": "error",
     "traceback": [
      "\u001b[0;31m---------------------------------------------------------------------------\u001b[0m",
      "\u001b[0;31mTypeError\u001b[0m                                 Traceback (most recent call last)",
      "Cell \u001b[0;32mIn[48], line 1\u001b[0m\n\u001b[0;32m----> 1\u001b[0m \u001b[43mcity\u001b[49m\u001b[43m[\u001b[49m\u001b[38;5;241;43m1\u001b[39;49m\u001b[43m]\u001b[49m \u001b[38;5;241m=\u001b[39m \u001b[38;5;124m'\u001b[39m\u001b[38;5;124mi\u001b[39m\u001b[38;5;124m'\u001b[39m\n",
      "\u001b[0;31mTypeError\u001b[0m: 'str' object does not support item assignment"
     ]
    }
   ],
   "source": [
    "city[1] = 'i'"
   ]
  },
  {
   "cell_type": "code",
   "execution_count": 50,
   "id": "b5996737-42e2-4db6-b4c3-398399159b7a",
   "metadata": {},
   "outputs": [],
   "source": [
    "city = \"Hiderabad\""
   ]
  },
  {
   "cell_type": "code",
   "execution_count": 51,
   "id": "9f10b1d6-b3d7-4ac7-991a-62ce2715493c",
   "metadata": {},
   "outputs": [
    {
     "data": {
      "text/plain": [
       "str"
      ]
     },
     "execution_count": 51,
     "metadata": {},
     "output_type": "execute_result"
    }
   ],
   "source": [
    "type(city)"
   ]
  },
  {
   "cell_type": "code",
   "execution_count": 52,
   "id": "038fba46-0855-4fc8-86da-48ffd0ebc9bf",
   "metadata": {},
   "outputs": [
    {
     "data": {
      "text/plain": [
       "int"
      ]
     },
     "execution_count": 52,
     "metadata": {},
     "output_type": "execute_result"
    }
   ],
   "source": [
    "type(a)"
   ]
  },
  {
   "cell_type": "code",
   "execution_count": 54,
   "id": "e4404907-cbe5-417b-89b5-ff77e4cae60a",
   "metadata": {},
   "outputs": [
    {
     "data": {
      "text/plain": [
       "['__add__',\n",
       " '__class__',\n",
       " '__contains__',\n",
       " '__delattr__',\n",
       " '__dir__',\n",
       " '__doc__',\n",
       " '__eq__',\n",
       " '__format__',\n",
       " '__ge__',\n",
       " '__getattribute__',\n",
       " '__getitem__',\n",
       " '__getnewargs__',\n",
       " '__getstate__',\n",
       " '__gt__',\n",
       " '__hash__',\n",
       " '__init__',\n",
       " '__init_subclass__',\n",
       " '__iter__',\n",
       " '__le__',\n",
       " '__len__',\n",
       " '__lt__',\n",
       " '__mod__',\n",
       " '__mul__',\n",
       " '__ne__',\n",
       " '__new__',\n",
       " '__reduce__',\n",
       " '__reduce_ex__',\n",
       " '__repr__',\n",
       " '__rmod__',\n",
       " '__rmul__',\n",
       " '__setattr__',\n",
       " '__sizeof__',\n",
       " '__str__',\n",
       " '__subclasshook__',\n",
       " 'capitalize',\n",
       " 'casefold',\n",
       " 'center',\n",
       " 'count',\n",
       " 'encode',\n",
       " 'endswith',\n",
       " 'expandtabs',\n",
       " 'find',\n",
       " 'format',\n",
       " 'format_map',\n",
       " 'index',\n",
       " 'isalnum',\n",
       " 'isalpha',\n",
       " 'isascii',\n",
       " 'isdecimal',\n",
       " 'isdigit',\n",
       " 'isidentifier',\n",
       " 'islower',\n",
       " 'isnumeric',\n",
       " 'isprintable',\n",
       " 'isspace',\n",
       " 'istitle',\n",
       " 'isupper',\n",
       " 'join',\n",
       " 'ljust',\n",
       " 'lower',\n",
       " 'lstrip',\n",
       " 'maketrans',\n",
       " 'partition',\n",
       " 'removeprefix',\n",
       " 'removesuffix',\n",
       " 'replace',\n",
       " 'rfind',\n",
       " 'rindex',\n",
       " 'rjust',\n",
       " 'rpartition',\n",
       " 'rsplit',\n",
       " 'rstrip',\n",
       " 'split',\n",
       " 'splitlines',\n",
       " 'startswith',\n",
       " 'strip',\n",
       " 'swapcase',\n",
       " 'title',\n",
       " 'translate',\n",
       " 'upper',\n",
       " 'zfill']"
      ]
     },
     "execution_count": 54,
     "metadata": {},
     "output_type": "execute_result"
    }
   ],
   "source": [
    "dir(str)"
   ]
  },
  {
   "cell_type": "markdown",
   "id": "b60bed71-d3ef-4c67-9481-04f88a19f51b",
   "metadata": {},
   "source": [
    "# String Functions\n",
    "- index\n",
    "- find\n",
    "- strip\n",
    "- lstrip\n",
    "- rstrip\n",
    "- replace\n",
    "- split\n",
    "- startswith\n",
    "- endswith\n",
    "- join\n",
    "- count"
   ]
  },
  {
   "cell_type": "code",
   "execution_count": 68,
   "id": "0c3229ea-8540-4959-899d-da8b19b113a7",
   "metadata": {},
   "outputs": [
    {
     "name": "stdout",
     "output_type": "stream",
     "text": [
      "Help on method_descriptor:\n",
      "\n",
      "strip(self, chars=None, /)\n",
      "    Return a copy of the string with leading and trailing whitespace removed.\n",
      "    \n",
      "    If chars is given and not None, remove characters in chars instead.\n",
      "\n"
     ]
    }
   ],
   "source": [
    "help(str.strip)"
   ]
  },
  {
   "cell_type": "code",
   "execution_count": 56,
   "id": "01dd4377-ffb7-4c3a-ad0a-44ea70cc28dd",
   "metadata": {},
   "outputs": [],
   "source": [
    "city = 'Hyderabad'"
   ]
  },
  {
   "cell_type": "code",
   "execution_count": 65,
   "id": "e5faa5fc-fb13-4242-934e-fb64ab47212e",
   "metadata": {},
   "outputs": [
    {
     "ename": "ValueError",
     "evalue": "substring not found",
     "output_type": "error",
     "traceback": [
      "\u001b[0;31m---------------------------------------------------------------------------\u001b[0m",
      "\u001b[0;31mValueError\u001b[0m                                Traceback (most recent call last)",
      "Cell \u001b[0;32mIn[65], line 2\u001b[0m\n\u001b[1;32m      1\u001b[0m \u001b[38;5;66;03m## Index function of a string will take a substring\u001b[39;00m\n\u001b[0;32m----> 2\u001b[0m \u001b[43mcity\u001b[49m\u001b[38;5;241;43m.\u001b[39;49m\u001b[43mindex\u001b[49m\u001b[43m(\u001b[49m\u001b[38;5;124;43m'\u001b[39;49m\u001b[38;5;124;43mbadhu\u001b[39;49m\u001b[38;5;124;43m'\u001b[39;49m\u001b[43m)\u001b[49m\n",
      "\u001b[0;31mValueError\u001b[0m: substring not found"
     ]
    }
   ],
   "source": [
    "## Index  and find functions of a string will take a substring\n",
    "city.index('badhu')"
   ]
  },
  {
   "cell_type": "code",
   "execution_count": 59,
   "id": "1632b667-a5ca-4408-b384-8309751987c6",
   "metadata": {},
   "outputs": [
    {
     "data": {
      "text/plain": [
       "5"
      ]
     },
     "execution_count": 59,
     "metadata": {},
     "output_type": "execute_result"
    }
   ],
   "source": [
    "## Index function will return an index of a given element where it firstly occurred\n",
    "city.index('a')"
   ]
  },
  {
   "cell_type": "code",
   "execution_count": 60,
   "id": "0f9156e7-53da-4985-8bd6-a96633edf962",
   "metadata": {},
   "outputs": [
    {
     "ename": "ValueError",
     "evalue": "substring not found",
     "output_type": "error",
     "traceback": [
      "\u001b[0;31m---------------------------------------------------------------------------\u001b[0m",
      "\u001b[0;31mValueError\u001b[0m                                Traceback (most recent call last)",
      "Cell \u001b[0;32mIn[60], line 1\u001b[0m\n\u001b[0;32m----> 1\u001b[0m \u001b[43mcity\u001b[49m\u001b[38;5;241;43m.\u001b[39;49m\u001b[43mindex\u001b[49m\u001b[43m(\u001b[49m\u001b[38;5;124;43m'\u001b[39;49m\u001b[38;5;124;43mt\u001b[39;49m\u001b[38;5;124;43m'\u001b[39;49m\u001b[43m)\u001b[49m\n",
      "\u001b[0;31mValueError\u001b[0m: substring not found"
     ]
    }
   ],
   "source": [
    "city.index('t')"
   ]
  },
  {
   "cell_type": "code",
   "execution_count": 67,
   "id": "94435229-b108-4dc6-9aa2-58aacf8e2b58",
   "metadata": {},
   "outputs": [
    {
     "data": {
      "text/plain": [
       "(3, 5, -1, -1)"
      ]
     },
     "execution_count": 67,
     "metadata": {},
     "output_type": "execute_result"
    }
   ],
   "source": [
    "city.find('era'),city.find('a'),city.find('t'),city.find('badhu')"
   ]
  },
  {
   "cell_type": "code",
   "execution_count": 4,
   "id": "a1d04a33-32a8-41db-8afa-8d5066c80cb2",
   "metadata": {},
   "outputs": [],
   "source": [
    "city = \"Hyderabad \""
   ]
  },
  {
   "cell_type": "code",
   "execution_count": 5,
   "id": "d9be7e21-d643-4053-8f27-1c1ffc6289ae",
   "metadata": {},
   "outputs": [
    {
     "data": {
      "text/plain": [
       "' '"
      ]
     },
     "execution_count": 5,
     "metadata": {},
     "output_type": "execute_result"
    }
   ],
   "source": [
    "city[9]"
   ]
  },
  {
   "cell_type": "code",
   "execution_count": 10,
   "id": "b54af115-f30c-45a6-9c7c-24bca9bf5951",
   "metadata": {},
   "outputs": [],
   "source": [
    "# It will take a copy of original string --> rstrip on top of the copied string\n",
    "# Original string is intact\n",
    "city = city.rstrip()"
   ]
  },
  {
   "cell_type": "code",
   "execution_count": 11,
   "id": "132b7f84-49c0-4f94-ad87-4c1e683a0b20",
   "metadata": {},
   "outputs": [
    {
     "data": {
      "text/plain": [
       "'Hyderabad'"
      ]
     },
     "execution_count": 11,
     "metadata": {},
     "output_type": "execute_result"
    }
   ],
   "source": [
    "city"
   ]
  },
  {
   "cell_type": "code",
   "execution_count": 12,
   "id": "0b2eb3b8-ad44-4b51-8f58-3f0d6d6559c8",
   "metadata": {},
   "outputs": [],
   "source": [
    "city = \" Hyderabad\""
   ]
  },
  {
   "cell_type": "code",
   "execution_count": 13,
   "id": "bf193cb1-4be1-470d-9209-a8e38c56a086",
   "metadata": {},
   "outputs": [
    {
     "data": {
      "text/plain": [
       "'Hyderabad'"
      ]
     },
     "execution_count": 13,
     "metadata": {},
     "output_type": "execute_result"
    }
   ],
   "source": [
    "city.lstrip()"
   ]
  },
  {
   "cell_type": "code",
   "execution_count": 14,
   "id": "49dd9e8d-7923-4619-83b1-56f4449d7b4e",
   "metadata": {},
   "outputs": [],
   "source": [
    "city = \" Hy be ra b a d   \""
   ]
  },
  {
   "cell_type": "code",
   "execution_count": 15,
   "id": "81c0e7c4-2b35-4d87-90db-7311d26fdff7",
   "metadata": {},
   "outputs": [
    {
     "data": {
      "text/plain": [
       "' Hy be ra b a d   '"
      ]
     },
     "execution_count": 15,
     "metadata": {},
     "output_type": "execute_result"
    }
   ],
   "source": [
    "city"
   ]
  },
  {
   "cell_type": "code",
   "execution_count": 19,
   "id": "00c833d3-8600-440e-811d-5b98496f8143",
   "metadata": {},
   "outputs": [
    {
     "data": {
      "text/plain": [
       "'Hy be ra b a d'"
      ]
     },
     "execution_count": 19,
     "metadata": {},
     "output_type": "execute_result"
    }
   ],
   "source": [
    "city.strip()"
   ]
  },
  {
   "cell_type": "code",
   "execution_count": 21,
   "id": "92a3dbab-6be1-477e-8c27-94a85679b975",
   "metadata": {},
   "outputs": [],
   "source": [
    "city = \"Hyderabad\""
   ]
  },
  {
   "cell_type": "code",
   "execution_count": 22,
   "id": "b4b906b1-e1de-4263-8083-e2ed0fa69b6b",
   "metadata": {},
   "outputs": [
    {
     "data": {
      "text/plain": [
       "'Hyderabad'"
      ]
     },
     "execution_count": 22,
     "metadata": {},
     "output_type": "execute_result"
    }
   ],
   "source": [
    "city"
   ]
  },
  {
   "cell_type": "code",
   "execution_count": 26,
   "id": "8f3d3a83-8f84-400d-a7dd-fd6b7509a2dd",
   "metadata": {},
   "outputs": [],
   "source": [
    "## Its not updating original string, instead it copies from original string and do replace and create a new string\n",
    "city = city.replace('e','a')"
   ]
  },
  {
   "cell_type": "code",
   "execution_count": 27,
   "id": "4fae12e0-e08a-4ca1-acc1-e115b0fe37b4",
   "metadata": {},
   "outputs": [
    {
     "data": {
      "text/plain": [
       "'Hydarabad'"
      ]
     },
     "execution_count": 27,
     "metadata": {},
     "output_type": "execute_result"
    }
   ],
   "source": [
    "city"
   ]
  },
  {
   "cell_type": "code",
   "execution_count": 29,
   "id": "9ad4d64a-bd0b-4096-9610-f660cd061cfb",
   "metadata": {},
   "outputs": [
    {
     "data": {
      "text/plain": [
       "'hidarabad'"
      ]
     },
     "execution_count": 29,
     "metadata": {},
     "output_type": "execute_result"
    }
   ],
   "source": [
    "city.replace('Hyd','hid')"
   ]
  },
  {
   "cell_type": "code",
   "execution_count": 30,
   "id": "a5cd67d0-c466-494e-9c10-42e3ba6c5935",
   "metadata": {},
   "outputs": [
    {
     "data": {
      "text/plain": [
       "-1"
      ]
     },
     "execution_count": 30,
     "metadata": {},
     "output_type": "execute_result"
    }
   ],
   "source": [
    "city.find('Hyd1')"
   ]
  },
  {
   "cell_type": "code",
   "execution_count": 31,
   "id": "1166e89a-dc89-4ba6-82ef-102f247a3b80",
   "metadata": {},
   "outputs": [
    {
     "data": {
      "text/plain": [
       "'Hydarabad'"
      ]
     },
     "execution_count": 31,
     "metadata": {},
     "output_type": "execute_result"
    }
   ],
   "source": [
    "city.replace('Hyd1','hid')"
   ]
  },
  {
   "cell_type": "code",
   "execution_count": 34,
   "id": "520edadd-746e-4c09-9802-6c21692c4093",
   "metadata": {},
   "outputs": [
    {
     "data": {
      "text/plain": [
       "False"
      ]
     },
     "execution_count": 34,
     "metadata": {},
     "output_type": "execute_result"
    }
   ],
   "source": [
    "city.startswith('tf')"
   ]
  },
  {
   "cell_type": "code",
   "execution_count": 37,
   "id": "6545b9da-ff56-4ab8-b37f-61709e38ecc4",
   "metadata": {},
   "outputs": [
    {
     "data": {
      "text/plain": [
       "False"
      ]
     },
     "execution_count": 37,
     "metadata": {},
     "output_type": "execute_result"
    }
   ],
   "source": [
    "city.endswith('hyd')"
   ]
  },
  {
   "cell_type": "code",
   "execution_count": 38,
   "id": "de495a9e-8649-443d-b060-499e3acd19d2",
   "metadata": {},
   "outputs": [
    {
     "data": {
      "text/plain": [
       "True"
      ]
     },
     "execution_count": 38,
     "metadata": {},
     "output_type": "execute_result"
    }
   ],
   "source": [
    "city.endswith('bad')"
   ]
  },
  {
   "cell_type": "code",
   "execution_count": 24,
   "id": "cdfe285d-07b1-46c3-a5ad-828c369ca97d",
   "metadata": {},
   "outputs": [
    {
     "ename": "TypeError",
     "evalue": "'str' object does not support item assignment",
     "output_type": "error",
     "traceback": [
      "\u001b[0;31m---------------------------------------------------------------------------\u001b[0m",
      "\u001b[0;31mTypeError\u001b[0m                                 Traceback (most recent call last)",
      "Cell \u001b[0;32mIn[24], line 1\u001b[0m\n\u001b[0;32m----> 1\u001b[0m \u001b[43mcity\u001b[49m\u001b[43m[\u001b[49m\u001b[38;5;241;43m3\u001b[39;49m\u001b[43m]\u001b[49m \u001b[38;5;241m=\u001b[39m \u001b[38;5;124m'\u001b[39m\u001b[38;5;124ma\u001b[39m\u001b[38;5;124m'\u001b[39m\n",
      "\u001b[0;31mTypeError\u001b[0m: 'str' object does not support item assignment"
     ]
    }
   ],
   "source": [
    "city[3] = 'a'"
   ]
  },
  {
   "cell_type": "code",
   "execution_count": 39,
   "id": "04ca667e-3afb-4ab0-9e9d-059c7ac4d0f1",
   "metadata": {},
   "outputs": [
    {
     "data": {
      "text/plain": [
       "'Hydarabad'"
      ]
     },
     "execution_count": 39,
     "metadata": {},
     "output_type": "execute_result"
    }
   ],
   "source": [
    "city"
   ]
  },
  {
   "cell_type": "code",
   "execution_count": 43,
   "id": "390752c2-5d82-44a8-9d79-ecd921b99c65",
   "metadata": {},
   "outputs": [
    {
     "data": {
      "text/plain": [
       "1"
      ]
     },
     "execution_count": 43,
     "metadata": {},
     "output_type": "execute_result"
    }
   ],
   "source": [
    "city.count('ad')"
   ]
  },
  {
   "cell_type": "code",
   "execution_count": 46,
   "id": "7f4adf55-bf5b-4645-9749-3cf015ef925e",
   "metadata": {},
   "outputs": [],
   "source": [
    "name = \"vikatakavi\""
   ]
  },
  {
   "cell_type": "code",
   "execution_count": 47,
   "id": "397932d4-dabd-4a6f-bb4b-d7b2c62afb78",
   "metadata": {},
   "outputs": [
    {
     "data": {
      "text/plain": [
       "0"
      ]
     },
     "execution_count": 47,
     "metadata": {},
     "output_type": "execute_result"
    }
   ],
   "source": [
    "name.count('kayfvc')"
   ]
  },
  {
   "cell_type": "code",
   "execution_count": 49,
   "id": "91bae03e-1758-4409-92e8-ef63161bbb52",
   "metadata": {},
   "outputs": [],
   "source": [
    "detailsA = \"Rajesh,9991991919\"\n",
    "detailsB = \"Ramesh,8776596765\"\n",
    "detailsC = \"Rani,8766769978\"\n",
    "detailsD = \"Ramesh,9086765798\"\n",
    "detailsE = \"Rani,87960769978\""
   ]
  },
  {
   "cell_type": "code",
   "execution_count": 58,
   "id": "2c6a7912-9094-475d-b1a6-d6c450029b4a",
   "metadata": {},
   "outputs": [
    {
     "data": {
      "text/plain": [
       "['Rajesh', '9991991919']"
      ]
     },
     "execution_count": 58,
     "metadata": {},
     "output_type": "execute_result"
    }
   ],
   "source": [
    "## Split function splits the string wrt the given seperator, and returns a list of splits\n",
    "detailsA.split(',')"
   ]
  },
  {
   "cell_type": "code",
   "execution_count": 63,
   "id": "0af0b71a-a72c-4816-84e0-eca97488dd57",
   "metadata": {},
   "outputs": [],
   "source": [
    "## string join --> will be called from joinining character and list of strings"
   ]
  },
  {
   "cell_type": "code",
   "execution_count": 64,
   "id": "83a6bf3b-23eb-443e-8d1f-5ce674bd7516",
   "metadata": {},
   "outputs": [
    {
     "data": {
      "text/plain": [
       "'Ramesh,7659769788'"
      ]
     },
     "execution_count": 64,
     "metadata": {},
     "output_type": "execute_result"
    }
   ],
   "source": [
    "\",\".join([\"Ramesh\",\"7659769788\"])"
   ]
  },
  {
   "cell_type": "code",
   "execution_count": null,
   "id": "083e673e-841c-464d-820d-7bc1d33fce62",
   "metadata": {},
   "outputs": [],
   "source": [
    "detailsA.split(',')"
   ]
  },
  {
   "cell_type": "code",
   "execution_count": 59,
   "id": "34850662-c6e4-44f8-948c-547e941bb713",
   "metadata": {},
   "outputs": [],
   "source": [
    "info = \"Rajesh,9876897979,1-11-1,Jublihills road no 76\""
   ]
  },
  {
   "cell_type": "code",
   "execution_count": 62,
   "id": "417fcb08-a7d5-49c0-83ed-ad44b4d1a69f",
   "metadata": {},
   "outputs": [
    {
     "data": {
      "text/plain": [
       "'1-11-1-Jublihills road no 76'"
      ]
     },
     "execution_count": 62,
     "metadata": {},
     "output_type": "execute_result"
    }
   ],
   "source": [
    "\"-\".join(info.split(',')[2:])"
   ]
  },
  {
   "cell_type": "code",
   "execution_count": 1,
   "id": "f9ed9bcc-121c-4836-981e-8bca5b6f68c5",
   "metadata": {},
   "outputs": [],
   "source": [
    "path = \"/Users/gtk/GTK/CodinGrad/Codingrad-FDS-5/helloworld.txt\""
   ]
  },
  {
   "cell_type": "code",
   "execution_count": 2,
   "id": "62d1eb8d-3500-4820-9232-31a3eeb8cbf5",
   "metadata": {},
   "outputs": [],
   "source": [
    "splits = path.split('/')"
   ]
  },
  {
   "cell_type": "code",
   "execution_count": 3,
   "id": "7b2cbdaa-af48-4c13-8330-e79c1d4e7e72",
   "metadata": {},
   "outputs": [],
   "source": [
    "filename = splits[-1]"
   ]
  },
  {
   "cell_type": "code",
   "execution_count": 4,
   "id": "9874cfc2-0647-4e33-a60b-f64b8c16605b",
   "metadata": {},
   "outputs": [],
   "source": [
    "splits2 = filename.split('.')"
   ]
  },
  {
   "cell_type": "code",
   "execution_count": 6,
   "id": "d81740df-b5a2-4345-9df6-5cb5c1cffc88",
   "metadata": {},
   "outputs": [],
   "source": [
    "only_file = splits2[0]"
   ]
  },
  {
   "cell_type": "code",
   "execution_count": 7,
   "id": "5ffb61e9-932f-4169-818e-ceba41f80642",
   "metadata": {},
   "outputs": [],
   "source": [
    "file_csv = [only_file,'csv']"
   ]
  },
  {
   "cell_type": "code",
   "execution_count": 8,
   "id": "a756ee5b-59df-47e8-9364-bdd0c2fb7229",
   "metadata": {},
   "outputs": [
    {
     "data": {
      "text/plain": [
       "'helloworld.csv'"
      ]
     },
     "execution_count": 8,
     "metadata": {},
     "output_type": "execute_result"
    }
   ],
   "source": [
    "\".\".join(file_csv)"
   ]
  },
  {
   "cell_type": "code",
   "execution_count": 80,
   "id": "41127d0e-4860-479c-9947-9a4e23f72329",
   "metadata": {},
   "outputs": [
    {
     "data": {
      "text/plain": [
       "['helloworld', 'csv']"
      ]
     },
     "execution_count": 80,
     "metadata": {},
     "output_type": "execute_result"
    }
   ],
   "source": [
    "[path.split('/')[-1].split('.')[0],'csv']"
   ]
  },
  {
   "cell_type": "code",
   "execution_count": 78,
   "id": "b719ca03-3961-4218-91c9-8a445e17a7db",
   "metadata": {},
   "outputs": [
    {
     "data": {
      "text/plain": [
       "'helloworld.csv'"
      ]
     },
     "execution_count": 78,
     "metadata": {},
     "output_type": "execute_result"
    }
   ],
   "source": [
    "\".\".join([path.split('/')[-1].split('.')[0],'csv'])"
   ]
  },
  {
   "cell_type": "markdown",
   "id": "e1573403-ebcb-43d0-aace-e0e7d3366549",
   "metadata": {},
   "source": [
    "# Formatted Strings\n",
    "- format\n",
    "- fstrings"
   ]
  },
  {
   "cell_type": "code",
   "execution_count": 108,
   "id": "d63d8c75-2fdb-46a8-ac16-417e1c91ea00",
   "metadata": {},
   "outputs": [],
   "source": [
    "name = \"Ramesh\"\n",
    "name1 = \"Rajesh\""
   ]
  },
  {
   "cell_type": "code",
   "execution_count": 109,
   "id": "2e3febbc-1947-49fc-b712-c9f9328b7910",
   "metadata": {},
   "outputs": [],
   "source": [
    "## Dynamic Strings\n",
    "fstring = f\"Hello {name}, I am {name1}\""
   ]
  },
  {
   "cell_type": "code",
   "execution_count": 110,
   "id": "85b516cc-be12-47b5-bab7-bccf41ab8bc5",
   "metadata": {},
   "outputs": [
    {
     "data": {
      "text/plain": [
       "'Hello Ramesh, I am Rajesh'"
      ]
     },
     "execution_count": 110,
     "metadata": {},
     "output_type": "execute_result"
    }
   ],
   "source": [
    "fstring"
   ]
  },
  {
   "cell_type": "code",
   "execution_count": 96,
   "id": "ba99cdb9-ec6b-4f1a-8373-47167db51458",
   "metadata": {},
   "outputs": [],
   "source": [
    "string = \"Hello Ramesh\""
   ]
  },
  {
   "cell_type": "code",
   "execution_count": 97,
   "id": "71cea5be-c394-4f44-85de-64e37760b53d",
   "metadata": {},
   "outputs": [
    {
     "data": {
      "text/plain": [
       "'Hello Ramesh'"
      ]
     },
     "execution_count": 97,
     "metadata": {},
     "output_type": "execute_result"
    }
   ],
   "source": [
    "string"
   ]
  },
  {
   "cell_type": "code",
   "execution_count": null,
   "id": "ae12144a-3bf5-4968-9438-68b91ad21a84",
   "metadata": {},
   "outputs": [],
   "source": []
  }
 ],
 "metadata": {
  "kernelspec": {
   "display_name": "Python 3 (ipykernel)",
   "language": "python",
   "name": "python3"
  },
  "language_info": {
   "codemirror_mode": {
    "name": "ipython",
    "version": 3
   },
   "file_extension": ".py",
   "mimetype": "text/x-python",
   "name": "python",
   "nbconvert_exporter": "python",
   "pygments_lexer": "ipython3",
   "version": "3.11.3"
  }
 },
 "nbformat": 4,
 "nbformat_minor": 5
}
