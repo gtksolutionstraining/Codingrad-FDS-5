{
 "cells": [
  {
   "cell_type": "markdown",
   "id": "c617a238-e4df-42e1-a3fc-8129ef3b14f9",
   "metadata": {},
   "source": [
    "# Functions\n",
    "- Function is a code block -> Collection or sequence statements\n",
    "- Reusability\n",
    "- Functions are usefull for organizing the whole logic\n",
    "- The styling procedure using function to develop a software is called Functional Programming Style.\n",
    "- Functional Programming Style is a System Design Principle.\n",
    "- Easy to learn\n",
    "- All function definitions are digested in memory but not executed on CPU until they have been called\n",
    "- Function Calling\n",
    "  -  If the function is not returning anything, then we can simply call the function using function name\n",
    "# Types of Functions\n",
    "- Functions with inputs and with outputs\n",
    "- Functions with inputs and without outputs\n",
    "- Functions without inputs and with outputs\n",
    "- Functions without inputs and without outputs\n",
    "# Types of Function Arguments/Paremeters/Inputs:\n",
    "- Required Arguments/Optional Arguments --> Property\n",
    "- Positional Arguments\n",
    "- Keyword Arguments\n",
    "- Default Arguments\n",
    "- Positional Only Arguments\n",
    "- Keyword Only Arguments"
   ]
  },
  {
   "cell_type": "code",
   "execution_count": 3,
   "id": "288e13f9-7a35-4c67-b525-81e57cd83838",
   "metadata": {},
   "outputs": [],
   "source": [
    "def add(a,b): ## Function Definition & Function  Input/Parameters/Arguments\n",
    "    c = a+b   ## Code Block / Function Body\n",
    "    return c  ## Return / Output of the Function"
   ]
  },
  {
   "cell_type": "code",
   "execution_count": null,
   "id": "10b4fe41-3f83-471f-9328-b51d5ed39f29",
   "metadata": {},
   "outputs": [],
   "source": []
  },
  {
   "cell_type": "code",
   "execution_count": 6,
   "id": "284289e1-2e5b-42f6-9701-3c9ef4c44447",
   "metadata": {},
   "outputs": [],
   "source": [
    "def grind(ingrediants):\n",
    "    print(\"grinding\")\n",
    "    ingrediants = ingrediants + \" grinded\"\n",
    "    return ingrediants"
   ]
  },
  {
   "cell_type": "code",
   "execution_count": 7,
   "id": "9bb34ad2-cf41-4965-a296-98bcf43e89e0",
   "metadata": {},
   "outputs": [
    {
     "name": "stdout",
     "output_type": "stream",
     "text": [
      "grinding\n"
     ]
    },
    {
     "data": {
      "text/plain": [
       "'rice grinded'"
      ]
     },
     "execution_count": 7,
     "metadata": {},
     "output_type": "execute_result"
    }
   ],
   "source": [
    "grind(\"rice\")"
   ]
  },
  {
   "cell_type": "code",
   "execution_count": 33,
   "id": "0eb66738-285c-45d4-95bd-600bf1b4243f",
   "metadata": {},
   "outputs": [],
   "source": [
    "def a():\n",
    "    print(\"random logic\") ## code block/function body\n",
    "    return 4"
   ]
  },
  {
   "cell_type": "code",
   "execution_count": 29,
   "id": "1271482f-7732-4a1b-b5dc-37e5721cd823",
   "metadata": {},
   "outputs": [],
   "source": [
    "def b(a,b):\n",
    "    print(f\"random logic using {a}, {b}\")\n",
    "    return None"
   ]
  },
  {
   "cell_type": "code",
   "execution_count": 16,
   "id": "513681df-74d8-4340-a6ed-d49c6eaa1a66",
   "metadata": {},
   "outputs": [],
   "source": [
    "def c():\n",
    "    print(f\"Ghost\")"
   ]
  },
  {
   "cell_type": "code",
   "execution_count": 19,
   "id": "c87a8425-a70e-4ec6-b287-1bb00d76daba",
   "metadata": {},
   "outputs": [
    {
     "name": "stdout",
     "output_type": "stream",
     "text": [
      "Ghost\n"
     ]
    }
   ],
   "source": [
    "var = c()"
   ]
  },
  {
   "cell_type": "code",
   "execution_count": 22,
   "id": "c8f25c15-0eda-4b4c-a7c7-af500241183d",
   "metadata": {},
   "outputs": [],
   "source": [
    "var"
   ]
  },
  {
   "cell_type": "code",
   "execution_count": 21,
   "id": "05a6f1d4-8688-4dc1-883a-5a6a8e012711",
   "metadata": {},
   "outputs": [
    {
     "data": {
      "text/plain": [
       "NoneType"
      ]
     },
     "execution_count": 21,
     "metadata": {},
     "output_type": "execute_result"
    }
   ],
   "source": [
    "type(var)"
   ]
  },
  {
   "cell_type": "code",
   "execution_count": 31,
   "id": "1a8c2415-688c-4658-b419-44c75945e162",
   "metadata": {},
   "outputs": [
    {
     "name": "stdout",
     "output_type": "stream",
     "text": [
      "random logic using 1, 1\n"
     ]
    }
   ],
   "source": [
    "var1 = b(1,1)"
   ]
  },
  {
   "cell_type": "code",
   "execution_count": 28,
   "id": "1cd1a63e-6669-4a43-ab30-d5f0d2de4fa0",
   "metadata": {},
   "outputs": [],
   "source": [
    "var1"
   ]
  },
  {
   "cell_type": "code",
   "execution_count": 34,
   "id": "ce8ff28c-ab08-4da4-9ae9-27a3fe841cea",
   "metadata": {},
   "outputs": [
    {
     "name": "stdout",
     "output_type": "stream",
     "text": [
      "random logic\n"
     ]
    }
   ],
   "source": [
    "var2 = a()"
   ]
  },
  {
   "cell_type": "code",
   "execution_count": 35,
   "id": "bffd5903-0a50-4ceb-bec5-9bcfffcd778a",
   "metadata": {},
   "outputs": [
    {
     "data": {
      "text/plain": [
       "4"
      ]
     },
     "execution_count": 35,
     "metadata": {},
     "output_type": "execute_result"
    }
   ],
   "source": [
    "var2"
   ]
  },
  {
   "cell_type": "code",
   "execution_count": 23,
   "id": "64c0a092-80cf-45c0-911e-5e04f24d4329",
   "metadata": {},
   "outputs": [],
   "source": [
    "status = True"
   ]
  },
  {
   "cell_type": "code",
   "execution_count": 24,
   "id": "32cf81fe-b175-4b12-8f8f-d589c7be14b9",
   "metadata": {},
   "outputs": [],
   "source": [
    "a = None"
   ]
  },
  {
   "cell_type": "code",
   "execution_count": 25,
   "id": "56c503bb-5ea6-4300-92a3-6b148369751b",
   "metadata": {},
   "outputs": [],
   "source": [
    "a"
   ]
  },
  {
   "cell_type": "code",
   "execution_count": 26,
   "id": "87088000-0d6c-4387-914f-169f42ded0e3",
   "metadata": {},
   "outputs": [
    {
     "data": {
      "text/plain": [
       "NoneType"
      ]
     },
     "execution_count": 26,
     "metadata": {},
     "output_type": "execute_result"
    }
   ],
   "source": [
    "type(a)"
   ]
  },
  {
   "cell_type": "code",
   "execution_count": null,
   "id": "fb6cd624-119c-4eac-b3bc-2e748b0de543",
   "metadata": {},
   "outputs": [],
   "source": []
  }
 ],
 "metadata": {
  "kernelspec": {
   "display_name": "Python 3 (ipykernel)",
   "language": "python",
   "name": "python3"
  },
  "language_info": {
   "codemirror_mode": {
    "name": "ipython",
    "version": 3
   },
   "file_extension": ".py",
   "mimetype": "text/x-python",
   "name": "python",
   "nbconvert_exporter": "python",
   "pygments_lexer": "ipython3",
   "version": "3.11.3"
  }
 },
 "nbformat": 4,
 "nbformat_minor": 5
}
