{
 "cells": [
  {
   "cell_type": "markdown",
   "id": "c617a238-e4df-42e1-a3fc-8129ef3b14f9",
   "metadata": {},
   "source": [
    "# Functions\n",
    "- Function is a code block -> Collection or sequence statements\n",
    "- Reusability\n",
    "- Functions are usefull for organizing the whole logic\n",
    "- The styling procedure using function to develop a software is called Functional Programming Style.\n",
    "- Functional Programming Style is a System Design Principle.\n",
    "- Easy to learn\n",
    "- All function definitions are digested in memory but not executed on CPU until they have been called\n",
    "- Function Calling\n",
    "  -  If the function is not returning anything, then we can simply call the function using function name\n",
    "# Types of Functions\n",
    "- Functions with inputs and with outputs\n",
    "- Functions with inputs and without outputs\n",
    "- Functions without inputs and with outputs\n",
    "- Functions without inputs and without outputs\n",
    "# Types of Function Arguments/Paremeters/Inputs:\n",
    "- Required Arguments/Optional Arguments --> Property\n",
    "- Positional Arguments\n",
    "- Keyword Arguments\n",
    "- Default Arguments\n",
    "- Positional Only Arguments\n",
    "- Keyword Only Arguments\n",
    "- *args\n",
    "- **kwargs\n",
    "# Function Calling\n",
    "- Call by value\n",
    "- If the arguments Primitive Data Types then the function calling is called call/pass by value\n",
    "- If the arguments are Immutable then the function calling is called call/pass by value\n",
    "- The passed variable will not change, remains intact, if they are changed/updated in the function\n",
    "- If the arguments are mutable objects then the function calling is called call/pass by reference\n",
    "- The passed variable will change, if they are changed/updated in the function"
   ]
  },
  {
   "cell_type": "code",
   "execution_count": 3,
   "id": "288e13f9-7a35-4c67-b525-81e57cd83838",
   "metadata": {},
   "outputs": [],
   "source": [
    "def add(a,b): ## Function Definition & Function  Input/Parameters/Arguments\n",
    "    c = a+b   ## Code Block / Function Body\n",
    "    return c  ## Return / Output of the Function"
   ]
  },
  {
   "cell_type": "code",
   "execution_count": null,
   "id": "10b4fe41-3f83-471f-9328-b51d5ed39f29",
   "metadata": {},
   "outputs": [],
   "source": []
  },
  {
   "cell_type": "code",
   "execution_count": 6,
   "id": "284289e1-2e5b-42f6-9701-3c9ef4c44447",
   "metadata": {},
   "outputs": [],
   "source": [
    "def grind(ingrediants):\n",
    "    print(\"grinding\")\n",
    "    ingrediants = ingrediants + \" grinded\"\n",
    "    return ingrediants"
   ]
  },
  {
   "cell_type": "code",
   "execution_count": 7,
   "id": "9bb34ad2-cf41-4965-a296-98bcf43e89e0",
   "metadata": {},
   "outputs": [
    {
     "name": "stdout",
     "output_type": "stream",
     "text": [
      "grinding\n"
     ]
    },
    {
     "data": {
      "text/plain": [
       "'rice grinded'"
      ]
     },
     "execution_count": 7,
     "metadata": {},
     "output_type": "execute_result"
    }
   ],
   "source": [
    "grind(\"rice\")"
   ]
  },
  {
   "cell_type": "code",
   "execution_count": 33,
   "id": "0eb66738-285c-45d4-95bd-600bf1b4243f",
   "metadata": {},
   "outputs": [],
   "source": [
    "def a():\n",
    "    print(\"random logic\") ## code block/function body\n",
    "    return 4"
   ]
  },
  {
   "cell_type": "code",
   "execution_count": 29,
   "id": "1271482f-7732-4a1b-b5dc-37e5721cd823",
   "metadata": {},
   "outputs": [],
   "source": [
    "def b(a,b):\n",
    "    print(f\"random logic using {a}, {b}\")\n",
    "    return None"
   ]
  },
  {
   "cell_type": "code",
   "execution_count": 16,
   "id": "513681df-74d8-4340-a6ed-d49c6eaa1a66",
   "metadata": {},
   "outputs": [],
   "source": [
    "def c():\n",
    "    print(f\"Ghost\")"
   ]
  },
  {
   "cell_type": "code",
   "execution_count": 19,
   "id": "c87a8425-a70e-4ec6-b287-1bb00d76daba",
   "metadata": {},
   "outputs": [
    {
     "name": "stdout",
     "output_type": "stream",
     "text": [
      "Ghost\n"
     ]
    }
   ],
   "source": [
    "var = c()"
   ]
  },
  {
   "cell_type": "code",
   "execution_count": 22,
   "id": "c8f25c15-0eda-4b4c-a7c7-af500241183d",
   "metadata": {},
   "outputs": [],
   "source": [
    "var"
   ]
  },
  {
   "cell_type": "code",
   "execution_count": 21,
   "id": "05a6f1d4-8688-4dc1-883a-5a6a8e012711",
   "metadata": {},
   "outputs": [
    {
     "data": {
      "text/plain": [
       "NoneType"
      ]
     },
     "execution_count": 21,
     "metadata": {},
     "output_type": "execute_result"
    }
   ],
   "source": [
    "type(var)"
   ]
  },
  {
   "cell_type": "code",
   "execution_count": 31,
   "id": "1a8c2415-688c-4658-b419-44c75945e162",
   "metadata": {},
   "outputs": [
    {
     "name": "stdout",
     "output_type": "stream",
     "text": [
      "random logic using 1, 1\n"
     ]
    }
   ],
   "source": [
    "var1 = b(1,1)"
   ]
  },
  {
   "cell_type": "code",
   "execution_count": 28,
   "id": "1cd1a63e-6669-4a43-ab30-d5f0d2de4fa0",
   "metadata": {},
   "outputs": [],
   "source": [
    "var1"
   ]
  },
  {
   "cell_type": "code",
   "execution_count": 34,
   "id": "ce8ff28c-ab08-4da4-9ae9-27a3fe841cea",
   "metadata": {},
   "outputs": [
    {
     "name": "stdout",
     "output_type": "stream",
     "text": [
      "random logic\n"
     ]
    }
   ],
   "source": [
    "var2 = a()"
   ]
  },
  {
   "cell_type": "code",
   "execution_count": 35,
   "id": "bffd5903-0a50-4ceb-bec5-9bcfffcd778a",
   "metadata": {},
   "outputs": [
    {
     "data": {
      "text/plain": [
       "4"
      ]
     },
     "execution_count": 35,
     "metadata": {},
     "output_type": "execute_result"
    }
   ],
   "source": [
    "var2"
   ]
  },
  {
   "cell_type": "code",
   "execution_count": 23,
   "id": "64c0a092-80cf-45c0-911e-5e04f24d4329",
   "metadata": {},
   "outputs": [],
   "source": [
    "status = True"
   ]
  },
  {
   "cell_type": "code",
   "execution_count": 24,
   "id": "32cf81fe-b175-4b12-8f8f-d589c7be14b9",
   "metadata": {},
   "outputs": [],
   "source": [
    "a = None"
   ]
  },
  {
   "cell_type": "code",
   "execution_count": 25,
   "id": "56c503bb-5ea6-4300-92a3-6b148369751b",
   "metadata": {},
   "outputs": [],
   "source": [
    "a"
   ]
  },
  {
   "cell_type": "code",
   "execution_count": 26,
   "id": "87088000-0d6c-4387-914f-169f42ded0e3",
   "metadata": {},
   "outputs": [
    {
     "data": {
      "text/plain": [
       "NoneType"
      ]
     },
     "execution_count": 26,
     "metadata": {},
     "output_type": "execute_result"
    }
   ],
   "source": [
    "type(a)"
   ]
  },
  {
   "cell_type": "code",
   "execution_count": 4,
   "id": "9b6b847f-6aaa-40c7-8944-a2300252faae",
   "metadata": {},
   "outputs": [],
   "source": [
    "total = 678"
   ]
  },
  {
   "cell_type": "code",
   "execution_count": 45,
   "id": "fb6cd624-119c-4eac-b3bc-2e748b0de543",
   "metadata": {},
   "outputs": [],
   "source": [
    "## a,b positional Arguments\n",
    "## Positional Arguments are Required Arguments\n",
    "def add(a,b):\n",
    "    c = a+b\n",
    "    # a = a+1\n",
    "    print(f\"Sum of a:{a} and b:{b} is: {c}\")\n",
    "    # print(f\"Trying to access variable outside the function: {total}\")\n",
    "    return c"
   ]
  },
  {
   "cell_type": "code",
   "execution_count": 6,
   "id": "c7612d8f-e54f-45e2-87b0-f61812ce08e4",
   "metadata": {},
   "outputs": [
    {
     "name": "stdout",
     "output_type": "stream",
     "text": [
      "Sum of a:1 and b:2 is: 3\n",
      "Trying to access variable outside the function: 678\n"
     ]
    }
   ],
   "source": [
    "x = add(1,2)"
   ]
  },
  {
   "cell_type": "code",
   "execution_count": 3,
   "id": "bdcae3f0-ce7b-4dc1-bc70-ae8424b8d99d",
   "metadata": {},
   "outputs": [
    {
     "ename": "NameError",
     "evalue": "name 'a' is not defined",
     "output_type": "error",
     "traceback": [
      "\u001b[0;31m---------------------------------------------------------------------------\u001b[0m",
      "\u001b[0;31mNameError\u001b[0m                                 Traceback (most recent call last)",
      "Cell \u001b[0;32mIn[3], line 1\u001b[0m\n\u001b[0;32m----> 1\u001b[0m \u001b[43ma\u001b[49m\n",
      "\u001b[0;31mNameError\u001b[0m: name 'a' is not defined"
     ]
    }
   ],
   "source": [
    "a"
   ]
  },
  {
   "cell_type": "code",
   "execution_count": 9,
   "id": "6c0fe85e-9050-4b0e-9362-b0a401e352a1",
   "metadata": {},
   "outputs": [
    {
     "name": "stdout",
     "output_type": "stream",
     "text": [
      "Sum of a:2 and b:2 is: 3\n",
      "Trying to access variable outside the function: 678\n"
     ]
    },
    {
     "data": {
      "text/plain": [
       "3"
      ]
     },
     "execution_count": 9,
     "metadata": {},
     "output_type": "execute_result"
    }
   ],
   "source": [
    "a = 2\n",
    "b = 1\n",
    "c = add(b,a)\n",
    "c"
   ]
  },
  {
   "cell_type": "code",
   "execution_count": 10,
   "id": "707a265e-8858-4569-9fea-3f51ee63b321",
   "metadata": {},
   "outputs": [
    {
     "data": {
      "text/plain": [
       "2"
      ]
     },
     "execution_count": 10,
     "metadata": {},
     "output_type": "execute_result"
    }
   ],
   "source": [
    "a"
   ]
  },
  {
   "cell_type": "code",
   "execution_count": 19,
   "id": "1d4b200a-b6df-4d2f-9e42-81ef2bcf0bf5",
   "metadata": {},
   "outputs": [],
   "source": [
    "def print_name(name):\n",
    "    print(f\"Printing Name: {name}\")\n",
    "    name = list(name)\n",
    "    print(f\"Name updated: {name}\")"
   ]
  },
  {
   "cell_type": "code",
   "execution_count": 20,
   "id": "9dbeee67-41e4-4b3c-b715-b08af838bfbf",
   "metadata": {},
   "outputs": [
    {
     "name": "stdout",
     "output_type": "stream",
     "text": [
      "Printing Name: Tharun\n",
      "Name updated: ['T', 'h', 'a', 'r', 'u', 'n']\n"
     ]
    }
   ],
   "source": [
    "print_name(\"Tharun\")"
   ]
  },
  {
   "cell_type": "code",
   "execution_count": 21,
   "id": "a79887ff-f0d3-435e-85f4-4ac1b7278f65",
   "metadata": {},
   "outputs": [],
   "source": [
    "name = \"Tharun\""
   ]
  },
  {
   "cell_type": "code",
   "execution_count": 22,
   "id": "de1df009-adc5-4ed5-b1a7-d10b50b3501f",
   "metadata": {},
   "outputs": [
    {
     "name": "stdout",
     "output_type": "stream",
     "text": [
      "Printing Name: Tharun\n",
      "Name updated: ['T', 'h', 'a', 'r', 'u', 'n']\n"
     ]
    }
   ],
   "source": [
    "print_name(name)"
   ]
  },
  {
   "cell_type": "code",
   "execution_count": 23,
   "id": "a7d3170a-a13b-427c-8fc3-a9849c28b5b6",
   "metadata": {},
   "outputs": [
    {
     "data": {
      "text/plain": [
       "'Tharun'"
      ]
     },
     "execution_count": 23,
     "metadata": {},
     "output_type": "execute_result"
    }
   ],
   "source": [
    "name"
   ]
  },
  {
   "cell_type": "code",
   "execution_count": 37,
   "id": "05a4b50f-b824-4da6-b263-0b6a617984c0",
   "metadata": {},
   "outputs": [],
   "source": [
    "def print_list(lis):\n",
    "    lis = lis.copy()\n",
    "    print(lis)\n",
    "    lis.append(\"CodinGrad\")\n",
    "    print(lis)"
   ]
  },
  {
   "cell_type": "code",
   "execution_count": 25,
   "id": "caae9d47-0189-43d8-8856-a755df6c5a62",
   "metadata": {},
   "outputs": [
    {
     "name": "stdout",
     "output_type": "stream",
     "text": [
      "[1, 2]\n",
      "[1, 2, 'CodinGrad']\n"
     ]
    }
   ],
   "source": [
    "print_list([1,2])"
   ]
  },
  {
   "cell_type": "code",
   "execution_count": 26,
   "id": "321a9924-4d37-48d6-b690-38713b25f586",
   "metadata": {},
   "outputs": [],
   "source": [
    "lis = [1,2]"
   ]
  },
  {
   "cell_type": "code",
   "execution_count": 27,
   "id": "ed6d2f62-42b2-4dd9-83fc-c2030b76f479",
   "metadata": {},
   "outputs": [
    {
     "name": "stdout",
     "output_type": "stream",
     "text": [
      "[1, 2]\n",
      "[1, 2, 'CodinGrad']\n"
     ]
    }
   ],
   "source": [
    "print_list(lis)"
   ]
  },
  {
   "cell_type": "code",
   "execution_count": 28,
   "id": "858fc7b2-5582-41ae-bbef-e195e15646f7",
   "metadata": {},
   "outputs": [
    {
     "data": {
      "text/plain": [
       "[1, 2, 'CodinGrad']"
      ]
     },
     "execution_count": 28,
     "metadata": {},
     "output_type": "execute_result"
    }
   ],
   "source": [
    "lis"
   ]
  },
  {
   "cell_type": "code",
   "execution_count": 36,
   "id": "3d4e8b7b-6343-49e3-b937-a0db11eba438",
   "metadata": {},
   "outputs": [],
   "source": [
    "students = ['Rajesh','Ramu']"
   ]
  },
  {
   "cell_type": "code",
   "execution_count": 38,
   "id": "4f28c03f-3a78-4834-9de9-c2f1bc177c7a",
   "metadata": {},
   "outputs": [
    {
     "name": "stdout",
     "output_type": "stream",
     "text": [
      "['Rajesh', 'Ramu']\n",
      "['Rajesh', 'Ramu', 'CodinGrad']\n"
     ]
    }
   ],
   "source": [
    "print_list(students)"
   ]
  },
  {
   "cell_type": "code",
   "execution_count": 39,
   "id": "2402ec40-964c-48b3-9ceb-321db0afca3b",
   "metadata": {},
   "outputs": [
    {
     "data": {
      "text/plain": [
       "['Rajesh', 'Ramu']"
      ]
     },
     "execution_count": 39,
     "metadata": {},
     "output_type": "execute_result"
    }
   ],
   "source": [
    "students"
   ]
  },
  {
   "cell_type": "code",
   "execution_count": 32,
   "id": "1ff42fda-7ada-4568-b7ca-b5c105fdbca0",
   "metadata": {},
   "outputs": [],
   "source": [
    "def print_tuple(tup):\n",
    "    print(tup)\n",
    "    tup = (1,2)\n",
    "    print(tup)"
   ]
  },
  {
   "cell_type": "code",
   "execution_count": 33,
   "id": "b9d93f74-33fd-4aac-a216-1b30f6642745",
   "metadata": {},
   "outputs": [],
   "source": [
    "tup = ('Rajesh','Ramu')"
   ]
  },
  {
   "cell_type": "code",
   "execution_count": 34,
   "id": "bb67e9fa-2cbf-4d0b-aeb7-3eaa6239981b",
   "metadata": {},
   "outputs": [
    {
     "name": "stdout",
     "output_type": "stream",
     "text": [
      "('Rajesh', 'Ramu')\n",
      "(1, 2)\n"
     ]
    }
   ],
   "source": [
    "print_tuple(tup)"
   ]
  },
  {
   "cell_type": "code",
   "execution_count": 35,
   "id": "0f6791c3-6e9a-47a5-b4d7-0200abed3111",
   "metadata": {},
   "outputs": [
    {
     "data": {
      "text/plain": [
       "('Rajesh', 'Ramu')"
      ]
     },
     "execution_count": 35,
     "metadata": {},
     "output_type": "execute_result"
    }
   ],
   "source": [
    "tup"
   ]
  },
  {
   "cell_type": "code",
   "execution_count": 40,
   "id": "044e9d58-0249-41a9-a00c-e37270e0b834",
   "metadata": {},
   "outputs": [
    {
     "name": "stdout",
     "output_type": "stream",
     "text": [
      "Help on function add in module __main__:\n",
      "\n",
      "add(a, b)\n",
      "    ## a,b positional Arguments\n",
      "    ## Positional Arguments are Required Arguments\n",
      "\n"
     ]
    }
   ],
   "source": [
    "help(add)"
   ]
  },
  {
   "cell_type": "code",
   "execution_count": 43,
   "id": "6fc4486e-9877-4948-8085-78a8b89c7b93",
   "metadata": {},
   "outputs": [
    {
     "name": "stdout",
     "output_type": "stream",
     "text": [
      "Sum of a:2 and b:2 is: 3\n"
     ]
    }
   ],
   "source": [
    "c = add(1,2)"
   ]
  },
  {
   "cell_type": "code",
   "execution_count": 47,
   "id": "451a1e3c-5342-4008-bbcb-a0c79271e652",
   "metadata": {},
   "outputs": [
    {
     "name": "stdout",
     "output_type": "stream",
     "text": [
      "Sum of a:80 and b:70 is: 150\n"
     ]
    }
   ],
   "source": [
    "## Keyword Arguments\n",
    "## Position does'nt matter here\n",
    "c = add(b=70,a=80)"
   ]
  },
  {
   "cell_type": "code",
   "execution_count": 48,
   "id": "16650b0b-1362-4efb-a179-1aa94af56356",
   "metadata": {},
   "outputs": [
    {
     "ename": "TypeError",
     "evalue": "add() got multiple values for argument 'a'",
     "output_type": "error",
     "traceback": [
      "\u001b[0;31m---------------------------------------------------------------------------\u001b[0m",
      "\u001b[0;31mTypeError\u001b[0m                                 Traceback (most recent call last)",
      "Cell \u001b[0;32mIn[48], line 1\u001b[0m\n\u001b[0;32m----> 1\u001b[0m c \u001b[38;5;241m=\u001b[39m \u001b[43madd\u001b[49m\u001b[43m(\u001b[49m\u001b[38;5;241;43m1\u001b[39;49m\u001b[43m,\u001b[49m\u001b[43ma\u001b[49m\u001b[38;5;241;43m=\u001b[39;49m\u001b[38;5;241;43m2\u001b[39;49m\u001b[43m)\u001b[49m\n",
      "\u001b[0;31mTypeError\u001b[0m: add() got multiple values for argument 'a'"
     ]
    }
   ],
   "source": [
    "c = add(1,a=2)"
   ]
  },
  {
   "cell_type": "code",
   "execution_count": 49,
   "id": "911a7b8e-8318-4e5d-9745-9c46e3140c15",
   "metadata": {},
   "outputs": [
    {
     "ename": "TypeError",
     "evalue": "add() got multiple values for argument 'b'",
     "output_type": "error",
     "traceback": [
      "\u001b[0;31m---------------------------------------------------------------------------\u001b[0m",
      "\u001b[0;31mTypeError\u001b[0m                                 Traceback (most recent call last)",
      "Cell \u001b[0;32mIn[49], line 1\u001b[0m\n\u001b[0;32m----> 1\u001b[0m c \u001b[38;5;241m=\u001b[39m \u001b[43madd\u001b[49m\u001b[43m(\u001b[49m\u001b[38;5;241;43m1\u001b[39;49m\u001b[43m,\u001b[49m\u001b[38;5;241;43m2\u001b[39;49m\u001b[43m,\u001b[49m\u001b[43mb\u001b[49m\u001b[38;5;241;43m=\u001b[39;49m\u001b[38;5;241;43m2\u001b[39;49m\u001b[43m)\u001b[49m\n",
      "\u001b[0;31mTypeError\u001b[0m: add() got multiple values for argument 'b'"
     ]
    }
   ],
   "source": [
    "c = add(1,2,b=2)"
   ]
  },
  {
   "cell_type": "code",
   "execution_count": 51,
   "id": "e0274f3d-85eb-4f84-befc-8f4c159acf45",
   "metadata": {},
   "outputs": [],
   "source": [
    "## \"c\" default argument\n",
    "## a,b positional arguments\n",
    "## default argument can be a positional argument\n",
    "def print_values(a,b,c=10):\n",
    "    print(f\"a: {a}, b: {b}, c:{c}\")"
   ]
  },
  {
   "cell_type": "code",
   "execution_count": 54,
   "id": "65279e38-aa88-4e57-bed1-97f46214f9d9",
   "metadata": {},
   "outputs": [
    {
     "name": "stdout",
     "output_type": "stream",
     "text": [
      "a: 1, b: 2, c:3\n"
     ]
    }
   ],
   "source": [
    "print_values(1,2,c=3)"
   ]
  },
  {
   "cell_type": "code",
   "execution_count": 55,
   "id": "c06c98a8-5c98-4b76-864d-044d2d9b4358",
   "metadata": {},
   "outputs": [],
   "source": [
    "## Positional Only Arguments\n",
    "def x(a,b,/):\n",
    "    print(f\"a: {a}, b:{b}\")"
   ]
  },
  {
   "cell_type": "code",
   "execution_count": 56,
   "id": "b66efb2e-040d-4ecb-8a11-2b5e4e15afba",
   "metadata": {},
   "outputs": [
    {
     "name": "stdout",
     "output_type": "stream",
     "text": [
      "a: 1, b:2\n"
     ]
    }
   ],
   "source": [
    "x(1,2)"
   ]
  },
  {
   "cell_type": "code",
   "execution_count": 57,
   "id": "6b74a53b-5816-46b8-ba20-ea20f241959b",
   "metadata": {},
   "outputs": [
    {
     "ename": "TypeError",
     "evalue": "x() got some positional-only arguments passed as keyword arguments: 'a, b'",
     "output_type": "error",
     "traceback": [
      "\u001b[0;31m---------------------------------------------------------------------------\u001b[0m",
      "\u001b[0;31mTypeError\u001b[0m                                 Traceback (most recent call last)",
      "Cell \u001b[0;32mIn[57], line 1\u001b[0m\n\u001b[0;32m----> 1\u001b[0m \u001b[43mx\u001b[49m\u001b[43m(\u001b[49m\u001b[43ma\u001b[49m\u001b[38;5;241;43m=\u001b[39;49m\u001b[38;5;241;43m1\u001b[39;49m\u001b[43m,\u001b[49m\u001b[43mb\u001b[49m\u001b[38;5;241;43m=\u001b[39;49m\u001b[38;5;241;43m2\u001b[39;49m\u001b[43m)\u001b[49m\n",
      "\u001b[0;31mTypeError\u001b[0m: x() got some positional-only arguments passed as keyword arguments: 'a, b'"
     ]
    }
   ],
   "source": [
    "x(a=1,b=2)"
   ]
  },
  {
   "cell_type": "code",
   "execution_count": 58,
   "id": "157b12ab-85e8-413c-ab6b-4580624ba4f4",
   "metadata": {},
   "outputs": [],
   "source": [
    "def xy(a,b,/,c):\n",
    "    print(f\"a: {a}, b: {b}, c: {c}\")"
   ]
  },
  {
   "cell_type": "code",
   "execution_count": 59,
   "id": "bf82b32d-2167-4fbe-8c05-1c800e1b39c8",
   "metadata": {},
   "outputs": [
    {
     "name": "stdout",
     "output_type": "stream",
     "text": [
      "a: 1, b: 2, c: 3\n"
     ]
    }
   ],
   "source": [
    "xy(1,2,3)"
   ]
  },
  {
   "cell_type": "code",
   "execution_count": 60,
   "id": "d5698303-40fa-4a74-9108-373e1c813eee",
   "metadata": {},
   "outputs": [
    {
     "name": "stdout",
     "output_type": "stream",
     "text": [
      "a: 1, b: 2, c: 3\n"
     ]
    }
   ],
   "source": [
    "xy(1,2,c = 3)"
   ]
  },
  {
   "cell_type": "code",
   "execution_count": 66,
   "id": "7b5b7a3f-9ea9-4b2c-a34c-80696b8b64b4",
   "metadata": {},
   "outputs": [],
   "source": [
    "## After * all arguments are called as keyword only arguments\n",
    "## If you want pass keyword arguments or default arguments those should be at the end\n",
    "def xyz(a,b,/,c,d,*,e):\n",
    "    print(f\"a: {a}, b: {b}, c: {c}, d: {d}\") "
   ]
  },
  {
   "cell_type": "code",
   "execution_count": 70,
   "id": "bc77a3af-18a1-486c-b8c7-d543aaefd5a0",
   "metadata": {},
   "outputs": [
    {
     "name": "stdout",
     "output_type": "stream",
     "text": [
      "a: 1, b: 2, c: 3, d: 1\n"
     ]
    }
   ],
   "source": [
    "xyz(1,2,c=3,d=1,e=10)"
   ]
  },
  {
   "cell_type": "code",
   "execution_count": 65,
   "id": "ea932001-1668-4e6e-aee3-cda8ec42c0fa",
   "metadata": {},
   "outputs": [
    {
     "name": "stdout",
     "output_type": "stream",
     "text": [
      "a: 1, b: 2, c: 3, d: 1\n"
     ]
    }
   ],
   "source": [
    "xyz(1,2,3,d=1)"
   ]
  },
  {
   "cell_type": "code",
   "execution_count": null,
   "id": "dd959894-41c4-4cb0-afba-a26320475485",
   "metadata": {},
   "outputs": [],
   "source": []
  }
 ],
 "metadata": {
  "kernelspec": {
   "display_name": "Python 3 (ipykernel)",
   "language": "python",
   "name": "python3"
  },
  "language_info": {
   "codemirror_mode": {
    "name": "ipython",
    "version": 3
   },
   "file_extension": ".py",
   "mimetype": "text/x-python",
   "name": "python",
   "nbconvert_exporter": "python",
   "pygments_lexer": "ipython3",
   "version": "3.11.3"
  }
 },
 "nbformat": 4,
 "nbformat_minor": 5
}
