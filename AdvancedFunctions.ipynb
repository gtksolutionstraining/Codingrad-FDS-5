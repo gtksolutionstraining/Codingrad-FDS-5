{
 "cells": [
  {
   "cell_type": "markdown",
   "id": "518e938e-2815-49c9-ada9-8ce9eb044e0d",
   "metadata": {},
   "source": [
    "# Advanced Functions\n",
    "- lambda\n",
    "- filter\n",
    "- map\n",
    "## Lambda\n",
    "- lambda is an anonymous function\n",
    "- lambda takes any no of input parameters\n",
    "- the parameters can be of any type\n",
    "- lambda will only compute one expression\n",
    "- inline if condition is a single expression\n",
    "## Filter\n",
    "- filter function is an inbuilt in function in python\n",
    "- filter function will take a function and a list\n",
    "- filter function will filter from the given list for those elements which return True by the given function is returning True\n",
    "## Map\n",
    "- map function will take one function and a list"
   ]
  },
  {
   "cell_type": "code",
   "execution_count": 2,
   "id": "647cba09-21c8-4b04-9e8e-ee53cf5a44ef",
   "metadata": {},
   "outputs": [],
   "source": [
    "def add(a,b):\n",
    "    return a+b"
   ]
  },
  {
   "cell_type": "code",
   "execution_count": 3,
   "id": "9630bbd5-feea-4e72-b4f1-d1dfbf3c17e9",
   "metadata": {},
   "outputs": [
    {
     "data": {
      "text/plain": [
       "3"
      ]
     },
     "execution_count": 3,
     "metadata": {},
     "output_type": "execute_result"
    }
   ],
   "source": [
    "add(1,2)"
   ]
  },
  {
   "cell_type": "code",
   "execution_count": 20,
   "id": "316c4965-d65f-4ed8-b4ea-3f0a61f8e47a",
   "metadata": {},
   "outputs": [],
   "source": [
    "add_lambda = lambda a,b:(a+b,a-b)"
   ]
  },
  {
   "cell_type": "code",
   "execution_count": 15,
   "id": "927d34df-81b7-4385-98c8-6d5f66ad73b8",
   "metadata": {},
   "outputs": [
    {
     "data": {
      "text/plain": [
       "3"
      ]
     },
     "execution_count": 15,
     "metadata": {},
     "output_type": "execute_result"
    }
   ],
   "source": [
    "add_lambda(1,2)"
   ]
  },
  {
   "cell_type": "code",
   "execution_count": 23,
   "id": "9ca5599e-51e5-41d5-9250-34830ef614e5",
   "metadata": {},
   "outputs": [],
   "source": [
    "def is_even(x):\n",
    "    return True if x%2 == 0 else False"
   ]
  },
  {
   "cell_type": "code",
   "execution_count": 24,
   "id": "cd188218-c9c4-4ef3-8526-61396e319a05",
   "metadata": {},
   "outputs": [
    {
     "data": {
      "text/plain": [
       "False"
      ]
     },
     "execution_count": 24,
     "metadata": {},
     "output_type": "execute_result"
    }
   ],
   "source": [
    "is_even(5)"
   ]
  },
  {
   "cell_type": "code",
   "execution_count": 27,
   "id": "c03effa3-a0e7-462f-aba4-bd7973f2dd1f",
   "metadata": {},
   "outputs": [],
   "source": [
    "is_even = lambda x:True if x%2 == 0 else False"
   ]
  },
  {
   "cell_type": "code",
   "execution_count": 29,
   "id": "7db7e573-a7fe-4627-8e94-a2b4db84c1c5",
   "metadata": {},
   "outputs": [
    {
     "data": {
      "text/plain": [
       "False"
      ]
     },
     "execution_count": 29,
     "metadata": {},
     "output_type": "execute_result"
    }
   ],
   "source": [
    "is_even(5)"
   ]
  },
  {
   "cell_type": "code",
   "execution_count": 30,
   "id": "292c12f5-adb8-4edb-b0af-a70838572723",
   "metadata": {},
   "outputs": [],
   "source": [
    "numbers = list(range(20))"
   ]
  },
  {
   "cell_type": "code",
   "execution_count": 31,
   "id": "b6308415-39f1-4a41-a42d-d69010783bd2",
   "metadata": {},
   "outputs": [
    {
     "data": {
      "text/plain": [
       "[0, 1, 2, 3, 4, 5, 6, 7, 8, 9, 10, 11, 12, 13, 14, 15, 16, 17, 18, 19]"
      ]
     },
     "execution_count": 31,
     "metadata": {},
     "output_type": "execute_result"
    }
   ],
   "source": [
    "numbers"
   ]
  },
  {
   "cell_type": "code",
   "execution_count": 32,
   "id": "320a56de-993a-4eb6-9213-f3e7bc6c6775",
   "metadata": {},
   "outputs": [],
   "source": [
    "even_numbers = []\n",
    "odd_numbers = []\n",
    "for i in numbers:\n",
    "    if i%2 == 0:\n",
    "        even_numbers.append(i)\n",
    "    else:\n",
    "        odd_numbers.append(i)"
   ]
  },
  {
   "cell_type": "code",
   "execution_count": 33,
   "id": "ef89d1af-691e-4b7e-a762-c5800889cb3f",
   "metadata": {},
   "outputs": [
    {
     "data": {
      "text/plain": [
       "[0, 2, 4, 6, 8, 10, 12, 14, 16, 18]"
      ]
     },
     "execution_count": 33,
     "metadata": {},
     "output_type": "execute_result"
    }
   ],
   "source": [
    "even_numbers"
   ]
  },
  {
   "cell_type": "code",
   "execution_count": 34,
   "id": "84a9983f-87d3-42ed-ba78-91efb7f9ab20",
   "metadata": {},
   "outputs": [
    {
     "data": {
      "text/plain": [
       "[1, 3, 5, 7, 9, 11, 13, 15, 17, 19]"
      ]
     },
     "execution_count": 34,
     "metadata": {},
     "output_type": "execute_result"
    }
   ],
   "source": [
    "odd_numbers"
   ]
  },
  {
   "cell_type": "code",
   "execution_count": 40,
   "id": "1a6cd086-dde5-4b5e-b208-101a3e2f2f04",
   "metadata": {},
   "outputs": [
    {
     "data": {
      "text/plain": [
       "[0, 1, 2, 3, 4, 5, 6, 7, 8, 9, 10, 11, 12, 13, 14, 15, 16, 17, 18, 19]"
      ]
     },
     "execution_count": 40,
     "metadata": {},
     "output_type": "execute_result"
    }
   ],
   "source": [
    "numbers"
   ]
  },
  {
   "cell_type": "code",
   "execution_count": 36,
   "id": "efb5b5d5-c39f-4f85-8191-d4eaf36be784",
   "metadata": {},
   "outputs": [],
   "source": [
    "even_numbers  = list(filter(lambda x:x%2 == 0,numbers))"
   ]
  },
  {
   "cell_type": "code",
   "execution_count": 37,
   "id": "d2cb7fe3-fce3-4795-b602-1b4c1efa051e",
   "metadata": {},
   "outputs": [],
   "source": [
    "odd_numbers  = list(filter(lambda x:x%2 == 1,numbers))"
   ]
  },
  {
   "cell_type": "code",
   "execution_count": 38,
   "id": "8883616d-996c-4be0-9bee-7ee804319903",
   "metadata": {},
   "outputs": [
    {
     "data": {
      "text/plain": [
       "[0, 2, 4, 6, 8, 10, 12, 14, 16, 18]"
      ]
     },
     "execution_count": 38,
     "metadata": {},
     "output_type": "execute_result"
    }
   ],
   "source": [
    "even_numbers"
   ]
  },
  {
   "cell_type": "code",
   "execution_count": 39,
   "id": "021acea4-aa52-4795-8b73-7081fdc251e8",
   "metadata": {},
   "outputs": [
    {
     "data": {
      "text/plain": [
       "[1, 3, 5, 7, 9, 11, 13, 15, 17, 19]"
      ]
     },
     "execution_count": 39,
     "metadata": {},
     "output_type": "execute_result"
    }
   ],
   "source": [
    "odd_numbers"
   ]
  },
  {
   "cell_type": "code",
   "execution_count": 41,
   "id": "351aa6f8-d5f2-4ffd-83e0-51cd8b81ac01",
   "metadata": {},
   "outputs": [],
   "source": [
    "import string"
   ]
  },
  {
   "cell_type": "code",
   "execution_count": 42,
   "id": "e1685bc3-f93a-47d6-a7fe-0958f7bbf0c9",
   "metadata": {},
   "outputs": [],
   "source": [
    "alphabet = string.ascii_lowercase"
   ]
  },
  {
   "cell_type": "code",
   "execution_count": 44,
   "id": "bb03eecc-6bd9-4a20-80ab-02eff6a519fb",
   "metadata": {},
   "outputs": [],
   "source": [
    "alphabet = list(alphabet)"
   ]
  },
  {
   "cell_type": "code",
   "execution_count": 45,
   "id": "8bc3c8cb-8692-4827-9703-6487d16bfafe",
   "metadata": {},
   "outputs": [
    {
     "data": {
      "text/plain": [
       "['a',\n",
       " 'b',\n",
       " 'c',\n",
       " 'd',\n",
       " 'e',\n",
       " 'f',\n",
       " 'g',\n",
       " 'h',\n",
       " 'i',\n",
       " 'j',\n",
       " 'k',\n",
       " 'l',\n",
       " 'm',\n",
       " 'n',\n",
       " 'o',\n",
       " 'p',\n",
       " 'q',\n",
       " 'r',\n",
       " 's',\n",
       " 't',\n",
       " 'u',\n",
       " 'v',\n",
       " 'w',\n",
       " 'x',\n",
       " 'y',\n",
       " 'z']"
      ]
     },
     "execution_count": 45,
     "metadata": {},
     "output_type": "execute_result"
    }
   ],
   "source": [
    "alphabet"
   ]
  },
  {
   "cell_type": "code",
   "execution_count": 46,
   "id": "2756a341-bd31-472b-b49a-f1a7292b4b4a",
   "metadata": {},
   "outputs": [],
   "source": [
    "numbers = list(range(len(alphabet)))"
   ]
  },
  {
   "cell_type": "code",
   "execution_count": 47,
   "id": "239ddbb6-3a0a-4d8a-9045-4cc4194ad30b",
   "metadata": {},
   "outputs": [
    {
     "data": {
      "text/plain": [
       "[0,\n",
       " 1,\n",
       " 2,\n",
       " 3,\n",
       " 4,\n",
       " 5,\n",
       " 6,\n",
       " 7,\n",
       " 8,\n",
       " 9,\n",
       " 10,\n",
       " 11,\n",
       " 12,\n",
       " 13,\n",
       " 14,\n",
       " 15,\n",
       " 16,\n",
       " 17,\n",
       " 18,\n",
       " 19,\n",
       " 20,\n",
       " 21,\n",
       " 22,\n",
       " 23,\n",
       " 24,\n",
       " 25]"
      ]
     },
     "execution_count": 47,
     "metadata": {},
     "output_type": "execute_result"
    }
   ],
   "source": [
    "numbers"
   ]
  },
  {
   "cell_type": "code",
   "execution_count": 52,
   "id": "7ff8735a-cc44-42cb-abe3-65b3d3eb51bf",
   "metadata": {},
   "outputs": [
    {
     "data": {
      "text/plain": [
       "[(0, 'a'),\n",
       " (1, 'b'),\n",
       " (2, 'c'),\n",
       " (3, 'd'),\n",
       " (4, 'e'),\n",
       " (5, 'f'),\n",
       " (6, 'g'),\n",
       " (7, 'h'),\n",
       " (8, 'i'),\n",
       " (9, 'j'),\n",
       " (10, 'k'),\n",
       " (11, 'l'),\n",
       " (12, 'm'),\n",
       " (13, 'n'),\n",
       " (14, 'o'),\n",
       " (15, 'p'),\n",
       " (16, 'q'),\n",
       " (17, 'r'),\n",
       " (18, 's'),\n",
       " (19, 't'),\n",
       " (20, 'u'),\n",
       " (21, 'v'),\n",
       " (22, 'w'),\n",
       " (23, 'x'),\n",
       " (24, 'y'),\n",
       " (25, 'z')]"
      ]
     },
     "execution_count": 52,
     "metadata": {},
     "output_type": "execute_result"
    }
   ],
   "source": [
    "list(zip(numbers,alphabet))"
   ]
  },
  {
   "cell_type": "code",
   "execution_count": 50,
   "id": "6f7c0d9e-60a8-45e8-a984-e87f522eb4c7",
   "metadata": {},
   "outputs": [
    {
     "data": {
      "text/plain": [
       "[{0: 'a'},\n",
       " {1: 'b'},\n",
       " {2: 'c'},\n",
       " {3: 'd'},\n",
       " {4: 'e'},\n",
       " {5: 'f'},\n",
       " {6: 'g'},\n",
       " {7: 'h'},\n",
       " {8: 'i'},\n",
       " {9: 'j'},\n",
       " {10: 'k'},\n",
       " {11: 'l'},\n",
       " {12: 'm'},\n",
       " {13: 'n'},\n",
       " {14: 'o'},\n",
       " {15: 'p'},\n",
       " {16: 'q'},\n",
       " {17: 'r'},\n",
       " {18: 's'},\n",
       " {19: 't'},\n",
       " {20: 'u'},\n",
       " {21: 'v'},\n",
       " {22: 'w'},\n",
       " {23: 'x'},\n",
       " {24: 'y'},\n",
       " {25: 'z'}]"
      ]
     },
     "execution_count": 50,
     "metadata": {},
     "output_type": "execute_result"
    }
   ],
   "source": [
    "list(map(lambda x:{x[0]:x[1]},list(zip(numbers,alphabet))))"
   ]
  },
  {
   "cell_type": "code",
   "execution_count": null,
   "id": "5503158b-02bd-4066-bc06-11c4e82816c8",
   "metadata": {},
   "outputs": [],
   "source": []
  }
 ],
 "metadata": {
  "kernelspec": {
   "display_name": "Python 3 (ipykernel)",
   "language": "python",
   "name": "python3"
  },
  "language_info": {
   "codemirror_mode": {
    "name": "ipython",
    "version": 3
   },
   "file_extension": ".py",
   "mimetype": "text/x-python",
   "name": "python",
   "nbconvert_exporter": "python",
   "pygments_lexer": "ipython3",
   "version": "3.11.3"
  }
 },
 "nbformat": 4,
 "nbformat_minor": 5
}
