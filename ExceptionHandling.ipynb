{
 "cells": [
  {
   "cell_type": "code",
   "execution_count": 1,
   "id": "d0ec3fb4-8fd1-4dfc-9c75-13e06b8b9891",
   "metadata": {},
   "outputs": [
    {
     "data": {
      "text/plain": [
       "6"
      ]
     },
     "execution_count": 1,
     "metadata": {},
     "output_type": "execute_result"
    }
   ],
   "source": [
    "int(\"6\")"
   ]
  },
  {
   "cell_type": "code",
   "execution_count": 2,
   "id": "216d9478-39c1-49e5-9fef-a5878fd87ac3",
   "metadata": {},
   "outputs": [
    {
     "ename": "ValueError",
     "evalue": "invalid literal for int() with base 10: 'g'",
     "output_type": "error",
     "traceback": [
      "\u001b[0;31m---------------------------------------------------------------------------\u001b[0m",
      "\u001b[0;31mValueError\u001b[0m                                Traceback (most recent call last)",
      "Cell \u001b[0;32mIn[2], line 1\u001b[0m\n\u001b[0;32m----> 1\u001b[0m \u001b[38;5;28;43mint\u001b[39;49m\u001b[43m(\u001b[49m\u001b[38;5;124;43m\"\u001b[39;49m\u001b[38;5;124;43mg\u001b[39;49m\u001b[38;5;124;43m\"\u001b[39;49m\u001b[43m)\u001b[49m\n",
      "\u001b[0;31mValueError\u001b[0m: invalid literal for int() with base 10: 'g'"
     ]
    }
   ],
   "source": [
    "int(\"g\")"
   ]
  },
  {
   "cell_type": "code",
   "execution_count": 14,
   "id": "4c2c91b5-71ab-4f3b-85ff-8a6743245619",
   "metadata": {},
   "outputs": [
    {
     "name": "stdin",
     "output_type": "stream",
     "text": [
      "Enter Index: 1\n"
     ]
    },
    {
     "name": "stdout",
     "output_type": "stream",
     "text": [
      "2\n"
     ]
    }
   ],
   "source": [
    "lis = [1,2,3]\n",
    "number = int(input(\"Enter Index:\"))\n",
    "print(lis[number])"
   ]
  },
  {
   "cell_type": "code",
   "execution_count": 18,
   "id": "6b691401-0ec4-4b97-8270-1943d9220e94",
   "metadata": {},
   "outputs": [
    {
     "name": "stdin",
     "output_type": "stream",
     "text": [
      "Enter Index: 6\n"
     ]
    },
    {
     "name": "stdout",
     "output_type": "stream",
     "text": [
      "Please give number only\n"
     ]
    }
   ],
   "source": [
    "try:\n",
    "    lis = [1,2,3]\n",
    "    number = int(input(\"Enter Index:\"))\n",
    "    print(lis[number])\n",
    "except IndexError as ie:\n",
    "    print(\"Please enter 0,1,2 only\")\n",
    "except Exception as e:\n",
    "    print(\"Please give number only\")"
   ]
  },
  {
   "cell_type": "code",
   "execution_count": 6,
   "id": "30598fdd-8c89-432c-b9ad-d85396b544e0",
   "metadata": {},
   "outputs": [
    {
     "name": "stdin",
     "output_type": "stream",
     "text": [
      "Enter Number: dsh\n"
     ]
    },
    {
     "name": "stdout",
     "output_type": "stream",
     "text": [
      "1\n",
      "Wrong Input\n"
     ]
    }
   ],
   "source": [
    "try:\n",
    "    value = 1\n",
    "    lis = [1,2,3]\n",
    "    number = int(input(\"Enter Index:\"))\n",
    "    print(lis[number])\n",
    "except ValueError as ve:\n",
    "    print(value)\n",
    "    print(\"Value Error\")\n",
    "except IndexError as ie:\n",
    "    print(\"Index Error\")"
   ]
  },
  {
   "cell_type": "code",
   "execution_count": 8,
   "id": "4f76f27b-b5cc-479a-8821-b141f924e3b6",
   "metadata": {},
   "outputs": [],
   "source": [
    "lis = [1,2,3]"
   ]
  },
  {
   "cell_type": "code",
   "execution_count": 9,
   "id": "19f0dbda-9aca-430c-b280-c9da0f11c58e",
   "metadata": {},
   "outputs": [
    {
     "ename": "IndexError",
     "evalue": "list index out of range",
     "output_type": "error",
     "traceback": [
      "\u001b[0;31m---------------------------------------------------------------------------\u001b[0m",
      "\u001b[0;31mIndexError\u001b[0m                                Traceback (most recent call last)",
      "Cell \u001b[0;32mIn[9], line 1\u001b[0m\n\u001b[0;32m----> 1\u001b[0m \u001b[43mlis\u001b[49m\u001b[43m[\u001b[49m\u001b[38;5;241;43m3\u001b[39;49m\u001b[43m]\u001b[49m\n",
      "\u001b[0;31mIndexError\u001b[0m: list index out of range"
     ]
    }
   ],
   "source": [
    "lis[3]"
   ]
  },
  {
   "cell_type": "code",
   "execution_count": 5,
   "id": "64f52ece-6d62-4400-b022-103aea367455",
   "metadata": {},
   "outputs": [
    {
     "data": {
      "text/plain": [
       "1"
      ]
     },
     "execution_count": 5,
     "metadata": {},
     "output_type": "execute_result"
    }
   ],
   "source": [
    "value"
   ]
  },
  {
   "cell_type": "code",
   "execution_count": 7,
   "id": "4c0e574c-3840-4b9b-987e-5c16b437b77f",
   "metadata": {},
   "outputs": [
    {
     "ename": "NameError",
     "evalue": "name 'python' is not defined",
     "output_type": "error",
     "traceback": [
      "\u001b[0;31m---------------------------------------------------------------------------\u001b[0m",
      "\u001b[0;31mNameError\u001b[0m                                 Traceback (most recent call last)",
      "Cell \u001b[0;32mIn[7], line 1\u001b[0m\n\u001b[0;32m----> 1\u001b[0m \u001b[43mpython\u001b[49m\u001b[38;5;241m.\u001b[39m__version__\n",
      "\u001b[0;31mNameError\u001b[0m: name 'python' is not defined"
     ]
    }
   ],
   "source": []
  },
  {
   "cell_type": "code",
   "execution_count": null,
   "id": "820230ea-8cd7-4bb5-ba33-f0a5be37b4a8",
   "metadata": {},
   "outputs": [],
   "source": []
  }
 ],
 "metadata": {
  "kernelspec": {
   "display_name": "Python 3 (ipykernel)",
   "language": "python",
   "name": "python3"
  },
  "language_info": {
   "codemirror_mode": {
    "name": "ipython",
    "version": 3
   },
   "file_extension": ".py",
   "mimetype": "text/x-python",
   "name": "python",
   "nbconvert_exporter": "python",
   "pygments_lexer": "ipython3",
   "version": "3.11.3"
  }
 },
 "nbformat": 4,
 "nbformat_minor": 5
}
