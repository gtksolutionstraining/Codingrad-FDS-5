{
 "cells": [
  {
   "cell_type": "markdown",
   "id": "5ac2551e-80d1-4506-a400-2e5c193e56f1",
   "metadata": {},
   "source": [
    "# Files\n",
    "- open() is an inbuilt python function for creating and manipulating files\n",
    "- open() will take 2 arguments\n",
    "- 1st argument is filename\n",
    "- 2nd argument is mode --> create/read/append\n",
    "- for creating a file the mode is \"w\", --> If file does't exist, then it will create a file. If file exists then it will delete the content of the file and create as new file\n",
    "- for reading a file the mode is \"r\" --> If file exist then it will open in a reading mode. If the file mode is in reading. Then you are no allowed to write anything to the file. if file doesn't exist then \"r\" mode will give u an error saying filenotfound\n",
    "- for appending a file the mode is \"a\" --> If file doen't exist, then it will create file. If file exists then it will not delete anything like \"w\".It keeps everything as is\n",
    "\n",
    "# context management using with\n",
    "- with is used context management"
   ]
  },
  {
   "cell_type": "code",
   "execution_count": 25,
   "id": "e4eeecb3-b6c1-4eef-8c11-a1392d119a0f",
   "metadata": {},
   "outputs": [],
   "source": [
    "file = open(\"sample.txt\",'w')"
   ]
  },
  {
   "cell_type": "code",
   "execution_count": 3,
   "id": "96506203-5a5e-4a05-a9b5-a005ac769697",
   "metadata": {},
   "outputs": [
    {
     "data": {
      "text/plain": [
       "12"
      ]
     },
     "execution_count": 3,
     "metadata": {},
     "output_type": "execute_result"
    }
   ],
   "source": [
    "file.write(\"Hello World!\")"
   ]
  },
  {
   "cell_type": "code",
   "execution_count": 4,
   "id": "a9896ff9-519c-45a8-bdf8-e1f5e68dc8f7",
   "metadata": {},
   "outputs": [],
   "source": [
    "file.flush()"
   ]
  },
  {
   "cell_type": "code",
   "execution_count": 5,
   "id": "f9beff2d-016e-45fa-9362-2c40166d62df",
   "metadata": {},
   "outputs": [],
   "source": [
    "file.close()"
   ]
  },
  {
   "cell_type": "code",
   "execution_count": 5,
   "id": "5afce545-8810-499d-a6a5-cc5fa8ecf8ee",
   "metadata": {},
   "outputs": [],
   "source": [
    "## readlines() will return a list of lines in the file.\n",
    "with open(\"students.list\",\"r\") as f:\n",
    "    students = f.readlines()"
   ]
  },
  {
   "cell_type": "code",
   "execution_count": 2,
   "id": "20edbccc-0a3f-45e2-a703-bb6b4d657b40",
   "metadata": {},
   "outputs": [
    {
     "data": {
      "text/plain": [
       "['Prasanna Kumar\\n',\n",
       " 'Sai Krishna\\n',\n",
       " 'Vinod\\n',\n",
       " 'Laxmi Tulasi\\n',\n",
       " 'Somashekar\\n',\n",
       " 'Maneesha\\n',\n",
       " 'Sowmya\\n',\n",
       " 'Guffran\\n',\n",
       " 'Bharat\\n',\n",
       " 'Nikhil\\n',\n",
       " 'susneha\\n',\n",
       " 'Devendher']"
      ]
     },
     "execution_count": 2,
     "metadata": {},
     "output_type": "execute_result"
    }
   ],
   "source": [
    "students"
   ]
  },
  {
   "cell_type": "code",
   "execution_count": 4,
   "id": "120308a1-acfb-4b49-9b7b-3094da05af0d",
   "metadata": {},
   "outputs": [],
   "source": [
    "## writelines dump the list to the file\n",
    "with open(\"students_copy.list\",\"w\") as f:\n",
    "    f.writelines(students)"
   ]
  },
  {
   "cell_type": "code",
   "execution_count": 6,
   "id": "0775f31c-d4bb-4f93-896a-2c5a61015728",
   "metadata": {},
   "outputs": [],
   "source": [
    "with open(\"students.list\",\"r\") as f:\n",
    "    data = f.read()"
   ]
  },
  {
   "cell_type": "code",
   "execution_count": 7,
   "id": "d612f778-0260-427c-8638-a6ce0c3101bf",
   "metadata": {},
   "outputs": [
    {
     "data": {
      "text/plain": [
       "'Prasanna Kumar\\nSai Krishna\\nVinod\\nLaxmi Tulasi\\nSomashekar\\nManeesha\\nSowmya\\nGuffran\\nBharat\\nNikhil\\nsusneha\\nDevendher'"
      ]
     },
     "execution_count": 7,
     "metadata": {},
     "output_type": "execute_result"
    }
   ],
   "source": [
    "data"
   ]
  },
  {
   "cell_type": "code",
   "execution_count": 10,
   "id": "c40712f2-e2c0-4c93-89d9-4e95fce5cb46",
   "metadata": {},
   "outputs": [],
   "source": [
    "## Explicit Type Casting of String to List\n",
    "students = list(data)"
   ]
  },
  {
   "cell_type": "code",
   "execution_count": 11,
   "id": "3583f00e-c756-4b8b-96cf-dfa201398641",
   "metadata": {},
   "outputs": [
    {
     "data": {
      "text/plain": [
       "['P',\n",
       " 'r',\n",
       " 'a',\n",
       " 's',\n",
       " 'a',\n",
       " 'n',\n",
       " 'n',\n",
       " 'a',\n",
       " ' ',\n",
       " 'K',\n",
       " 'u',\n",
       " 'm',\n",
       " 'a',\n",
       " 'r',\n",
       " '\\n',\n",
       " 'S',\n",
       " 'a',\n",
       " 'i',\n",
       " ' ',\n",
       " 'K',\n",
       " 'r',\n",
       " 'i',\n",
       " 's',\n",
       " 'h',\n",
       " 'n',\n",
       " 'a',\n",
       " '\\n',\n",
       " 'V',\n",
       " 'i',\n",
       " 'n',\n",
       " 'o',\n",
       " 'd',\n",
       " '\\n',\n",
       " 'L',\n",
       " 'a',\n",
       " 'x',\n",
       " 'm',\n",
       " 'i',\n",
       " ' ',\n",
       " 'T',\n",
       " 'u',\n",
       " 'l',\n",
       " 'a',\n",
       " 's',\n",
       " 'i',\n",
       " '\\n',\n",
       " 'S',\n",
       " 'o',\n",
       " 'm',\n",
       " 'a',\n",
       " 's',\n",
       " 'h',\n",
       " 'e',\n",
       " 'k',\n",
       " 'a',\n",
       " 'r',\n",
       " '\\n',\n",
       " 'M',\n",
       " 'a',\n",
       " 'n',\n",
       " 'e',\n",
       " 'e',\n",
       " 's',\n",
       " 'h',\n",
       " 'a',\n",
       " '\\n',\n",
       " 'S',\n",
       " 'o',\n",
       " 'w',\n",
       " 'm',\n",
       " 'y',\n",
       " 'a',\n",
       " '\\n',\n",
       " 'G',\n",
       " 'u',\n",
       " 'f',\n",
       " 'f',\n",
       " 'r',\n",
       " 'a',\n",
       " 'n',\n",
       " '\\n',\n",
       " 'B',\n",
       " 'h',\n",
       " 'a',\n",
       " 'r',\n",
       " 'a',\n",
       " 't',\n",
       " '\\n',\n",
       " 'N',\n",
       " 'i',\n",
       " 'k',\n",
       " 'h',\n",
       " 'i',\n",
       " 'l',\n",
       " '\\n',\n",
       " 's',\n",
       " 'u',\n",
       " 's',\n",
       " 'n',\n",
       " 'e',\n",
       " 'h',\n",
       " 'a',\n",
       " '\\n',\n",
       " 'D',\n",
       " 'e',\n",
       " 'v',\n",
       " 'e',\n",
       " 'n',\n",
       " 'd',\n",
       " 'h',\n",
       " 'e',\n",
       " 'r']"
      ]
     },
     "execution_count": 11,
     "metadata": {},
     "output_type": "execute_result"
    }
   ],
   "source": [
    "students"
   ]
  },
  {
   "cell_type": "code",
   "execution_count": 13,
   "id": "7151cf11-21a2-4747-8bac-7db6f0f9d473",
   "metadata": {},
   "outputs": [],
   "source": [
    "students = data.split('\\n')"
   ]
  },
  {
   "cell_type": "code",
   "execution_count": 14,
   "id": "ca348cdd-7333-4140-b102-5a2fa02918b6",
   "metadata": {},
   "outputs": [
    {
     "data": {
      "text/plain": [
       "['Prasanna Kumar',\n",
       " 'Sai Krishna',\n",
       " 'Vinod',\n",
       " 'Laxmi Tulasi',\n",
       " 'Somashekar',\n",
       " 'Maneesha',\n",
       " 'Sowmya',\n",
       " 'Guffran',\n",
       " 'Bharat',\n",
       " 'Nikhil',\n",
       " 'susneha',\n",
       " 'Devendher']"
      ]
     },
     "execution_count": 14,
     "metadata": {},
     "output_type": "execute_result"
    }
   ],
   "source": [
    "students"
   ]
  },
  {
   "cell_type": "code",
   "execution_count": 18,
   "id": "5a62071c-0e3e-4637-9417-4d204e117228",
   "metadata": {},
   "outputs": [],
   "source": [
    "students = list(map(lambda x:x+'\\n',students))"
   ]
  },
  {
   "cell_type": "code",
   "execution_count": 19,
   "id": "838761b5-4696-488f-9ed4-8882355bbf1e",
   "metadata": {},
   "outputs": [
    {
     "data": {
      "text/plain": [
       "['Prasanna Kumar\\n',\n",
       " 'Sai Krishna\\n',\n",
       " 'Vinod\\n',\n",
       " 'Laxmi Tulasi\\n',\n",
       " 'Somashekar\\n',\n",
       " 'Maneesha\\n',\n",
       " 'Sowmya\\n',\n",
       " 'Guffran\\n',\n",
       " 'Bharat\\n',\n",
       " 'Nikhil\\n',\n",
       " 'susneha\\n',\n",
       " 'Devendher\\n']"
      ]
     },
     "execution_count": 19,
     "metadata": {},
     "output_type": "execute_result"
    }
   ],
   "source": [
    "students"
   ]
  },
  {
   "cell_type": "code",
   "execution_count": 20,
   "id": "dc59d930-388b-4e52-8a2b-42ca173e15b8",
   "metadata": {},
   "outputs": [],
   "source": [
    "with open('students_copy2.list','w') as f:\n",
    "    f.writelines(students)"
   ]
  },
  {
   "cell_type": "code",
   "execution_count": 24,
   "id": "fc1bb5f0-577b-4e0c-adb5-fb4206e8444b",
   "metadata": {},
   "outputs": [],
   "source": [
    "with open('students_copy2.list','a') as f:\n",
    "    f.write('Tharun')"
   ]
  },
  {
   "cell_type": "code",
   "execution_count": 26,
   "id": "08ed0b6c-43dd-4925-9fbd-2e31ec982e1f",
   "metadata": {},
   "outputs": [
    {
     "name": "stdout",
     "output_type": "stream",
     "text": [
      "Help on built-in function seek:\n",
      "\n",
      "seek(cookie, whence=0, /) method of _io.TextIOWrapper instance\n",
      "    Change stream position.\n",
      "    \n",
      "    Change the stream position to the given byte offset. The offset is\n",
      "    interpreted relative to the position indicated by whence.  Values\n",
      "    for whence are:\n",
      "    \n",
      "    * 0 -- start of stream (the default); offset should be zero or positive\n",
      "    * 1 -- current stream position; offset may be negative\n",
      "    * 2 -- end of stream; offset is usually negative\n",
      "    \n",
      "    Return the new absolute position.\n",
      "\n"
     ]
    }
   ],
   "source": [
    "help(file.seek)"
   ]
  },
  {
   "cell_type": "code",
   "execution_count": 50,
   "id": "7472fd6d-eccc-4f30-97a6-410db569fc8d",
   "metadata": {},
   "outputs": [],
   "source": [
    "file = open('students.json','r')"
   ]
  },
  {
   "cell_type": "code",
   "execution_count": 51,
   "id": "4afd4104-25c9-4740-a4e8-724d4ce5d10c",
   "metadata": {},
   "outputs": [],
   "source": [
    "data = file.read()"
   ]
  },
  {
   "cell_type": "code",
   "execution_count": 52,
   "id": "329b7a5a-57fe-4938-8806-5e2f2b17b633",
   "metadata": {},
   "outputs": [
    {
     "data": {
      "text/plain": [
       "'{\"001\": {\"Name\": \"Prasanna\", \"Batch\": \"Python\"}, \"002\": {\"Name\": \"Sai Krishna\", \"Batch\": \"DataScience\"}, \"003\": {\"Name\": \"Vinod\", \"Batch\": \"Python\"}}'"
      ]
     },
     "execution_count": 52,
     "metadata": {},
     "output_type": "execute_result"
    }
   ],
   "source": [
    "data"
   ]
  },
  {
   "cell_type": "code",
   "execution_count": 53,
   "id": "d51aac51-1fa5-416f-bb41-370a2314d278",
   "metadata": {},
   "outputs": [
    {
     "data": {
      "text/plain": [
       "str"
      ]
     },
     "execution_count": 53,
     "metadata": {},
     "output_type": "execute_result"
    }
   ],
   "source": [
    "type(data)"
   ]
  },
  {
   "cell_type": "code",
   "execution_count": 54,
   "id": "324cd5d6-4085-465b-a926-10244a7917aa",
   "metadata": {},
   "outputs": [],
   "source": [
    "file.close()"
   ]
  },
  {
   "cell_type": "code",
   "execution_count": 27,
   "id": "0378619f-dd02-4bfa-a6cb-30680cf4da0a",
   "metadata": {},
   "outputs": [],
   "source": [
    "import json\n",
    "import yaml"
   ]
  },
  {
   "cell_type": "code",
   "execution_count": 28,
   "id": "0ccad3a8-7a04-4b52-bc1c-18aee43f2942",
   "metadata": {},
   "outputs": [],
   "source": [
    "students = {}"
   ]
  },
  {
   "cell_type": "code",
   "execution_count": 29,
   "id": "cc60530b-575a-4295-a4a3-4c54e958290c",
   "metadata": {},
   "outputs": [],
   "source": [
    "students[\"001\"] = {}\n",
    "students[\"001\"]['Name'] = \"Prasanna\"\n",
    "students['001']['Batch'] = 'Python'\n",
    "students['002'] = {}\n",
    "students['002']['Name'] = 'Sai Krishna'\n",
    "students['002']['Batch'] = 'DataScience'\n",
    "students['003'] = {}\n",
    "students['003']['Name'] = 'Vinod'\n",
    "students['003']['Batch'] = 'Python'"
   ]
  },
  {
   "cell_type": "code",
   "execution_count": 30,
   "id": "6b7ef5fe-3d91-4f31-9a1f-712284d36b11",
   "metadata": {},
   "outputs": [
    {
     "data": {
      "text/plain": [
       "{'001': {'Name': 'Prasanna', 'Batch': 'Python'},\n",
       " '002': {'Name': 'Sai Krishna', 'Batch': 'DataScience'},\n",
       " '003': {'Name': 'Vinod', 'Batch': 'Python'}}"
      ]
     },
     "execution_count": 30,
     "metadata": {},
     "output_type": "execute_result"
    }
   ],
   "source": [
    "students"
   ]
  },
  {
   "cell_type": "code",
   "execution_count": 37,
   "id": "caed644f-229e-4ccc-8f09-0456afeb3156",
   "metadata": {},
   "outputs": [
    {
     "data": {
      "text/plain": [
       "{'001': {'Name': 'Prasanna', 'Batch': 'Python'},\n",
       " '002': {'Name': 'Sai Krishna', 'Batch': 'DataScience'},\n",
       " '003': {'Name': 'Vinod', 'Batch': 'Python'}}"
      ]
     },
     "execution_count": 37,
     "metadata": {},
     "output_type": "execute_result"
    }
   ],
   "source": [
    "students"
   ]
  },
  {
   "cell_type": "code",
   "execution_count": 32,
   "id": "fd3c60ba-14a7-48d0-aa90-d01272cdc861",
   "metadata": {},
   "outputs": [],
   "source": [
    "with open('students.json','w') as f:\n",
    "    json.dump(students,f)"
   ]
  },
  {
   "cell_type": "code",
   "execution_count": 44,
   "id": "2e6ff33f-9539-4ec0-84c5-9061e7126182",
   "metadata": {},
   "outputs": [],
   "source": [
    "with open('tasks.yaml','r') as f:\n",
    "    data = yaml.safe_load(f)"
   ]
  },
  {
   "cell_type": "code",
   "execution_count": 45,
   "id": "0d978342-9f80-4cda-8e42-5c5028773dc6",
   "metadata": {},
   "outputs": [
    {
     "data": {
      "text/plain": [
       "{'job': [{'task1': 'Doing Something'}, {'task2': 'Doing Nonsense'}]}"
      ]
     },
     "execution_count": 45,
     "metadata": {},
     "output_type": "execute_result"
    }
   ],
   "source": [
    "data"
   ]
  },
  {
   "cell_type": "code",
   "execution_count": 38,
   "id": "e7bec4f0-b232-4129-8e51-21255023c733",
   "metadata": {},
   "outputs": [],
   "source": [
    "with open('students.yaml','w') as f:\n",
    "    yaml.safe_dump(students,f)"
   ]
  },
  {
   "cell_type": "code",
   "execution_count": 46,
   "id": "871ec6ca-ba92-4f3e-a270-e56681b7a7dd",
   "metadata": {},
   "outputs": [
    {
     "data": {
      "text/plain": [
       "dict"
      ]
     },
     "execution_count": 46,
     "metadata": {},
     "output_type": "execute_result"
    }
   ],
   "source": [
    "type(data)"
   ]
  },
  {
   "cell_type": "code",
   "execution_count": 55,
   "id": "c413bccf-036f-47d1-a697-30372fbaa40a",
   "metadata": {},
   "outputs": [],
   "source": [
    "with open('students.json','r') as f:\n",
    "    students = json.load(f)"
   ]
  },
  {
   "cell_type": "code",
   "execution_count": 56,
   "id": "23464e38-af6d-487a-ad53-7a36ece78d47",
   "metadata": {},
   "outputs": [
    {
     "data": {
      "text/plain": [
       "{'001': {'Name': 'Prasanna', 'Batch': 'Python'},\n",
       " '002': {'Name': 'Sai Krishna', 'Batch': 'DataScience'},\n",
       " '003': {'Name': 'Vinod', 'Batch': 'Python'}}"
      ]
     },
     "execution_count": 56,
     "metadata": {},
     "output_type": "execute_result"
    }
   ],
   "source": [
    "students"
   ]
  },
  {
   "cell_type": "code",
   "execution_count": null,
   "id": "fa735e1c-53e0-47f9-a664-a1a0c130697b",
   "metadata": {},
   "outputs": [],
   "source": []
  }
 ],
 "metadata": {
  "kernelspec": {
   "display_name": "Python 3 (ipykernel)",
   "language": "python",
   "name": "python3"
  },
  "language_info": {
   "codemirror_mode": {
    "name": "ipython",
    "version": 3
   },
   "file_extension": ".py",
   "mimetype": "text/x-python",
   "name": "python",
   "nbconvert_exporter": "python",
   "pygments_lexer": "ipython3",
   "version": "3.11.3"
  }
 },
 "nbformat": 4,
 "nbformat_minor": 5
}
