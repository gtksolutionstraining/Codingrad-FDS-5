{
 "cells": [
  {
   "cell_type": "markdown",
   "id": "5ac2551e-80d1-4506-a400-2e5c193e56f1",
   "metadata": {},
   "source": [
    "# Files\n",
    "- open() is an inbuilt python function for creating and manipulating files\n",
    "- open() will take 2 arguments\n",
    "- 1st argument is filename\n",
    "- 2nd argument is mode --> create/read/append\n",
    "- for creating a file the mode is \"w\", --> If file does't exist, then it will create a file. If file exists then it will delete the content of the file and create as new file\n",
    "- for reading a file the mode is \"r\" --> If file exist then it will open in a reading mode. If the file mode is in reading. Then you are no allowed to write anything to the file. if file doesn't exist then \"r\" mode will give u an error saying filenotfound\n",
    "- for appending a file the mode is \"a\" --> If file doen't exist, then it will create file. If file exists then it will not delete anything like \"w\".It keeps everything as is"
   ]
  },
  {
   "cell_type": "code",
   "execution_count": 1,
   "id": "e4eeecb3-b6c1-4eef-8c11-a1392d119a0f",
   "metadata": {},
   "outputs": [],
   "source": [
    "file = open(\"sample.txt\",'w')"
   ]
  },
  {
   "cell_type": "code",
   "execution_count": 3,
   "id": "96506203-5a5e-4a05-a9b5-a005ac769697",
   "metadata": {},
   "outputs": [
    {
     "data": {
      "text/plain": [
       "12"
      ]
     },
     "execution_count": 3,
     "metadata": {},
     "output_type": "execute_result"
    }
   ],
   "source": [
    "file.write(\"Hello World!\")"
   ]
  },
  {
   "cell_type": "code",
   "execution_count": 4,
   "id": "a9896ff9-519c-45a8-bdf8-e1f5e68dc8f7",
   "metadata": {},
   "outputs": [],
   "source": [
    "file.flush()"
   ]
  },
  {
   "cell_type": "code",
   "execution_count": 5,
   "id": "f9beff2d-016e-45fa-9362-2c40166d62df",
   "metadata": {},
   "outputs": [],
   "source": [
    "file.close()"
   ]
  },
  {
   "cell_type": "code",
   "execution_count": null,
   "id": "5afce545-8810-499d-a6a5-cc5fa8ecf8ee",
   "metadata": {},
   "outputs": [],
   "source": []
  }
 ],
 "metadata": {
  "kernelspec": {
   "display_name": "Python 3 (ipykernel)",
   "language": "python",
   "name": "python3"
  },
  "language_info": {
   "codemirror_mode": {
    "name": "ipython",
    "version": 3
   },
   "file_extension": ".py",
   "mimetype": "text/x-python",
   "name": "python",
   "nbconvert_exporter": "python",
   "pygments_lexer": "ipython3",
   "version": "3.11.3"
  }
 },
 "nbformat": 4,
 "nbformat_minor": 5
}
