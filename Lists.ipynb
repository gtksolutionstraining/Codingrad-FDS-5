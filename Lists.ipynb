{
 "cells": [
  {
   "cell_type": "markdown",
   "id": "51591ca4-d960-4a13-aed5-e05112bb2818",
   "metadata": {},
   "source": [
    "# Python Lists\n",
    "- Is an ordered collection of elements\n",
    "- Order matters here\n",
    "\\n\n",
    "# Defining List in Python\n",
    "- List can be defined in python using []\n",
    "- An empty definition can be done using list()"
   ]
  },
  {
   "cell_type": "code",
   "execution_count": 1,
   "id": "42cf54d0-ee07-441f-90dc-1ccb4430fc79",
   "metadata": {},
   "outputs": [],
   "source": [
    "a = []"
   ]
  },
  {
   "cell_type": "code",
   "execution_count": 2,
   "id": "b173fbf3-f808-4d12-a9b0-e0676dfa87cd",
   "metadata": {},
   "outputs": [],
   "source": [
    "b = list()"
   ]
  },
  {
   "cell_type": "code",
   "execution_count": 3,
   "id": "9b9bac50-840e-4076-ae6b-3c0c2dab18b0",
   "metadata": {},
   "outputs": [
    {
     "data": {
      "text/plain": [
       "[]"
      ]
     },
     "execution_count": 3,
     "metadata": {},
     "output_type": "execute_result"
    }
   ],
   "source": [
    "a"
   ]
  },
  {
   "cell_type": "code",
   "execution_count": 4,
   "id": "92f2b117-0d62-4a01-b32d-75b1755b8349",
   "metadata": {},
   "outputs": [
    {
     "data": {
      "text/plain": [
       "[]"
      ]
     },
     "execution_count": 4,
     "metadata": {},
     "output_type": "execute_result"
    }
   ],
   "source": [
    "b"
   ]
  },
  {
   "cell_type": "code",
   "execution_count": 14,
   "id": "71d00b6a-cf03-4844-a0ec-0c7a4e5200d5",
   "metadata": {},
   "outputs": [],
   "source": [
    "city = \"Hyderabad\""
   ]
  },
  {
   "cell_type": "code",
   "execution_count": 17,
   "id": "fe2c5fa2-cfea-4d44-afde-31c4addbf489",
   "metadata": {},
   "outputs": [
    {
     "data": {
      "text/plain": [
       "'Hyde'"
      ]
     },
     "execution_count": 17,
     "metadata": {},
     "output_type": "execute_result"
    }
   ],
   "source": [
    "city[0:4]"
   ]
  },
  {
   "cell_type": "code",
   "execution_count": 5,
   "id": "c9e034c4-52ce-4462-9f74-52c7314db53d",
   "metadata": {},
   "outputs": [],
   "source": [
    "students = ['Raju','Rani','Ramesh']"
   ]
  },
  {
   "cell_type": "code",
   "execution_count": 6,
   "id": "b33c493b-9871-4281-82a6-de2b36294f8e",
   "metadata": {},
   "outputs": [],
   "source": [
    "## Indexing a list"
   ]
  },
  {
   "cell_type": "code",
   "execution_count": 16,
   "id": "fb791b0d-156b-43ce-9dea-d89839a9b665",
   "metadata": {},
   "outputs": [
    {
     "data": {
      "text/plain": [
       "'Raju'"
      ]
     },
     "execution_count": 16,
     "metadata": {},
     "output_type": "execute_result"
    }
   ],
   "source": [
    "students[0]"
   ]
  },
  {
   "cell_type": "code",
   "execution_count": 8,
   "id": "1e5f83d2-b5d0-41e3-8a16-bd8e5b6a7868",
   "metadata": {},
   "outputs": [
    {
     "data": {
      "text/plain": [
       "'Ramesh'"
      ]
     },
     "execution_count": 8,
     "metadata": {},
     "output_type": "execute_result"
    }
   ],
   "source": [
    "students[2]"
   ]
  },
  {
   "cell_type": "code",
   "execution_count": 9,
   "id": "eca3a0de-5760-478d-8077-4aa3aa66147d",
   "metadata": {},
   "outputs": [],
   "source": [
    "## Slicing a list"
   ]
  },
  {
   "cell_type": "code",
   "execution_count": 10,
   "id": "a25ab50e-9db8-4d7b-90db-3bdeda77050d",
   "metadata": {},
   "outputs": [
    {
     "data": {
      "text/plain": [
       "['Raju', 'Rani']"
      ]
     },
     "execution_count": 10,
     "metadata": {},
     "output_type": "execute_result"
    }
   ],
   "source": [
    "students[:2]"
   ]
  },
  {
   "cell_type": "code",
   "execution_count": 12,
   "id": "d8440d5f-ec95-416f-9d7c-7e03de125903",
   "metadata": {},
   "outputs": [
    {
     "data": {
      "text/plain": [
       "['Rani', 'Ramesh']"
      ]
     },
     "execution_count": 12,
     "metadata": {},
     "output_type": "execute_result"
    }
   ],
   "source": [
    "students[1:]"
   ]
  },
  {
   "cell_type": "code",
   "execution_count": 13,
   "id": "a613bcec-8eaf-4bc5-8e09-637b4caf799e",
   "metadata": {},
   "outputs": [
    {
     "data": {
      "text/plain": [
       "'Ramesh'"
      ]
     },
     "execution_count": 13,
     "metadata": {},
     "output_type": "execute_result"
    }
   ],
   "source": [
    "students[-1]"
   ]
  },
  {
   "cell_type": "code",
   "execution_count": 18,
   "id": "06cfced3-17cb-4e23-b536-3bf46b7e2595",
   "metadata": {},
   "outputs": [
    {
     "data": {
      "text/plain": [
       "['__add__',\n",
       " '__class__',\n",
       " '__class_getitem__',\n",
       " '__contains__',\n",
       " '__delattr__',\n",
       " '__delitem__',\n",
       " '__dir__',\n",
       " '__doc__',\n",
       " '__eq__',\n",
       " '__format__',\n",
       " '__ge__',\n",
       " '__getattribute__',\n",
       " '__getitem__',\n",
       " '__getstate__',\n",
       " '__gt__',\n",
       " '__hash__',\n",
       " '__iadd__',\n",
       " '__imul__',\n",
       " '__init__',\n",
       " '__init_subclass__',\n",
       " '__iter__',\n",
       " '__le__',\n",
       " '__len__',\n",
       " '__lt__',\n",
       " '__mul__',\n",
       " '__ne__',\n",
       " '__new__',\n",
       " '__reduce__',\n",
       " '__reduce_ex__',\n",
       " '__repr__',\n",
       " '__reversed__',\n",
       " '__rmul__',\n",
       " '__setattr__',\n",
       " '__setitem__',\n",
       " '__sizeof__',\n",
       " '__str__',\n",
       " '__subclasshook__',\n",
       " 'append',\n",
       " 'clear',\n",
       " 'copy',\n",
       " 'count',\n",
       " 'extend',\n",
       " 'index',\n",
       " 'insert',\n",
       " 'pop',\n",
       " 'remove',\n",
       " 'reverse',\n",
       " 'sort']"
      ]
     },
     "execution_count": 18,
     "metadata": {},
     "output_type": "execute_result"
    }
   ],
   "source": [
    "dir(list)"
   ]
  },
  {
   "cell_type": "code",
   "execution_count": 19,
   "id": "96835740-bdd4-4734-976f-79fcee0818bc",
   "metadata": {},
   "outputs": [
    {
     "data": {
      "text/plain": [
       "['Raju', 'Rani', 'Ramesh']"
      ]
     },
     "execution_count": 19,
     "metadata": {},
     "output_type": "execute_result"
    }
   ],
   "source": [
    "students"
   ]
  },
  {
   "cell_type": "code",
   "execution_count": 20,
   "id": "e49a0d67-2287-4e6e-9849-60d62f2e43be",
   "metadata": {},
   "outputs": [],
   "source": [
    "students.append('Rakesh')"
   ]
  },
  {
   "cell_type": "code",
   "execution_count": 21,
   "id": "d68b3ceb-7f4f-40ff-afc4-ce79fd276acd",
   "metadata": {},
   "outputs": [
    {
     "data": {
      "text/plain": [
       "['Raju', 'Rani', 'Ramesh', 'Rakesh']"
      ]
     },
     "execution_count": 21,
     "metadata": {},
     "output_type": "execute_result"
    }
   ],
   "source": [
    "students"
   ]
  },
  {
   "cell_type": "code",
   "execution_count": 22,
   "id": "9396e465-da96-4d86-a8ea-d1edfc8f2638",
   "metadata": {},
   "outputs": [],
   "source": [
    "students.append('Ramesh')"
   ]
  },
  {
   "cell_type": "code",
   "execution_count": 23,
   "id": "f5b02330-00d3-4362-95c4-e3fe59120775",
   "metadata": {},
   "outputs": [
    {
     "data": {
      "text/plain": [
       "['Raju', 'Rani', 'Ramesh', 'Rakesh', 'Ramesh']"
      ]
     },
     "execution_count": 23,
     "metadata": {},
     "output_type": "execute_result"
    }
   ],
   "source": [
    "students"
   ]
  },
  {
   "cell_type": "code",
   "execution_count": 24,
   "id": "a0bdf6e4-2efb-4f1d-a50e-ddec6aa06de1",
   "metadata": {},
   "outputs": [
    {
     "data": {
      "text/plain": [
       "2"
      ]
     },
     "execution_count": 24,
     "metadata": {},
     "output_type": "execute_result"
    }
   ],
   "source": [
    "students.count('Ramesh')"
   ]
  },
  {
   "cell_type": "code",
   "execution_count": 27,
   "id": "f8eac6f1-18d4-47ea-b44d-7363870a3ef4",
   "metadata": {},
   "outputs": [
    {
     "data": {
      "text/plain": [
       "0"
      ]
     },
     "execution_count": 27,
     "metadata": {},
     "output_type": "execute_result"
    }
   ],
   "source": [
    "students.count('raju')"
   ]
  },
  {
   "cell_type": "code",
   "execution_count": 31,
   "id": "2ba8922e-81b3-475e-837c-9b7169beb6b5",
   "metadata": {},
   "outputs": [
    {
     "data": {
      "text/plain": [
       "2"
      ]
     },
     "execution_count": 31,
     "metadata": {},
     "output_type": "execute_result"
    }
   ],
   "source": [
    "students.index('Ramesh')"
   ]
  },
  {
   "cell_type": "code",
   "execution_count": 32,
   "id": "eb82fa54-1f55-46b3-a1f1-2922f044e19c",
   "metadata": {},
   "outputs": [],
   "source": [
    "students.insert(2,'Rajesh')"
   ]
  },
  {
   "cell_type": "code",
   "execution_count": 33,
   "id": "33024678-163b-4f4e-a5d5-c06b426cf7fb",
   "metadata": {},
   "outputs": [
    {
     "data": {
      "text/plain": [
       "['Raju', 'Rani', 'Rajesh', 'Ramesh', 'Rakesh', 'Ramesh']"
      ]
     },
     "execution_count": 33,
     "metadata": {},
     "output_type": "execute_result"
    }
   ],
   "source": [
    "students"
   ]
  },
  {
   "cell_type": "code",
   "execution_count": 34,
   "id": "0d58e10f-2059-4680-be6c-6966c51209d5",
   "metadata": {},
   "outputs": [],
   "source": [
    "students.remove(\"Rakesh\")"
   ]
  },
  {
   "cell_type": "code",
   "execution_count": 36,
   "id": "7f6f0d88-ce27-49d6-bf1b-ba4adccb42b6",
   "metadata": {},
   "outputs": [
    {
     "data": {
      "text/plain": [
       "['Raju', 'Rani', 'Rajesh', 'Ramesh', 'Ramesh']"
      ]
     },
     "execution_count": 36,
     "metadata": {},
     "output_type": "execute_result"
    }
   ],
   "source": [
    "students"
   ]
  },
  {
   "cell_type": "code",
   "execution_count": null,
   "id": "0032f496-cea0-4290-81fd-4748ab0e108c",
   "metadata": {},
   "outputs": [],
   "source": []
  }
 ],
 "metadata": {
  "kernelspec": {
   "display_name": "Python 3 (ipykernel)",
   "language": "python",
   "name": "python3"
  },
  "language_info": {
   "codemirror_mode": {
    "name": "ipython",
    "version": 3
   },
   "file_extension": ".py",
   "mimetype": "text/x-python",
   "name": "python",
   "nbconvert_exporter": "python",
   "pygments_lexer": "ipython3",
   "version": "3.11.3"
  }
 },
 "nbformat": 4,
 "nbformat_minor": 5
}
