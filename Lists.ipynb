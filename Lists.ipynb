{
 "cells": [
  {
   "cell_type": "markdown",
   "id": "51591ca4-d960-4a13-aed5-e05112bb2818",
   "metadata": {},
   "source": [
    "# Python Lists\n",
    "- Is an ordered collection of elements\n",
    "- Order matters here\n",
    "- Lists are mutable objects\n",
    "- List can store any data type\n",
    "# Defining List in Python\n",
    "- List can be defined in python using []\n",
    "- An empty definition can be done using list()"
   ]
  },
  {
   "cell_type": "code",
   "execution_count": 1,
   "id": "42cf54d0-ee07-441f-90dc-1ccb4430fc79",
   "metadata": {},
   "outputs": [],
   "source": [
    "a = []"
   ]
  },
  {
   "cell_type": "code",
   "execution_count": 2,
   "id": "b173fbf3-f808-4d12-a9b0-e0676dfa87cd",
   "metadata": {},
   "outputs": [],
   "source": [
    "b = list()"
   ]
  },
  {
   "cell_type": "code",
   "execution_count": 3,
   "id": "9b9bac50-840e-4076-ae6b-3c0c2dab18b0",
   "metadata": {},
   "outputs": [
    {
     "data": {
      "text/plain": [
       "[]"
      ]
     },
     "execution_count": 3,
     "metadata": {},
     "output_type": "execute_result"
    }
   ],
   "source": [
    "a"
   ]
  },
  {
   "cell_type": "code",
   "execution_count": 4,
   "id": "92f2b117-0d62-4a01-b32d-75b1755b8349",
   "metadata": {},
   "outputs": [
    {
     "data": {
      "text/plain": [
       "[]"
      ]
     },
     "execution_count": 4,
     "metadata": {},
     "output_type": "execute_result"
    }
   ],
   "source": [
    "b"
   ]
  },
  {
   "cell_type": "code",
   "execution_count": 11,
   "id": "71d00b6a-cf03-4844-a0ec-0c7a4e5200d5",
   "metadata": {},
   "outputs": [],
   "source": [
    "city = \"Hyderabad\""
   ]
  },
  {
   "cell_type": "code",
   "execution_count": 12,
   "id": "6257a897-8a3f-4993-b508-d60036e6848a",
   "metadata": {},
   "outputs": [
    {
     "ename": "TypeError",
     "evalue": "'str' object does not support item assignment",
     "output_type": "error",
     "traceback": [
      "\u001b[0;31m---------------------------------------------------------------------------\u001b[0m",
      "\u001b[0;31mTypeError\u001b[0m                                 Traceback (most recent call last)",
      "Cell \u001b[0;32mIn[12], line 1\u001b[0m\n\u001b[0;32m----> 1\u001b[0m \u001b[43mcity\u001b[49m\u001b[43m[\u001b[49m\u001b[38;5;241;43m3\u001b[39;49m\u001b[43m]\u001b[49m \u001b[38;5;241m=\u001b[39m \u001b[38;5;124m'\u001b[39m\u001b[38;5;124mt\u001b[39m\u001b[38;5;124m'\u001b[39m\n",
      "\u001b[0;31mTypeError\u001b[0m: 'str' object does not support item assignment"
     ]
    }
   ],
   "source": [
    "city[3] = 't'"
   ]
  },
  {
   "cell_type": "code",
   "execution_count": 17,
   "id": "fe2c5fa2-cfea-4d44-afde-31c4addbf489",
   "metadata": {},
   "outputs": [
    {
     "data": {
      "text/plain": [
       "'Hyde'"
      ]
     },
     "execution_count": 17,
     "metadata": {},
     "output_type": "execute_result"
    }
   ],
   "source": [
    "city[0:4]"
   ]
  },
  {
   "cell_type": "code",
   "execution_count": 33,
   "id": "c9e034c4-52ce-4462-9f74-52c7314db53d",
   "metadata": {},
   "outputs": [],
   "source": [
    "students = ['Raju','Rani','Ramesh']"
   ]
  },
  {
   "cell_type": "code",
   "execution_count": 3,
   "id": "b33c493b-9871-4281-82a6-de2b36294f8e",
   "metadata": {},
   "outputs": [],
   "source": [
    "## Indexing a list"
   ]
  },
  {
   "cell_type": "code",
   "execution_count": 4,
   "id": "fb791b0d-156b-43ce-9dea-d89839a9b665",
   "metadata": {},
   "outputs": [
    {
     "data": {
      "text/plain": [
       "'Raju'"
      ]
     },
     "execution_count": 4,
     "metadata": {},
     "output_type": "execute_result"
    }
   ],
   "source": [
    "students[0]"
   ]
  },
  {
   "cell_type": "code",
   "execution_count": 5,
   "id": "1e5f83d2-b5d0-41e3-8a16-bd8e5b6a7868",
   "metadata": {},
   "outputs": [
    {
     "data": {
      "text/plain": [
       "'Ramesh'"
      ]
     },
     "execution_count": 5,
     "metadata": {},
     "output_type": "execute_result"
    }
   ],
   "source": [
    "students[2]"
   ]
  },
  {
   "cell_type": "code",
   "execution_count": 6,
   "id": "eca3a0de-5760-478d-8077-4aa3aa66147d",
   "metadata": {},
   "outputs": [],
   "source": [
    "## Slicing a list"
   ]
  },
  {
   "cell_type": "code",
   "execution_count": 7,
   "id": "a25ab50e-9db8-4d7b-90db-3bdeda77050d",
   "metadata": {},
   "outputs": [
    {
     "data": {
      "text/plain": [
       "['Raju', 'Rani']"
      ]
     },
     "execution_count": 7,
     "metadata": {},
     "output_type": "execute_result"
    }
   ],
   "source": [
    "students[:2]"
   ]
  },
  {
   "cell_type": "code",
   "execution_count": 8,
   "id": "d8440d5f-ec95-416f-9d7c-7e03de125903",
   "metadata": {},
   "outputs": [
    {
     "data": {
      "text/plain": [
       "['Rani', 'Ramesh']"
      ]
     },
     "execution_count": 8,
     "metadata": {},
     "output_type": "execute_result"
    }
   ],
   "source": [
    "students[1:]"
   ]
  },
  {
   "cell_type": "code",
   "execution_count": 9,
   "id": "a613bcec-8eaf-4bc5-8e09-637b4caf799e",
   "metadata": {},
   "outputs": [
    {
     "data": {
      "text/plain": [
       "'Ramesh'"
      ]
     },
     "execution_count": 9,
     "metadata": {},
     "output_type": "execute_result"
    }
   ],
   "source": [
    "students[-1]"
   ]
  },
  {
   "cell_type": "code",
   "execution_count": 16,
   "id": "63e58abd-004c-4a66-a1e2-abbbbefa2b38",
   "metadata": {},
   "outputs": [],
   "source": [
    "students[1] = 'Rani'"
   ]
  },
  {
   "cell_type": "code",
   "execution_count": 17,
   "id": "f37f5f36-87f5-4dea-9894-5a210b4b61d5",
   "metadata": {},
   "outputs": [
    {
     "data": {
      "text/plain": [
       "['Raju', 'Rani', 'Ramesh']"
      ]
     },
     "execution_count": 17,
     "metadata": {},
     "output_type": "execute_result"
    }
   ],
   "source": [
    "students"
   ]
  },
  {
   "cell_type": "code",
   "execution_count": 18,
   "id": "06cfced3-17cb-4e23-b536-3bf46b7e2595",
   "metadata": {},
   "outputs": [
    {
     "data": {
      "text/plain": [
       "['__add__',\n",
       " '__class__',\n",
       " '__class_getitem__',\n",
       " '__contains__',\n",
       " '__delattr__',\n",
       " '__delitem__',\n",
       " '__dir__',\n",
       " '__doc__',\n",
       " '__eq__',\n",
       " '__format__',\n",
       " '__ge__',\n",
       " '__getattribute__',\n",
       " '__getitem__',\n",
       " '__getstate__',\n",
       " '__gt__',\n",
       " '__hash__',\n",
       " '__iadd__',\n",
       " '__imul__',\n",
       " '__init__',\n",
       " '__init_subclass__',\n",
       " '__iter__',\n",
       " '__le__',\n",
       " '__len__',\n",
       " '__lt__',\n",
       " '__mul__',\n",
       " '__ne__',\n",
       " '__new__',\n",
       " '__reduce__',\n",
       " '__reduce_ex__',\n",
       " '__repr__',\n",
       " '__reversed__',\n",
       " '__rmul__',\n",
       " '__setattr__',\n",
       " '__setitem__',\n",
       " '__sizeof__',\n",
       " '__str__',\n",
       " '__subclasshook__',\n",
       " 'append',\n",
       " 'clear',\n",
       " 'copy',\n",
       " 'count',\n",
       " 'extend',\n",
       " 'index',\n",
       " 'insert',\n",
       " 'pop',\n",
       " 'remove',\n",
       " 'reverse',\n",
       " 'sort']"
      ]
     },
     "execution_count": 18,
     "metadata": {},
     "output_type": "execute_result"
    }
   ],
   "source": [
    "dir(list)"
   ]
  },
  {
   "cell_type": "code",
   "execution_count": 19,
   "id": "96835740-bdd4-4734-976f-79fcee0818bc",
   "metadata": {},
   "outputs": [
    {
     "data": {
      "text/plain": [
       "['Raju', 'Rani', 'Ramesh']"
      ]
     },
     "execution_count": 19,
     "metadata": {},
     "output_type": "execute_result"
    }
   ],
   "source": [
    "students"
   ]
  },
  {
   "cell_type": "code",
   "execution_count": 18,
   "id": "e49a0d67-2287-4e6e-9849-60d62f2e43be",
   "metadata": {},
   "outputs": [],
   "source": [
    "## If we want to add an element at the end of the list\n",
    "students.append('Rakesh')"
   ]
  },
  {
   "cell_type": "code",
   "execution_count": 19,
   "id": "d68b3ceb-7f4f-40ff-afc4-ce79fd276acd",
   "metadata": {},
   "outputs": [
    {
     "data": {
      "text/plain": [
       "['Raju', 'Rani', 'Ramesh', 'Rakesh']"
      ]
     },
     "execution_count": 19,
     "metadata": {},
     "output_type": "execute_result"
    }
   ],
   "source": [
    "students"
   ]
  },
  {
   "cell_type": "code",
   "execution_count": 20,
   "id": "9396e465-da96-4d86-a8ea-d1edfc8f2638",
   "metadata": {},
   "outputs": [],
   "source": [
    "students.append('Ramesh')"
   ]
  },
  {
   "cell_type": "code",
   "execution_count": 21,
   "id": "f5b02330-00d3-4362-95c4-e3fe59120775",
   "metadata": {},
   "outputs": [
    {
     "data": {
      "text/plain": [
       "['Raju', 'Rani', 'Ramesh', 'Rakesh', 'Ramesh']"
      ]
     },
     "execution_count": 21,
     "metadata": {},
     "output_type": "execute_result"
    }
   ],
   "source": [
    "students"
   ]
  },
  {
   "cell_type": "code",
   "execution_count": 22,
   "id": "a0bdf6e4-2efb-4f1d-a50e-ddec6aa06de1",
   "metadata": {},
   "outputs": [
    {
     "data": {
      "text/plain": [
       "2"
      ]
     },
     "execution_count": 22,
     "metadata": {},
     "output_type": "execute_result"
    }
   ],
   "source": [
    "students.count('Ramesh')"
   ]
  },
  {
   "cell_type": "code",
   "execution_count": 23,
   "id": "f8eac6f1-18d4-47ea-b44d-7363870a3ef4",
   "metadata": {},
   "outputs": [
    {
     "data": {
      "text/plain": [
       "0"
      ]
     },
     "execution_count": 23,
     "metadata": {},
     "output_type": "execute_result"
    }
   ],
   "source": [
    "students.count('raju')"
   ]
  },
  {
   "cell_type": "code",
   "execution_count": 24,
   "id": "2ba8922e-81b3-475e-837c-9b7169beb6b5",
   "metadata": {},
   "outputs": [
    {
     "data": {
      "text/plain": [
       "2"
      ]
     },
     "execution_count": 24,
     "metadata": {},
     "output_type": "execute_result"
    }
   ],
   "source": [
    "students.index('Ramesh')"
   ]
  },
  {
   "cell_type": "code",
   "execution_count": 25,
   "id": "eb82fa54-1f55-46b3-a1f1-2922f044e19c",
   "metadata": {},
   "outputs": [],
   "source": [
    "students.insert(2,'Rajesh')"
   ]
  },
  {
   "cell_type": "code",
   "execution_count": 26,
   "id": "33024678-163b-4f4e-a5d5-c06b426cf7fb",
   "metadata": {},
   "outputs": [
    {
     "data": {
      "text/plain": [
       "['Raju', 'Rani', 'Rajesh', 'Ramesh', 'Rakesh', 'Ramesh']"
      ]
     },
     "execution_count": 26,
     "metadata": {},
     "output_type": "execute_result"
    }
   ],
   "source": [
    "students"
   ]
  },
  {
   "cell_type": "code",
   "execution_count": 27,
   "id": "0d58e10f-2059-4680-be6c-6966c51209d5",
   "metadata": {},
   "outputs": [],
   "source": [
    "students.remove(\"Rakesh\")"
   ]
  },
  {
   "cell_type": "code",
   "execution_count": 28,
   "id": "7f6f0d88-ce27-49d6-bf1b-ba4adccb42b6",
   "metadata": {},
   "outputs": [
    {
     "data": {
      "text/plain": [
       "['Raju', 'Rani', 'Rajesh', 'Ramesh', 'Ramesh']"
      ]
     },
     "execution_count": 28,
     "metadata": {},
     "output_type": "execute_result"
    }
   ],
   "source": [
    "students"
   ]
  },
  {
   "cell_type": "code",
   "execution_count": 29,
   "id": "0032f496-cea0-4290-81fd-4748ab0e108c",
   "metadata": {},
   "outputs": [
    {
     "ename": "ValueError",
     "evalue": "list.remove(x): x not in list",
     "output_type": "error",
     "traceback": [
      "\u001b[0;31m---------------------------------------------------------------------------\u001b[0m",
      "\u001b[0;31mValueError\u001b[0m                                Traceback (most recent call last)",
      "Cell \u001b[0;32mIn[29], line 1\u001b[0m\n\u001b[0;32m----> 1\u001b[0m \u001b[43mstudents\u001b[49m\u001b[38;5;241;43m.\u001b[39;49m\u001b[43mremove\u001b[49m\u001b[43m(\u001b[49m\u001b[38;5;124;43m'\u001b[39;49m\u001b[38;5;124;43mraju\u001b[39;49m\u001b[38;5;124;43m'\u001b[39;49m\u001b[43m)\u001b[49m\n",
      "\u001b[0;31mValueError\u001b[0m: list.remove(x): x not in list"
     ]
    }
   ],
   "source": [
    "students.remove('raju')"
   ]
  },
  {
   "cell_type": "code",
   "execution_count": 30,
   "id": "80acd584-eaa3-4898-a3dc-3980d91c74f5",
   "metadata": {},
   "outputs": [
    {
     "data": {
      "text/plain": [
       "['Raju', 'Rani', 'Rajesh', 'Ramesh', 'Ramesh']"
      ]
     },
     "execution_count": 30,
     "metadata": {},
     "output_type": "execute_result"
    }
   ],
   "source": [
    "students"
   ]
  },
  {
   "cell_type": "code",
   "execution_count": 31,
   "id": "4c038e95-3281-4b97-8926-9aba87fe67da",
   "metadata": {},
   "outputs": [],
   "source": [
    "students.clear()"
   ]
  },
  {
   "cell_type": "code",
   "execution_count": 32,
   "id": "e52cc845-253b-431d-ae41-cd934a471cd1",
   "metadata": {},
   "outputs": [
    {
     "data": {
      "text/plain": [
       "[]"
      ]
     },
     "execution_count": 32,
     "metadata": {},
     "output_type": "execute_result"
    }
   ],
   "source": [
    "students"
   ]
  },
  {
   "cell_type": "code",
   "execution_count": 35,
   "id": "b1fca0fe-5081-4b5e-ad28-1d5ff183fc95",
   "metadata": {},
   "outputs": [],
   "source": [
    "a = [5,1,2,4,0,3,6]"
   ]
  },
  {
   "cell_type": "code",
   "execution_count": 36,
   "id": "06c44c3d-4eae-4f70-83be-2b8e224c1b83",
   "metadata": {},
   "outputs": [
    {
     "data": {
      "text/plain": [
       "[5, 1, 2, 4, 0, 3, 6]"
      ]
     },
     "execution_count": 36,
     "metadata": {},
     "output_type": "execute_result"
    }
   ],
   "source": [
    "a"
   ]
  },
  {
   "cell_type": "code",
   "execution_count": 37,
   "id": "208176d3-244e-46f9-b5df-13d70bf642ce",
   "metadata": {},
   "outputs": [],
   "source": [
    "a.sort()"
   ]
  },
  {
   "cell_type": "code",
   "execution_count": 38,
   "id": "d4a1cafa-e685-4697-bfe1-942f92ed6190",
   "metadata": {},
   "outputs": [
    {
     "data": {
      "text/plain": [
       "[0, 1, 2, 3, 4, 5, 6]"
      ]
     },
     "execution_count": 38,
     "metadata": {},
     "output_type": "execute_result"
    }
   ],
   "source": [
    "a"
   ]
  },
  {
   "cell_type": "code",
   "execution_count": 39,
   "id": "3bb47fe8-8f13-4ead-906c-a2ce15f0f8a7",
   "metadata": {},
   "outputs": [],
   "source": [
    "a.reverse()"
   ]
  },
  {
   "cell_type": "code",
   "execution_count": 40,
   "id": "a3285eab-5fd8-4871-8cbc-0225897bc692",
   "metadata": {},
   "outputs": [
    {
     "data": {
      "text/plain": [
       "[6, 5, 4, 3, 2, 1, 0]"
      ]
     },
     "execution_count": 40,
     "metadata": {},
     "output_type": "execute_result"
    }
   ],
   "source": [
    "a"
   ]
  },
  {
   "cell_type": "code",
   "execution_count": 41,
   "id": "5da6b92c-a3f4-4b86-be5e-30a198a903cf",
   "metadata": {},
   "outputs": [
    {
     "data": {
      "text/plain": [
       "[6, 5, 4, 3, 2, 1, 0]"
      ]
     },
     "execution_count": 41,
     "metadata": {},
     "output_type": "execute_result"
    }
   ],
   "source": [
    "a"
   ]
  },
  {
   "cell_type": "code",
   "execution_count": 42,
   "id": "8aa7218b-3169-4d4d-b2b1-bc0d1ff9814e",
   "metadata": {},
   "outputs": [
    {
     "data": {
      "text/plain": [
       "0"
      ]
     },
     "execution_count": 42,
     "metadata": {},
     "output_type": "execute_result"
    }
   ],
   "source": [
    "a.pop()"
   ]
  },
  {
   "cell_type": "code",
   "execution_count": 43,
   "id": "9dddf808-7771-46e7-8125-d8437a83a8be",
   "metadata": {},
   "outputs": [
    {
     "data": {
      "text/plain": [
       "[6, 5, 4, 3, 2, 1]"
      ]
     },
     "execution_count": 43,
     "metadata": {},
     "output_type": "execute_result"
    }
   ],
   "source": [
    "a"
   ]
  },
  {
   "cell_type": "code",
   "execution_count": 44,
   "id": "f2252a0c-dd0c-4566-91f0-c96fce1d77a4",
   "metadata": {},
   "outputs": [],
   "source": [
    "a = [1,2,3]"
   ]
  },
  {
   "cell_type": "code",
   "execution_count": 45,
   "id": "34e5d79b-7b54-43c3-b7f5-0320bbc8dd6b",
   "metadata": {},
   "outputs": [],
   "source": [
    "b = [3,4,5]"
   ]
  },
  {
   "cell_type": "code",
   "execution_count": 46,
   "id": "bda12fff-2d34-4bd4-9d9d-a029252be151",
   "metadata": {},
   "outputs": [],
   "source": [
    "a.extend(b)"
   ]
  },
  {
   "cell_type": "code",
   "execution_count": 47,
   "id": "d27f1e86-394f-455c-8a86-8b765946d1e4",
   "metadata": {},
   "outputs": [
    {
     "data": {
      "text/plain": [
       "[1, 2, 3, 3, 4, 5]"
      ]
     },
     "execution_count": 47,
     "metadata": {},
     "output_type": "execute_result"
    }
   ],
   "source": [
    "a"
   ]
  },
  {
   "cell_type": "code",
   "execution_count": 48,
   "id": "2f063eca-f689-4cfa-8450-a04e6ebe3e87",
   "metadata": {},
   "outputs": [],
   "source": [
    "c = [1,'tharun',5.7,True]"
   ]
  },
  {
   "cell_type": "code",
   "execution_count": 49,
   "id": "33275289-073b-42ae-8cca-342727c8ca43",
   "metadata": {},
   "outputs": [],
   "source": [
    "from array import array"
   ]
  },
  {
   "cell_type": "code",
   "execution_count": 51,
   "id": "5e38f31a-e28e-4572-9934-e0f179ce04be",
   "metadata": {},
   "outputs": [],
   "source": [
    "a = array('i',[1,2,3,4])"
   ]
  },
  {
   "cell_type": "code",
   "execution_count": 52,
   "id": "caa3b6e4-0089-4c30-adbe-ca37ab480b01",
   "metadata": {},
   "outputs": [
    {
     "data": {
      "text/plain": [
       "array('i', [1, 2, 3, 4])"
      ]
     },
     "execution_count": 52,
     "metadata": {},
     "output_type": "execute_result"
    }
   ],
   "source": [
    "a"
   ]
  },
  {
   "cell_type": "code",
   "execution_count": 56,
   "id": "48e0e66f-a462-4e53-bf8c-e6e04df8dd26",
   "metadata": {},
   "outputs": [
    {
     "data": {
      "text/plain": [
       "4"
      ]
     },
     "execution_count": 56,
     "metadata": {},
     "output_type": "execute_result"
    }
   ],
   "source": [
    "a[3]"
   ]
  },
  {
   "cell_type": "code",
   "execution_count": 57,
   "id": "ae63f9c9-8180-4587-860c-8ef3b789e1af",
   "metadata": {},
   "outputs": [],
   "source": [
    "b = [1,2,3,4]"
   ]
  },
  {
   "cell_type": "code",
   "execution_count": 58,
   "id": "753ccd92-11d8-4a2c-81ae-15c10275adcb",
   "metadata": {},
   "outputs": [
    {
     "data": {
      "text/plain": [
       "4"
      ]
     },
     "execution_count": 58,
     "metadata": {},
     "output_type": "execute_result"
    }
   ],
   "source": [
    "b[3]"
   ]
  },
  {
   "cell_type": "code",
   "execution_count": 61,
   "id": "8f48d7ce-e259-447a-8d72-408f7b03f868",
   "metadata": {},
   "outputs": [],
   "source": [
    "a.remove(2)"
   ]
  },
  {
   "cell_type": "code",
   "execution_count": 62,
   "id": "3d15f5cc-3ea8-423b-8f1f-4255614b9321",
   "metadata": {},
   "outputs": [
    {
     "data": {
      "text/plain": [
       "array('i', [1, 3, 4])"
      ]
     },
     "execution_count": 62,
     "metadata": {},
     "output_type": "execute_result"
    }
   ],
   "source": [
    "a"
   ]
  },
  {
   "cell_type": "code",
   "execution_count": 63,
   "id": "464362e0-2182-4e12-acb1-502d7cc1326d",
   "metadata": {},
   "outputs": [],
   "source": [
    "x = [1,2.2,'string',True,[1,2]]"
   ]
  },
  {
   "cell_type": "code",
   "execution_count": 64,
   "id": "0e784a86-5844-478b-a3e5-a5334404ef16",
   "metadata": {},
   "outputs": [
    {
     "data": {
      "text/plain": [
       "[1, 2.2, 'string', True, [1, 2]]"
      ]
     },
     "execution_count": 64,
     "metadata": {},
     "output_type": "execute_result"
    }
   ],
   "source": [
    "x"
   ]
  },
  {
   "cell_type": "code",
   "execution_count": 65,
   "id": "d78fa43c-7c86-4eff-ac2f-aa8db1b72c23",
   "metadata": {},
   "outputs": [],
   "source": [
    "#nested list"
   ]
  },
  {
   "cell_type": "code",
   "execution_count": 66,
   "id": "4952df47-a2c4-42f0-890c-5b9809be9aad",
   "metadata": {},
   "outputs": [],
   "source": [
    "x = [[1,2],[2,3]]"
   ]
  },
  {
   "cell_type": "code",
   "execution_count": 67,
   "id": "5e5d60ba-5ba7-4d52-8156-13a9c1d81d08",
   "metadata": {},
   "outputs": [
    {
     "data": {
      "text/plain": [
       "[[1, 2], [2, 3]]"
      ]
     },
     "execution_count": 67,
     "metadata": {},
     "output_type": "execute_result"
    }
   ],
   "source": [
    "x"
   ]
  },
  {
   "cell_type": "code",
   "execution_count": 71,
   "id": "f0fa7caa-2c9c-4cd7-adfa-9ffcf990d7cd",
   "metadata": {},
   "outputs": [
    {
     "data": {
      "text/plain": [
       "list"
      ]
     },
     "execution_count": 71,
     "metadata": {},
     "output_type": "execute_result"
    }
   ],
   "source": [
    "type(x)"
   ]
  },
  {
   "cell_type": "code",
   "execution_count": 68,
   "id": "605d55dd-32e2-4955-a1bc-a0d5b37fcf9b",
   "metadata": {},
   "outputs": [],
   "source": [
    "##Indexing of nested list"
   ]
  },
  {
   "cell_type": "code",
   "execution_count": 75,
   "id": "e8e849ca-d497-4b1e-8c23-ba95527016f8",
   "metadata": {},
   "outputs": [
    {
     "data": {
      "text/plain": [
       "2"
      ]
     },
     "execution_count": 75,
     "metadata": {},
     "output_type": "execute_result"
    }
   ],
   "source": [
    "x[0][1]"
   ]
  },
  {
   "cell_type": "code",
   "execution_count": 76,
   "id": "e9e858d4-719b-403b-9511-e03796f5d634",
   "metadata": {},
   "outputs": [],
   "source": [
    "ll = ['tharun','rajesh',[2,3,4],[4,5,[5,6,[7,8,9]]]]"
   ]
  },
  {
   "cell_type": "code",
   "execution_count": 78,
   "id": "bfc6a088-3fc5-49c9-9f3c-c05453225f92",
   "metadata": {},
   "outputs": [
    {
     "data": {
      "text/plain": [
       "'a'"
      ]
     },
     "execution_count": 78,
     "metadata": {},
     "output_type": "execute_result"
    }
   ],
   "source": [
    "ll[1][1]"
   ]
  },
  {
   "cell_type": "code",
   "execution_count": 79,
   "id": "0c0f5d86-03cf-420a-9cf6-1992b77750f4",
   "metadata": {},
   "outputs": [
    {
     "data": {
      "text/plain": [
       "3"
      ]
     },
     "execution_count": 79,
     "metadata": {},
     "output_type": "execute_result"
    }
   ],
   "source": [
    "ll[2][1]"
   ]
  },
  {
   "cell_type": "code",
   "execution_count": 80,
   "id": "114e2a52-995a-4cd5-ba88-f5babcc4206e",
   "metadata": {},
   "outputs": [
    {
     "data": {
      "text/plain": [
       "5"
      ]
     },
     "execution_count": 80,
     "metadata": {},
     "output_type": "execute_result"
    }
   ],
   "source": [
    "ll[3][1]"
   ]
  },
  {
   "cell_type": "code",
   "execution_count": 81,
   "id": "014630eb-bd6f-464d-97b8-e48adff2a67b",
   "metadata": {},
   "outputs": [
    {
     "data": {
      "text/plain": [
       "[5, 6, [7, 8, 9]]"
      ]
     },
     "execution_count": 81,
     "metadata": {},
     "output_type": "execute_result"
    }
   ],
   "source": [
    "ll[3][2]"
   ]
  },
  {
   "cell_type": "code",
   "execution_count": 82,
   "id": "06e98baf-88f7-4e40-8fa9-fc54fc3d564e",
   "metadata": {},
   "outputs": [
    {
     "data": {
      "text/plain": [
       "[7, 8, 9]"
      ]
     },
     "execution_count": 82,
     "metadata": {},
     "output_type": "execute_result"
    }
   ],
   "source": [
    "ll[3][2][2]"
   ]
  },
  {
   "cell_type": "code",
   "execution_count": 83,
   "id": "8d02ceec-fbcb-4293-a136-658f924b65d6",
   "metadata": {},
   "outputs": [
    {
     "data": {
      "text/plain": [
       "9"
      ]
     },
     "execution_count": 83,
     "metadata": {},
     "output_type": "execute_result"
    }
   ],
   "source": [
    "ll[3][2][2][2]"
   ]
  },
  {
   "cell_type": "code",
   "execution_count": 84,
   "id": "fb0c3407-33e6-4f67-a57a-a8defc64139d",
   "metadata": {},
   "outputs": [],
   "source": [
    "## Digression of equality\n",
    "## copy function"
   ]
  },
  {
   "cell_type": "code",
   "execution_count": 85,
   "id": "ccec9cc5-3609-4970-8486-8fec22ceeb5f",
   "metadata": {},
   "outputs": [],
   "source": [
    "a = [1,2,3]"
   ]
  },
  {
   "cell_type": "code",
   "execution_count": 86,
   "id": "2d1b0e38-ec31-4f04-8cb1-93f321256875",
   "metadata": {},
   "outputs": [],
   "source": [
    "b = [2,3,4]"
   ]
  },
  {
   "cell_type": "code",
   "execution_count": 87,
   "id": "6d2999aa-997b-4583-ba98-7b32273e50e4",
   "metadata": {},
   "outputs": [
    {
     "data": {
      "text/plain": [
       "[1, 2, 3, 2, 3, 4]"
      ]
     },
     "execution_count": 87,
     "metadata": {},
     "output_type": "execute_result"
    }
   ],
   "source": [
    "a+b"
   ]
  },
  {
   "cell_type": "code",
   "execution_count": null,
   "id": "79b23139-5217-4936-bbab-2694955e176c",
   "metadata": {},
   "outputs": [],
   "source": []
  }
 ],
 "metadata": {
  "kernelspec": {
   "display_name": "Python 3 (ipykernel)",
   "language": "python",
   "name": "python3"
  },
  "language_info": {
   "codemirror_mode": {
    "name": "ipython",
    "version": 3
   },
   "file_extension": ".py",
   "mimetype": "text/x-python",
   "name": "python",
   "nbconvert_exporter": "python",
   "pygments_lexer": "ipython3",
   "version": "3.11.3"
  }
 },
 "nbformat": 4,
 "nbformat_minor": 5
}
