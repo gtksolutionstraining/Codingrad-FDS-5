{
 "cells": [
  {
   "cell_type": "markdown",
   "id": "c7ee266d-d7b1-417a-84e2-bf126b1f4cd8",
   "metadata": {},
   "source": [
    "# Matrix Multiplication\n",
    "- matrix A of size (3,3) = (m,n)\n",
    "- matrix B of size (3,3) = (p,q)\n",
    "- matrix multipliation rules. n=p and the output matrix shape will (m,q)"
   ]
  },
  {
   "cell_type": "code",
   "execution_count": 2,
   "id": "f3a8ed31-b5e4-4967-8f00-21f6ca1e3f7f",
   "metadata": {},
   "outputs": [],
   "source": [
    "A = [[1,2],[2,3]]"
   ]
  },
  {
   "cell_type": "code",
   "execution_count": 2,
   "id": "d2d8db1a-bdd3-467b-a001-208fdaa4a1b9",
   "metadata": {},
   "outputs": [],
   "source": [
    "import numpy as np"
   ]
  },
  {
   "cell_type": "code",
   "execution_count": 7,
   "id": "fe5cebed-2ddb-428c-8be1-49efee3f744f",
   "metadata": {},
   "outputs": [],
   "source": [
    "A = np.array(A)"
   ]
  },
  {
   "cell_type": "code",
   "execution_count": 14,
   "id": "64ebc4fc-0fc0-44eb-89ce-7529b8f4d587",
   "metadata": {},
   "outputs": [
    {
     "data": {
      "text/plain": [
       "array([[1, 2],\n",
       "       [2, 3]])"
      ]
     },
     "execution_count": 14,
     "metadata": {},
     "output_type": "execute_result"
    }
   ],
   "source": [
    "A"
   ]
  },
  {
   "cell_type": "code",
   "execution_count": 18,
   "id": "ebbd5854-094d-41d1-a0ff-96eb20452459",
   "metadata": {},
   "outputs": [],
   "source": [
    "m,n = A.shape"
   ]
  },
  {
   "cell_type": "code",
   "execution_count": 15,
   "id": "b4b7eef8-2efc-4d51-84ff-f6ca904c29e5",
   "metadata": {},
   "outputs": [],
   "source": [
    "B = np.array([[2,3],[1,2]])"
   ]
  },
  {
   "cell_type": "code",
   "execution_count": 21,
   "id": "6d1c92c7-d3ae-46a1-a935-38979955cca4",
   "metadata": {},
   "outputs": [
    {
     "data": {
      "text/plain": [
       "array([[2, 3],\n",
       "       [1, 2]])"
      ]
     },
     "execution_count": 21,
     "metadata": {},
     "output_type": "execute_result"
    }
   ],
   "source": [
    "B"
   ]
  },
  {
   "cell_type": "code",
   "execution_count": 17,
   "id": "f82b9674-adaf-4907-a9c7-ee7dd28f0ea4",
   "metadata": {},
   "outputs": [
    {
     "data": {
      "text/plain": [
       "numpy.ndarray"
      ]
     },
     "execution_count": 17,
     "metadata": {},
     "output_type": "execute_result"
    }
   ],
   "source": [
    "type(B)"
   ]
  },
  {
   "cell_type": "code",
   "execution_count": 19,
   "id": "8cfa7aa2-2316-4272-81aa-dbe2b16f6496",
   "metadata": {},
   "outputs": [],
   "source": [
    "p,q = B.shape"
   ]
  },
  {
   "cell_type": "code",
   "execution_count": 20,
   "id": "980cfa1e-7d25-44fd-91d2-a6dca065af5b",
   "metadata": {},
   "outputs": [
    {
     "name": "stdout",
     "output_type": "stream",
     "text": [
      "Matrix Multiplication is possible\n"
     ]
    }
   ],
   "source": [
    "if n==p:\n",
    "    print(\"Matrix Multiplication is possible\")\n",
    "else:\n",
    "    print(\"Matrix Multiplication is not possible\")"
   ]
  },
  {
   "cell_type": "code",
   "execution_count": 24,
   "id": "db7b690e-b589-4003-b087-97e6993201f7",
   "metadata": {},
   "outputs": [
    {
     "data": {
      "text/plain": [
       "4"
      ]
     },
     "execution_count": 24,
     "metadata": {},
     "output_type": "execute_result"
    }
   ],
   "source": [
    "A[0,0]*B[0,0] + A[0,1]*B[1,0]"
   ]
  },
  {
   "cell_type": "code",
   "execution_count": 25,
   "id": "fadd6ca6-4469-46dd-8b3b-2276182851e4",
   "metadata": {},
   "outputs": [
    {
     "data": {
      "text/plain": [
       "7"
      ]
     },
     "execution_count": 25,
     "metadata": {},
     "output_type": "execute_result"
    }
   ],
   "source": [
    "A[0,0]*B[0,1] + A[0,1]+B[1,1]"
   ]
  },
  {
   "cell_type": "code",
   "execution_count": 26,
   "id": "63111565-0f15-4953-9e1e-25052738235f",
   "metadata": {},
   "outputs": [
    {
     "data": {
      "text/plain": [
       "7"
      ]
     },
     "execution_count": 26,
     "metadata": {},
     "output_type": "execute_result"
    }
   ],
   "source": [
    "A[1,0]*B[0,0] + A[1,1]*B[1,0]"
   ]
  },
  {
   "cell_type": "code",
   "execution_count": 27,
   "id": "58fe5b21-514a-42c2-ad63-ea943e06277c",
   "metadata": {},
   "outputs": [
    {
     "data": {
      "text/plain": [
       "12"
      ]
     },
     "execution_count": 27,
     "metadata": {},
     "output_type": "execute_result"
    }
   ],
   "source": [
    "A[1,0]*B[0,1] + A[1,1]*B[1,1]"
   ]
  },
  {
   "cell_type": "code",
   "execution_count": null,
   "id": "f9030349-3173-4423-9918-970636fe0f8c",
   "metadata": {},
   "outputs": [],
   "source": [
    "# What is the no of multiplications required for matrix multiplication of Matrix A\n",
    "#with size m,n and Matrix B with size p,q\n",
    "# No of steps = m*q\n",
    "# no of multipliations in Each step n/p Since n==p\n",
    "# Total no of multiplications =  m*q*n\n",
    "# Total no of Additions = m*q*(n-1)\n",
    "# Total no of Instructions for matric multiplication  = m*q*n + (m*q*(n-1))\n",
    "# One Addition instruction will take one clock signal => 1second\n",
    "# One mutliplication instrucion will take 5 cpu clocks ==> 5seconds\n",
    "# Time taken by matrix multipliocation = (m*q*n)*5 Seconds + ((m*q*(n-1))*1Second)"
   ]
  },
  {
   "cell_type": "code",
   "execution_count": null,
   "id": "4ce98b05-71b0-4ec2-a1e9-438fe4cfa057",
   "metadata": {},
   "outputs": [],
   "source": [
    "## Irrespective of the size of the matrix numpy matrix multiplocation which will take 2 CPU Clocks (1, multiplication and 1additions)"
   ]
  },
  {
   "cell_type": "code",
   "execution_count": 37,
   "id": "c3a165ee-01e8-446e-b1cf-a20581d8400f",
   "metadata": {},
   "outputs": [
    {
     "data": {
      "text/plain": [
       "array([[ 4,  7],\n",
       "       [ 7, 12]])"
      ]
     },
     "execution_count": 37,
     "metadata": {},
     "output_type": "execute_result"
    }
   ],
   "source": [
    "np.dot(A,B)"
   ]
  },
  {
   "cell_type": "code",
   "execution_count": 28,
   "id": "b89bdf20-8f1d-4791-ade5-d3f22b73deb0",
   "metadata": {},
   "outputs": [
    {
     "data": {
      "text/plain": [
       "((0, 0), (0, 1), (1, 0), (1, 1))"
      ]
     },
     "execution_count": 28,
     "metadata": {},
     "output_type": "execute_result"
    }
   ],
   "source": [
    "(0,0), (0,1), (1,0), (1,1)"
   ]
  },
  {
   "cell_type": "code",
   "execution_count": 49,
   "id": "84650dda-7edb-4df7-acd1-db034a9826ec",
   "metadata": {},
   "outputs": [],
   "source": [
    "C = np.zeros((m,q))"
   ]
  },
  {
   "cell_type": "code",
   "execution_count": 50,
   "id": "65259c25-bbd6-475d-973e-fbb3b262e894",
   "metadata": {},
   "outputs": [
    {
     "data": {
      "text/plain": [
       "array([[0., 0.],\n",
       "       [0., 0.]])"
      ]
     },
     "execution_count": 50,
     "metadata": {},
     "output_type": "execute_result"
    }
   ],
   "source": [
    "C"
   ]
  },
  {
   "cell_type": "code",
   "execution_count": 52,
   "id": "ddcadafe-0c9f-44ea-a5cf-14524db1d7c2",
   "metadata": {},
   "outputs": [
    {
     "data": {
      "text/plain": [
       "(5, 2)"
      ]
     },
     "execution_count": 52,
     "metadata": {},
     "output_type": "execute_result"
    }
   ],
   "source": [
    "A.shape"
   ]
  },
  {
   "cell_type": "code",
   "execution_count": 53,
   "id": "55e98bd7-a762-43d2-b073-ae20d4785fa8",
   "metadata": {},
   "outputs": [
    {
     "data": {
      "text/plain": [
       "5"
      ]
     },
     "execution_count": 53,
     "metadata": {},
     "output_type": "execute_result"
    }
   ],
   "source": [
    "A.shape[0]"
   ]
  },
  {
   "cell_type": "code",
   "execution_count": 55,
   "id": "32df75b4-7084-4d74-9c54-32a7e834760c",
   "metadata": {},
   "outputs": [
    {
     "ename": "IndexError",
     "evalue": "index 2 is out of bounds for axis 0 with size 2",
     "output_type": "error",
     "traceback": [
      "\u001b[0;31m---------------------------------------------------------------------------\u001b[0m",
      "\u001b[0;31mIndexError\u001b[0m                                Traceback (most recent call last)",
      "Cell \u001b[0;32mIn[55], line 4\u001b[0m\n\u001b[1;32m      2\u001b[0m     \u001b[38;5;28;01mfor\u001b[39;00m column \u001b[38;5;129;01min\u001b[39;00m \u001b[38;5;28mrange\u001b[39m(B\u001b[38;5;241m.\u001b[39mshape[\u001b[38;5;241m1\u001b[39m]):\n\u001b[1;32m      3\u001b[0m         \u001b[38;5;28;01mfor\u001b[39;00m k \u001b[38;5;129;01min\u001b[39;00m \u001b[38;5;28mrange\u001b[39m(A\u001b[38;5;241m.\u001b[39mshape[\u001b[38;5;241m1\u001b[39m]):\n\u001b[0;32m----> 4\u001b[0m             \u001b[43mC\u001b[49m\u001b[43m[\u001b[49m\u001b[43mrow\u001b[49m\u001b[43m,\u001b[49m\u001b[43mcolumn\u001b[49m\u001b[43m]\u001b[49m \u001b[38;5;241m+\u001b[39m\u001b[38;5;241m=\u001b[39m A[row,k]\u001b[38;5;241m*\u001b[39mB[k,column]\n\u001b[1;32m      5\u001b[0m C\n",
      "\u001b[0;31mIndexError\u001b[0m: index 2 is out of bounds for axis 0 with size 2"
     ]
    }
   ],
   "source": [
    "for row in range(A.shape[0]):\n",
    "    for column in range(B.shape[1]):\n",
    "        for k in range(A.shape[1]):\n",
    "            C[row,column] += A[row,k]*B[k,column]\n",
    "C"
   ]
  },
  {
   "cell_type": "code",
   "execution_count": 35,
   "id": "99d1e8bc-6e78-49d2-9d89-1e27f16b2c01",
   "metadata": {},
   "outputs": [
    {
     "data": {
      "text/plain": [
       "array([[ 4.,  7.],\n",
       "       [ 7., 12.]])"
      ]
     },
     "execution_count": 35,
     "metadata": {},
     "output_type": "execute_result"
    }
   ],
   "source": [
    "C"
   ]
  },
  {
   "cell_type": "code",
   "execution_count": 44,
   "id": "abeec4eb-b878-430c-ad30-812b27ac90d1",
   "metadata": {},
   "outputs": [],
   "source": [
    "A = np.random.rand(5,2)"
   ]
  },
  {
   "cell_type": "code",
   "execution_count": 45,
   "id": "b62c98e3-ff80-447a-8d23-7b8474417c69",
   "metadata": {},
   "outputs": [
    {
     "data": {
      "text/plain": [
       "(5, 2)"
      ]
     },
     "execution_count": 45,
     "metadata": {},
     "output_type": "execute_result"
    }
   ],
   "source": [
    "A.shape"
   ]
  },
  {
   "cell_type": "code",
   "execution_count": 2,
   "id": "dc643299-3954-45f0-821c-3519f4c920de",
   "metadata": {},
   "outputs": [],
   "source": [
    "A = np.array([1,2,3])"
   ]
  },
  {
   "cell_type": "code",
   "execution_count": 3,
   "id": "4ef42373-576a-436e-80da-faaa48b1fd88",
   "metadata": {},
   "outputs": [
    {
     "data": {
      "text/plain": [
       "array([1, 2, 3])"
      ]
     },
     "execution_count": 3,
     "metadata": {},
     "output_type": "execute_result"
    }
   ],
   "source": [
    "A"
   ]
  },
  {
   "cell_type": "code",
   "execution_count": 7,
   "id": "f5c5e8d5-461a-4d1d-8ee9-0bd171d8855c",
   "metadata": {},
   "outputs": [],
   "source": [
    "B = [1,2,3]"
   ]
  },
  {
   "cell_type": "code",
   "execution_count": 8,
   "id": "8571fae2-1a30-4ba6-9404-42348c5a0177",
   "metadata": {},
   "outputs": [],
   "source": [
    "for i in range(len(B)):\n",
    "    B[i] += 1"
   ]
  },
  {
   "cell_type": "code",
   "execution_count": 9,
   "id": "dad3b517-61b4-4897-bb51-f99aafad3a03",
   "metadata": {},
   "outputs": [
    {
     "data": {
      "text/plain": [
       "[2, 3, 4]"
      ]
     },
     "execution_count": 9,
     "metadata": {},
     "output_type": "execute_result"
    }
   ],
   "source": [
    "B"
   ]
  },
  {
   "cell_type": "code",
   "execution_count": 10,
   "id": "ab50de3c-41e2-48c4-b3fc-1965a3fef954",
   "metadata": {},
   "outputs": [
    {
     "ename": "TypeError",
     "evalue": "can only concatenate list (not \"int\") to list",
     "output_type": "error",
     "traceback": [
      "\u001b[0;31m---------------------------------------------------------------------------\u001b[0m",
      "\u001b[0;31mTypeError\u001b[0m                                 Traceback (most recent call last)",
      "Cell \u001b[0;32mIn[10], line 1\u001b[0m\n\u001b[0;32m----> 1\u001b[0m \u001b[43mB\u001b[49m\u001b[38;5;241;43m+\u001b[39;49m\u001b[38;5;241;43m1\u001b[39;49m\n",
      "\u001b[0;31mTypeError\u001b[0m: can only concatenate list (not \"int\") to list"
     ]
    }
   ],
   "source": [
    "B+1"
   ]
  },
  {
   "cell_type": "code",
   "execution_count": 11,
   "id": "7cdf4396-bf6b-4ed8-8099-bc2075756c00",
   "metadata": {},
   "outputs": [
    {
     "data": {
      "text/plain": [
       "array([1, 2, 3])"
      ]
     },
     "execution_count": 11,
     "metadata": {},
     "output_type": "execute_result"
    }
   ],
   "source": [
    "A"
   ]
  },
  {
   "cell_type": "code",
   "execution_count": 12,
   "id": "ff6c66ca-a93d-423b-aa25-f8a8c2038ff4",
   "metadata": {},
   "outputs": [
    {
     "data": {
      "text/plain": [
       "array([2, 3, 4])"
      ]
     },
     "execution_count": 12,
     "metadata": {},
     "output_type": "execute_result"
    }
   ],
   "source": [
    "A+1"
   ]
  },
  {
   "cell_type": "code",
   "execution_count": 13,
   "id": "7639e3ae-fd5a-445b-ab88-ef9bd0d19ef6",
   "metadata": {},
   "outputs": [
    {
     "data": {
      "text/plain": [
       "array([2, 3, 4])"
      ]
     },
     "execution_count": 13,
     "metadata": {},
     "output_type": "execute_result"
    }
   ],
   "source": [
    "A + [1,1,1]"
   ]
  },
  {
   "cell_type": "code",
   "execution_count": 14,
   "id": "88fef7d1-30ae-4e63-a10f-24d721836693",
   "metadata": {},
   "outputs": [
    {
     "data": {
      "text/plain": [
       "array([1, 2, 3])"
      ]
     },
     "execution_count": 14,
     "metadata": {},
     "output_type": "execute_result"
    }
   ],
   "source": [
    "A"
   ]
  },
  {
   "cell_type": "code",
   "execution_count": 15,
   "id": "36a77f30-1c66-493b-9e8b-ca3e3c2c0046",
   "metadata": {},
   "outputs": [
    {
     "data": {
      "text/plain": [
       "1"
      ]
     },
     "execution_count": 15,
     "metadata": {},
     "output_type": "execute_result"
    }
   ],
   "source": [
    "1"
   ]
  },
  {
   "cell_type": "code",
   "execution_count": 16,
   "id": "4b2774e1-e947-4d56-b825-282ea384f143",
   "metadata": {},
   "outputs": [
    {
     "data": {
      "text/plain": [
       "array([1, 2, 3])"
      ]
     },
     "execution_count": 16,
     "metadata": {},
     "output_type": "execute_result"
    }
   ],
   "source": [
    "A"
   ]
  },
  {
   "cell_type": "code",
   "execution_count": 22,
   "id": "7ed98619-6385-4fca-a18f-0278ca403c1f",
   "metadata": {},
   "outputs": [],
   "source": [
    "B = np.array([2,3,4])"
   ]
  },
  {
   "cell_type": "code",
   "execution_count": 18,
   "id": "104b9eba-a152-454f-a060-fec4afb0e535",
   "metadata": {},
   "outputs": [
    {
     "data": {
      "text/plain": [
       "(array([1, 2, 3]), array([2, 3, 4]))"
      ]
     },
     "execution_count": 18,
     "metadata": {},
     "output_type": "execute_result"
    }
   ],
   "source": [
    "A,B"
   ]
  },
  {
   "cell_type": "code",
   "execution_count": 19,
   "id": "bed3a637-bef2-4e3c-9de9-1f34a946aa34",
   "metadata": {},
   "outputs": [
    {
     "data": {
      "text/plain": [
       "array([3, 5, 7])"
      ]
     },
     "execution_count": 19,
     "metadata": {},
     "output_type": "execute_result"
    }
   ],
   "source": [
    "A+B"
   ]
  },
  {
   "cell_type": "code",
   "execution_count": 20,
   "id": "d9fd08c4-d79c-4bad-bdc7-14e5d1985284",
   "metadata": {},
   "outputs": [
    {
     "data": {
      "text/plain": [
       "array([1, 2, 3])"
      ]
     },
     "execution_count": 20,
     "metadata": {},
     "output_type": "execute_result"
    }
   ],
   "source": [
    "A"
   ]
  },
  {
   "cell_type": "code",
   "execution_count": 23,
   "id": "6fd4f9f5-039d-40a5-b908-79eee1a68975",
   "metadata": {},
   "outputs": [],
   "source": [
    "C = np.array([1])"
   ]
  },
  {
   "cell_type": "code",
   "execution_count": 24,
   "id": "eb559f32-295d-46c8-b853-4781e09947c6",
   "metadata": {},
   "outputs": [
    {
     "data": {
      "text/plain": [
       "array([2, 3, 4])"
      ]
     },
     "execution_count": 24,
     "metadata": {},
     "output_type": "execute_result"
    }
   ],
   "source": [
    "A+C"
   ]
  },
  {
   "cell_type": "code",
   "execution_count": 25,
   "id": "8c946b4e-3779-4b7c-b880-1b357d8c94b1",
   "metadata": {},
   "outputs": [],
   "source": [
    "D = np.array([1,2])"
   ]
  },
  {
   "cell_type": "code",
   "execution_count": 26,
   "id": "e39c6daf-fd12-4a74-babb-6f09a0b8628b",
   "metadata": {},
   "outputs": [
    {
     "ename": "ValueError",
     "evalue": "operands could not be broadcast together with shapes (3,) (2,) ",
     "output_type": "error",
     "traceback": [
      "\u001b[0;31m---------------------------------------------------------------------------\u001b[0m",
      "\u001b[0;31mValueError\u001b[0m                                Traceback (most recent call last)",
      "Cell \u001b[0;32mIn[26], line 1\u001b[0m\n\u001b[0;32m----> 1\u001b[0m \u001b[43mA\u001b[49m\u001b[38;5;241;43m+\u001b[39;49m\u001b[43mD\u001b[49m\n",
      "\u001b[0;31mValueError\u001b[0m: operands could not be broadcast together with shapes (3,) (2,) "
     ]
    }
   ],
   "source": [
    "A+D"
   ]
  },
  {
   "cell_type": "code",
   "execution_count": 28,
   "id": "3a618564-70ca-4f73-8dfe-54d77db65572",
   "metadata": {},
   "outputs": [
    {
     "data": {
      "text/plain": [
       "(array([1, 2, 3]), array([2, 3, 4]))"
      ]
     },
     "execution_count": 28,
     "metadata": {},
     "output_type": "execute_result"
    }
   ],
   "source": [
    "A,B"
   ]
  },
  {
   "cell_type": "code",
   "execution_count": 32,
   "id": "e419a74f-2f7f-483f-9d44-8b2d2e42bfdc",
   "metadata": {},
   "outputs": [
    {
     "data": {
      "text/plain": [
       "15"
      ]
     },
     "execution_count": 32,
     "metadata": {},
     "output_type": "execute_result"
    }
   ],
   "source": [
    "np.sum([A,B]) # Sequential Addition operation of all elements in all arrays."
   ]
  },
  {
   "cell_type": "code",
   "execution_count": 29,
   "id": "33ed9b9e-2f36-423d-ad47-4021880e094b",
   "metadata": {},
   "outputs": [
    {
     "data": {
      "text/plain": [
       "array([6, 9])"
      ]
     },
     "execution_count": 29,
     "metadata": {},
     "output_type": "execute_result"
    }
   ],
   "source": [
    "np.sum([A,B],axis=1)"
   ]
  },
  {
   "cell_type": "code",
   "execution_count": 36,
   "id": "f0a31f03-2967-418b-b9bc-15845ab04d19",
   "metadata": {},
   "outputs": [
    {
     "data": {
      "text/plain": [
       "(array([1, 2, 3]), (3,))"
      ]
     },
     "execution_count": 36,
     "metadata": {},
     "output_type": "execute_result"
    }
   ],
   "source": [
    "A,A.shape"
   ]
  },
  {
   "cell_type": "code",
   "execution_count": 42,
   "id": "1bdc9b5f-3d67-48fb-9abd-c3d800d1e35b",
   "metadata": {},
   "outputs": [
    {
     "data": {
      "text/plain": [
       "(3,)"
      ]
     },
     "execution_count": 42,
     "metadata": {},
     "output_type": "execute_result"
    }
   ],
   "source": [
    "A.shape"
   ]
  },
  {
   "cell_type": "code",
   "execution_count": 38,
   "id": "e3376f2c-6837-48bd-94a6-6b82d3d32a06",
   "metadata": {},
   "outputs": [],
   "source": [
    "X = np.array([[1,2,3],[2,3,3]])"
   ]
  },
  {
   "cell_type": "code",
   "execution_count": 40,
   "id": "f49315a4-429d-4dce-893d-cb864c2ebbff",
   "metadata": {},
   "outputs": [
    {
     "data": {
      "text/plain": [
       "array([[1, 2, 3],\n",
       "       [2, 3, 3]])"
      ]
     },
     "execution_count": 40,
     "metadata": {},
     "output_type": "execute_result"
    }
   ],
   "source": [
    "X"
   ]
  },
  {
   "cell_type": "code",
   "execution_count": 47,
   "id": "5077ab8f-93f5-4f71-94ec-3184c9acd257",
   "metadata": {},
   "outputs": [
    {
     "data": {
      "text/plain": [
       "2"
      ]
     },
     "execution_count": 47,
     "metadata": {},
     "output_type": "execute_result"
    }
   ],
   "source": [
    "X.ndim"
   ]
  },
  {
   "cell_type": "code",
   "execution_count": 48,
   "id": "5bce3658-aeb8-455c-9ee3-5a196ee4eb3d",
   "metadata": {},
   "outputs": [
    {
     "data": {
      "text/plain": [
       "1"
      ]
     },
     "execution_count": 48,
     "metadata": {},
     "output_type": "execute_result"
    }
   ],
   "source": [
    "A.ndim"
   ]
  },
  {
   "cell_type": "code",
   "execution_count": 39,
   "id": "c0c5cd12-1dbb-43b9-80f2-c055dc714bef",
   "metadata": {},
   "outputs": [
    {
     "data": {
      "text/plain": [
       "(2, 3)"
      ]
     },
     "execution_count": 39,
     "metadata": {},
     "output_type": "execute_result"
    }
   ],
   "source": [
    "X.shape"
   ]
  },
  {
   "cell_type": "code",
   "execution_count": 37,
   "id": "12c0f759-807b-4536-a210-196bd14588f3",
   "metadata": {},
   "outputs": [
    {
     "data": {
      "text/plain": [
       "(array([2, 3, 4]), (3,))"
      ]
     },
     "execution_count": 37,
     "metadata": {},
     "output_type": "execute_result"
    }
   ],
   "source": [
    "B,B.shape"
   ]
  },
  {
   "cell_type": "code",
   "execution_count": 44,
   "id": "ebfd41e4-8130-4386-9c55-248924064402",
   "metadata": {},
   "outputs": [
    {
     "data": {
      "text/plain": [
       "(array([[1, 2],\n",
       "        [2, 3]]),\n",
       " (2, 2))"
      ]
     },
     "execution_count": 44,
     "metadata": {},
     "output_type": "execute_result"
    }
   ],
   "source": [
    "E = np.array([[1,2],[2,3]])\n",
    "E,E.shape"
   ]
  },
  {
   "cell_type": "code",
   "execution_count": 43,
   "id": "1fc3b0e5-e69c-4bb0-b503-da7ef307a97c",
   "metadata": {},
   "outputs": [
    {
     "data": {
      "text/plain": [
       "array([1, 2, 3, 2, 3, 4])"
      ]
     },
     "execution_count": 43,
     "metadata": {},
     "output_type": "execute_result"
    }
   ],
   "source": [
    "np.hstack([A,B])"
   ]
  },
  {
   "cell_type": "code",
   "execution_count": 50,
   "id": "c4a04490-9483-4740-96a8-237bac912312",
   "metadata": {},
   "outputs": [
    {
     "data": {
      "text/plain": [
       "(1, 2)"
      ]
     },
     "execution_count": 50,
     "metadata": {},
     "output_type": "execute_result"
    }
   ],
   "source": [
    "A.ndim,E.ndim"
   ]
  },
  {
   "cell_type": "code",
   "execution_count": 52,
   "id": "db2b5226-dde9-403d-a534-ddc875ef39b1",
   "metadata": {},
   "outputs": [
    {
     "data": {
      "text/plain": [
       "array([[1, 2, 3],\n",
       "       [2, 3, 4]])"
      ]
     },
     "execution_count": 52,
     "metadata": {},
     "output_type": "execute_result"
    }
   ],
   "source": [
    "np.vstack([A,B])"
   ]
  },
  {
   "cell_type": "code",
   "execution_count": 63,
   "id": "c5bb8249-a895-4011-a230-2cd0731416df",
   "metadata": {},
   "outputs": [
    {
     "data": {
      "text/plain": [
       "15"
      ]
     },
     "execution_count": 63,
     "metadata": {},
     "output_type": "execute_result"
    }
   ],
   "source": [
    "np.sum([A,B])"
   ]
  },
  {
   "cell_type": "code",
   "execution_count": 59,
   "id": "724ee2c6-b5dc-4ab0-89de-393c544f00f0",
   "metadata": {},
   "outputs": [
    {
     "data": {
      "text/plain": [
       "array([ 2,  6, 12])"
      ]
     },
     "execution_count": 59,
     "metadata": {},
     "output_type": "execute_result"
    }
   ],
   "source": [
    "np.multiply(A,B)"
   ]
  },
  {
   "cell_type": "code",
   "execution_count": 61,
   "id": "9790b61c-289d-48ce-9f62-0499a02e2ec7",
   "metadata": {},
   "outputs": [
    {
     "data": {
      "text/plain": [
       "array([0.5       , 0.66666667, 0.75      ])"
      ]
     },
     "execution_count": 61,
     "metadata": {},
     "output_type": "execute_result"
    }
   ],
   "source": [
    "np.divide(A,B)"
   ]
  },
  {
   "cell_type": "code",
   "execution_count": 46,
   "id": "801e4cf1-cd71-4fef-b370-ac99c4dc0d1b",
   "metadata": {},
   "outputs": [
    {
     "ename": "ValueError",
     "evalue": "all the input arrays must have same number of dimensions, but the array at index 0 has 1 dimension(s) and the array at index 1 has 2 dimension(s)",
     "output_type": "error",
     "traceback": [
      "\u001b[0;31m---------------------------------------------------------------------------\u001b[0m",
      "\u001b[0;31mValueError\u001b[0m                                Traceback (most recent call last)",
      "Cell \u001b[0;32mIn[46], line 1\u001b[0m\n\u001b[0;32m----> 1\u001b[0m \u001b[43mnp\u001b[49m\u001b[38;5;241;43m.\u001b[39;49m\u001b[43mhstack\u001b[49m\u001b[43m(\u001b[49m\u001b[43m[\u001b[49m\u001b[43mA\u001b[49m\u001b[43m,\u001b[49m\u001b[43mE\u001b[49m\u001b[43m]\u001b[49m\u001b[43m)\u001b[49m\n",
      "File \u001b[0;32m<__array_function__ internals>:180\u001b[0m, in \u001b[0;36mhstack\u001b[0;34m(*args, **kwargs)\u001b[0m\n",
      "File \u001b[0;32m~/GTK/DeepLearningAI/env/lib/python3.11/site-packages/numpy/core/shape_base.py:343\u001b[0m, in \u001b[0;36mhstack\u001b[0;34m(tup)\u001b[0m\n\u001b[1;32m    341\u001b[0m \u001b[38;5;66;03m# As a special case, dimension 0 of 1-dimensional arrays is \"horizontal\"\u001b[39;00m\n\u001b[1;32m    342\u001b[0m \u001b[38;5;28;01mif\u001b[39;00m arrs \u001b[38;5;129;01mand\u001b[39;00m arrs[\u001b[38;5;241m0\u001b[39m]\u001b[38;5;241m.\u001b[39mndim \u001b[38;5;241m==\u001b[39m \u001b[38;5;241m1\u001b[39m:\n\u001b[0;32m--> 343\u001b[0m     \u001b[38;5;28;01mreturn\u001b[39;00m \u001b[43m_nx\u001b[49m\u001b[38;5;241;43m.\u001b[39;49m\u001b[43mconcatenate\u001b[49m\u001b[43m(\u001b[49m\u001b[43marrs\u001b[49m\u001b[43m,\u001b[49m\u001b[43m \u001b[49m\u001b[38;5;241;43m0\u001b[39;49m\u001b[43m)\u001b[49m\n\u001b[1;32m    344\u001b[0m \u001b[38;5;28;01melse\u001b[39;00m:\n\u001b[1;32m    345\u001b[0m     \u001b[38;5;28;01mreturn\u001b[39;00m _nx\u001b[38;5;241m.\u001b[39mconcatenate(arrs, \u001b[38;5;241m1\u001b[39m)\n",
      "File \u001b[0;32m<__array_function__ internals>:180\u001b[0m, in \u001b[0;36mconcatenate\u001b[0;34m(*args, **kwargs)\u001b[0m\n",
      "\u001b[0;31mValueError\u001b[0m: all the input arrays must have same number of dimensions, but the array at index 0 has 1 dimension(s) and the array at index 1 has 2 dimension(s)"
     ]
    }
   ],
   "source": [
    "np.hstack([A,E])"
   ]
  },
  {
   "cell_type": "code",
   "execution_count": 64,
   "id": "d4db1d97-b49d-4e9f-a948-d2fed05f0862",
   "metadata": {},
   "outputs": [
    {
     "data": {
      "text/plain": [
       "array([[1, 2],\n",
       "       [2, 3],\n",
       "       [3, 4]])"
      ]
     },
     "execution_count": 64,
     "metadata": {},
     "output_type": "execute_result"
    }
   ],
   "source": [
    "np.column_stack([A,B])"
   ]
  },
  {
   "cell_type": "code",
   "execution_count": 68,
   "id": "ca97ff95-f436-48c5-ba9a-2aead8084a21",
   "metadata": {},
   "outputs": [
    {
     "data": {
      "text/plain": [
       "[10, 15, 20, 25, 30, 35, 40, 45, 50, 55, 60, 65, 70, 75, 80, 85, 90, 95]"
      ]
     },
     "execution_count": 68,
     "metadata": {},
     "output_type": "execute_result"
    }
   ],
   "source": [
    "list(range(10,100,5))"
   ]
  },
  {
   "cell_type": "code",
   "execution_count": 67,
   "id": "c7986900-d931-4175-aa7e-2ccff21e1198",
   "metadata": {},
   "outputs": [
    {
     "data": {
      "text/plain": [
       "array([10, 15, 20, 25, 30, 35, 40, 45, 50, 55, 60, 65, 70, 75, 80, 85, 90,\n",
       "       95])"
      ]
     },
     "execution_count": 67,
     "metadata": {},
     "output_type": "execute_result"
    }
   ],
   "source": [
    "np.arange(10,100,5)"
   ]
  },
  {
   "cell_type": "code",
   "execution_count": 72,
   "id": "2718cd82-b1cd-4ac0-9f6a-d5a383667f0f",
   "metadata": {},
   "outputs": [],
   "source": [
    "Z = np.random.rand(10,10) # Normal Distribution"
   ]
  },
  {
   "cell_type": "code",
   "execution_count": 71,
   "id": "efc495f0-1c4d-478e-a95e-5abb75b12b04",
   "metadata": {},
   "outputs": [
    {
     "data": {
      "text/plain": [
       "(10, 10)"
      ]
     },
     "execution_count": 71,
     "metadata": {},
     "output_type": "execute_result"
    }
   ],
   "source": [
    "Z.shape"
   ]
  },
  {
   "cell_type": "code",
   "execution_count": 103,
   "id": "e9a1fc9f-1f15-496a-9171-cab342d7f8f5",
   "metadata": {},
   "outputs": [],
   "source": [
    "np.random.seed(100) ## ML model Weights Bias. "
   ]
  },
  {
   "cell_type": "code",
   "execution_count": 104,
   "id": "1cba7267-0d62-4feb-895a-2c14249e1b21",
   "metadata": {},
   "outputs": [
    {
     "data": {
      "text/plain": [
       "18"
      ]
     },
     "execution_count": 104,
     "metadata": {},
     "output_type": "execute_result"
    }
   ],
   "source": [
    "np.random.randint(10,100)"
   ]
  },
  {
   "cell_type": "code",
   "execution_count": 105,
   "id": "bbd9fab7-e440-41e4-b13b-1331c812dbc7",
   "metadata": {},
   "outputs": [
    {
     "data": {
      "text/plain": [
       "(3,)"
      ]
     },
     "execution_count": 105,
     "metadata": {},
     "output_type": "execute_result"
    }
   ],
   "source": [
    "A.shape"
   ]
  },
  {
   "cell_type": "code",
   "execution_count": 107,
   "id": "f1e4250b-2176-4f19-8566-df30a9bed5d4",
   "metadata": {},
   "outputs": [
    {
     "data": {
      "text/plain": [
       "array([[0., 0.],\n",
       "       [0., 0.]])"
      ]
     },
     "execution_count": 107,
     "metadata": {},
     "output_type": "execute_result"
    }
   ],
   "source": [
    "np.zeros((2,2))"
   ]
  },
  {
   "cell_type": "code",
   "execution_count": 108,
   "id": "249f393a-50a5-4d35-a5e3-ec5ff0deb644",
   "metadata": {},
   "outputs": [
    {
     "data": {
      "text/plain": [
       "array([[1., 1.],\n",
       "       [1., 1.]])"
      ]
     },
     "execution_count": 108,
     "metadata": {},
     "output_type": "execute_result"
    }
   ],
   "source": [
    "np.ones((2,2))"
   ]
  },
  {
   "cell_type": "code",
   "execution_count": 109,
   "id": "7bbdc616-a68e-495d-9c35-481e8d2b8bf7",
   "metadata": {},
   "outputs": [
    {
     "data": {
      "text/plain": [
       "array([[2, 2],\n",
       "       [2, 2]])"
      ]
     },
     "execution_count": 109,
     "metadata": {},
     "output_type": "execute_result"
    }
   ],
   "source": [
    "np.full((2,2),2)"
   ]
  },
  {
   "cell_type": "code",
   "execution_count": 15,
   "id": "2934f708-170b-440f-88ce-580cd1789911",
   "metadata": {},
   "outputs": [],
   "source": [
    "O = np.random.rand(2)"
   ]
  },
  {
   "cell_type": "code",
   "execution_count": 16,
   "id": "99449417-b265-4d4a-afc3-76f628460952",
   "metadata": {},
   "outputs": [
    {
     "data": {
      "text/plain": [
       "array([0.13202789, 0.03651757])"
      ]
     },
     "execution_count": 16,
     "metadata": {},
     "output_type": "execute_result"
    }
   ],
   "source": [
    "O"
   ]
  },
  {
   "cell_type": "code",
   "execution_count": 13,
   "id": "a7cfc52e-e5b3-44c4-aee9-983540874536",
   "metadata": {},
   "outputs": [
    {
     "data": {
      "text/plain": [
       "1"
      ]
     },
     "execution_count": 13,
     "metadata": {},
     "output_type": "execute_result"
    }
   ],
   "source": [
    "O.ndim"
   ]
  },
  {
   "cell_type": "code",
   "execution_count": 38,
   "id": "4a1743d5-66a9-4cf6-882b-9f68e70079cc",
   "metadata": {},
   "outputs": [
    {
     "data": {
      "text/plain": [
       "2"
      ]
     },
     "execution_count": 38,
     "metadata": {},
     "output_type": "execute_result"
    }
   ],
   "source": [
    "A = np.random.rand(2,3)\n",
    "A.ndim"
   ]
  },
  {
   "cell_type": "code",
   "execution_count": 50,
   "id": "955fd6a2-7896-4f75-be32-7b3110623f84",
   "metadata": {},
   "outputs": [
    {
     "data": {
      "text/plain": [
       "(2, 3)"
      ]
     },
     "execution_count": 50,
     "metadata": {},
     "output_type": "execute_result"
    }
   ],
   "source": [
    "A.shape"
   ]
  },
  {
   "cell_type": "code",
   "execution_count": 42,
   "id": "7a672ff1-6c09-43ce-8858-464cc8eef4df",
   "metadata": {},
   "outputs": [
    {
     "data": {
      "text/plain": [
       "array([[0.00529469, 0.21061371, 0.51930035],\n",
       "       [0.44443667, 0.67058404, 0.45482068]])"
      ]
     },
     "execution_count": 42,
     "metadata": {},
     "output_type": "execute_result"
    }
   ],
   "source": [
    "A"
   ]
  },
  {
   "cell_type": "code",
   "execution_count": 44,
   "id": "9b471598-a588-4447-9d20-031bef6f4084",
   "metadata": {},
   "outputs": [
    {
     "data": {
      "text/plain": [
       "array([0.44443667, 0.67058404])"
      ]
     },
     "execution_count": 44,
     "metadata": {},
     "output_type": "execute_result"
    }
   ],
   "source": [
    "A[1,:2]"
   ]
  },
  {
   "cell_type": "code",
   "execution_count": 45,
   "id": "5bc054fb-9b9f-4782-8bb4-97291a43acd6",
   "metadata": {},
   "outputs": [
    {
     "data": {
      "text/plain": [
       "array([0.21061371, 0.51930035])"
      ]
     },
     "execution_count": 45,
     "metadata": {},
     "output_type": "execute_result"
    }
   ],
   "source": [
    "A[0,1:]"
   ]
  },
  {
   "cell_type": "code",
   "execution_count": 49,
   "id": "f31c998f-8664-45a1-85df-2a0c761ecc88",
   "metadata": {},
   "outputs": [
    {
     "data": {
      "text/plain": [
       "array([[0.21061371, 0.51930035],\n",
       "       [0.67058404, 0.45482068]])"
      ]
     },
     "execution_count": 49,
     "metadata": {},
     "output_type": "execute_result"
    }
   ],
   "source": [
    "A[:2,1:]"
   ]
  },
  {
   "cell_type": "code",
   "execution_count": 51,
   "id": "682e4ed0-f096-482a-b66a-8a8a0643d171",
   "metadata": {},
   "outputs": [],
   "source": [
    "RubiksCube = np.random.rand(3,3,3)"
   ]
  },
  {
   "cell_type": "code",
   "execution_count": 52,
   "id": "80ab23c5-a96d-4304-8a94-9ac025829478",
   "metadata": {},
   "outputs": [
    {
     "data": {
      "text/plain": [
       "array([[[0.39824843, 0.02479525, 0.78337676],\n",
       "        [0.94153398, 0.25253086, 0.20293577],\n",
       "        [0.58293526, 0.50721075, 0.8393994 ]],\n",
       "\n",
       "       [[0.79048775, 0.63251763, 0.66015879],\n",
       "        [0.23882388, 0.03494367, 0.63397214],\n",
       "        [0.1533483 , 0.13254941, 0.14335111]],\n",
       "\n",
       "       [[0.19938404, 0.11684347, 0.28132269],\n",
       "        [0.70863836, 0.4335351 , 0.31242426],\n",
       "        [0.46185303, 0.92329677, 0.77730527]]])"
      ]
     },
     "execution_count": 52,
     "metadata": {},
     "output_type": "execute_result"
    }
   ],
   "source": [
    "RubiksCube"
   ]
  },
  {
   "cell_type": "code",
   "execution_count": 57,
   "id": "2c916495-0597-4efd-bbcc-fadfc9b53616",
   "metadata": {},
   "outputs": [
    {
     "data": {
      "text/plain": [
       "array([[0.19938404, 0.11684347, 0.28132269],\n",
       "       [0.70863836, 0.4335351 , 0.31242426],\n",
       "       [0.46185303, 0.92329677, 0.77730527]])"
      ]
     },
     "execution_count": 57,
     "metadata": {},
     "output_type": "execute_result"
    }
   ],
   "source": [
    "RubiksCube[2]"
   ]
  },
  {
   "cell_type": "code",
   "execution_count": 59,
   "id": "1212e70f-4f8f-40f8-a8b5-3cb3d473bbdb",
   "metadata": {},
   "outputs": [
    {
     "data": {
      "text/plain": [
       "array([[0.79048775, 0.63251763],\n",
       "       [0.23882388, 0.03494367]])"
      ]
     },
     "execution_count": 59,
     "metadata": {},
     "output_type": "execute_result"
    }
   ],
   "source": [
    "RubiksCube[1,:2,:2]"
   ]
  },
  {
   "cell_type": "code",
   "execution_count": 63,
   "id": "1a0260b6-10c9-4a79-8584-dfb30350f293",
   "metadata": {},
   "outputs": [
    {
     "data": {
      "text/plain": [
       "array([[0.79048775, 0.63251763],\n",
       "       [0.23882388, 0.03494367],\n",
       "       [0.1533483 , 0.13254941]])"
      ]
     },
     "execution_count": 63,
     "metadata": {},
     "output_type": "execute_result"
    }
   ],
   "source": [
    "RubiksCube[1,:3,:2]"
   ]
  },
  {
   "cell_type": "code",
   "execution_count": 64,
   "id": "08be3b44-c21e-4857-9608-5cc69104f057",
   "metadata": {},
   "outputs": [
    {
     "data": {
      "text/plain": [
       "array([[0.79048775, 0.63251763, 0.66015879],\n",
       "       [0.23882388, 0.03494367, 0.63397214]])"
      ]
     },
     "execution_count": 64,
     "metadata": {},
     "output_type": "execute_result"
    }
   ],
   "source": [
    "RubiksCube[1,:2,:3]"
   ]
  },
  {
   "cell_type": "code",
   "execution_count": 22,
   "id": "d7a9d8ca-1217-4ffb-a3bd-e20ba1531f79",
   "metadata": {},
   "outputs": [],
   "source": [
    "B = np.random.rand(3,2,2)"
   ]
  },
  {
   "cell_type": "code",
   "execution_count": 54,
   "id": "f850143e-d213-4665-8532-c1831a044b19",
   "metadata": {},
   "outputs": [
    {
     "data": {
      "text/plain": [
       "array([[0.28274563, 0.32583079],\n",
       "       [0.6227665 , 0.98665107]])"
      ]
     },
     "execution_count": 54,
     "metadata": {},
     "output_type": "execute_result"
    }
   ],
   "source": [
    "B[0]"
   ]
  },
  {
   "cell_type": "code",
   "execution_count": 23,
   "id": "1f078a07-a1a0-473a-b199-fd0413c76dac",
   "metadata": {},
   "outputs": [
    {
     "data": {
      "text/plain": [
       "3"
      ]
     },
     "execution_count": 23,
     "metadata": {},
     "output_type": "execute_result"
    }
   ],
   "source": [
    "B.ndim"
   ]
  },
  {
   "cell_type": "code",
   "execution_count": null,
   "id": "9686cf3a-8e2b-41aa-bb50-6df6b68875db",
   "metadata": {},
   "outputs": [],
   "source": [
    "B"
   ]
  },
  {
   "cell_type": "code",
   "execution_count": 25,
   "id": "6ea04292-3a70-4cae-8446-b44306400dc3",
   "metadata": {},
   "outputs": [],
   "source": [
    "B = np.random.rand(33,2,2)"
   ]
  },
  {
   "cell_type": "code",
   "execution_count": 26,
   "id": "1b854f94-9d5d-4279-b02e-2784924a5352",
   "metadata": {},
   "outputs": [
    {
     "data": {
      "text/plain": [
       "3"
      ]
     },
     "execution_count": 26,
     "metadata": {},
     "output_type": "execute_result"
    }
   ],
   "source": [
    "B.ndim"
   ]
  },
  {
   "cell_type": "code",
   "execution_count": 31,
   "id": "0d7b5594-bfe0-4994-99be-ef73f6436fd0",
   "metadata": {},
   "outputs": [],
   "source": [
    "C = np.random.rand(2,4,3,2,2)"
   ]
  },
  {
   "cell_type": "code",
   "execution_count": 32,
   "id": "acb4ad98-0a41-4657-9b70-f28325aa2ea6",
   "metadata": {},
   "outputs": [
    {
     "data": {
      "text/plain": [
       "5"
      ]
     },
     "execution_count": 32,
     "metadata": {},
     "output_type": "execute_result"
    }
   ],
   "source": [
    "C.ndim"
   ]
  },
  {
   "cell_type": "code",
   "execution_count": 33,
   "id": "c8a1e325-9da2-4997-af16-a6143f9c4595",
   "metadata": {},
   "outputs": [
    {
     "data": {
      "text/plain": [
       "array([[[[[0.91386353, 0.50784501],\n",
       "          [0.7073014 , 0.23083596]],\n",
       "\n",
       "         [[0.26501257, 0.80030435],\n",
       "          [0.67545319, 0.48232151]],\n",
       "\n",
       "         [[0.68826835, 0.1145654 ],\n",
       "          [0.16423548, 0.81755535]]],\n",
       "\n",
       "\n",
       "        [[[0.61521604, 0.17732964],\n",
       "          [0.89019473, 0.79973665]],\n",
       "\n",
       "         [[0.57266389, 0.85217327],\n",
       "          [0.95870843, 0.58804671]],\n",
       "\n",
       "         [[0.05669205, 0.69994016],\n",
       "          [0.82837239, 0.89670732]]],\n",
       "\n",
       "\n",
       "        [[[0.51278135, 0.97490405],\n",
       "          [0.24013067, 0.1668882 ]],\n",
       "\n",
       "         [[0.20563855, 0.89503825],\n",
       "          [0.69813218, 0.72976183]],\n",
       "\n",
       "         [[0.1308657 , 0.14138368],\n",
       "          [0.83500424, 0.32760216]]],\n",
       "\n",
       "\n",
       "        [[[0.16181332, 0.88886708],\n",
       "          [0.01363979, 0.87437424]],\n",
       "\n",
       "         [[0.43155835, 0.35343758],\n",
       "          [0.31359327, 0.11959998]],\n",
       "\n",
       "         [[0.17745733, 0.44923012],\n",
       "          [0.76207815, 0.04220558]]]],\n",
       "\n",
       "\n",
       "\n",
       "       [[[[0.07984432, 0.37527197],\n",
       "          [0.39380384, 0.64634882]],\n",
       "\n",
       "         [[0.28959891, 0.01874184],\n",
       "          [0.5716483 , 0.56461215]],\n",
       "\n",
       "         [[0.56690363, 0.93833504],\n",
       "          [0.62585192, 0.536107  ]]],\n",
       "\n",
       "\n",
       "        [[[0.39488684, 0.71676853],\n",
       "          [0.27631718, 0.61119635]],\n",
       "\n",
       "         [[0.51498931, 0.58798266],\n",
       "          [0.42593181, 0.28369892]],\n",
       "\n",
       "         [[0.36442587, 0.869929  ],\n",
       "          [0.71438573, 0.96981181]]],\n",
       "\n",
       "\n",
       "        [[[0.16544517, 0.72978678],\n",
       "          [0.764917  , 0.09020935]],\n",
       "\n",
       "         [[0.93539849, 0.23522267],\n",
       "          [0.45970445, 0.34413943]],\n",
       "\n",
       "         [[0.43327985, 0.1433403 ],\n",
       "          [0.37117015, 0.18904508]]],\n",
       "\n",
       "\n",
       "        [[[0.81773775, 0.82122283],\n",
       "          [0.26925136, 0.21714959]],\n",
       "\n",
       "         [[0.82332573, 0.75629715],\n",
       "          [0.2677424 , 0.7882651 ]],\n",
       "\n",
       "         [[0.58250123, 0.18394391],\n",
       "          [0.19436065, 0.58895128]]]]])"
      ]
     },
     "execution_count": 33,
     "metadata": {},
     "output_type": "execute_result"
    }
   ],
   "source": [
    "C"
   ]
  },
  {
   "cell_type": "code",
   "execution_count": null,
   "id": "5ed8c952-fdef-4280-9338-b67ee1305e50",
   "metadata": {},
   "outputs": [],
   "source": []
  }
 ],
 "metadata": {
  "kernelspec": {
   "display_name": "Python 3 (ipykernel)",
   "language": "python",
   "name": "python3"
  },
  "language_info": {
   "codemirror_mode": {
    "name": "ipython",
    "version": 3
   },
   "file_extension": ".py",
   "mimetype": "text/x-python",
   "name": "python",
   "nbconvert_exporter": "python",
   "pygments_lexer": "ipython3",
   "version": "3.11.3"
  }
 },
 "nbformat": 4,
 "nbformat_minor": 5
}
